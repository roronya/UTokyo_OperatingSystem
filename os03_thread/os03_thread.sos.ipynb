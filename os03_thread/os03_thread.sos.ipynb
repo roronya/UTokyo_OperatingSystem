{
 "cells": [
  {
   "cell_type": "markdown",
   "metadata": {
    "deletable": false,
    "editable": false,
    "kernel": "SoS",
    "nbgrader": {
     "cell_type": "markdown",
     "checksum": "d3c6f1fa21d9edb4e6a42cf2e01170e4",
     "grade": false,
     "grade_id": "c-001",
     "locked": true,
     "schema_version": 3,
     "solution": false,
     "task": false
    }
   },
   "source": [
    "\n",
    "#  オペレーティングシステム 演習 03\n",
    "#  スレッド"
   ]
  },
  {
   "cell_type": "markdown",
   "metadata": {
    "kernel": "SoS",
    "nbgrader": {
     "grade": false,
     "grade_id": "c-002",
     "locked": false,
     "schema_version": 3,
     "solution": false,
     "task": false
    }
   },
   "source": [
    "\n",
    "名前と学生証番号を書け. Enter your name and student ID.\n",
    "\n",
    " * 名前 Name: 金井優希\n",
    " * 学生証番号 Student ID: 03-249217\n"
   ]
  },
  {
   "cell_type": "markdown",
   "metadata": {
    "deletable": false,
    "editable": false,
    "kernel": "SoS",
    "nbgrader": {
     "cell_type": "markdown",
     "checksum": "39abda2522cb6a835aca0d028dce5ca2",
     "grade": false,
     "grade_id": "c-003",
     "locked": true,
     "schema_version": 3,
     "solution": false,
     "task": false
    }
   },
   "source": [
    "# 1. スレッド関連コマンド"
   ]
  },
  {
   "cell_type": "markdown",
   "metadata": {
    "deletable": false,
    "editable": false,
    "kernel": "SoS",
    "nbgrader": {
     "cell_type": "markdown",
     "checksum": "ebe62e1b1d749c6b3dd4018b75f59032",
     "grade": false,
     "grade_id": "c-004",
     "locked": true,
     "schema_version": 3,
     "solution": false,
     "task": false
    }
   },
   "source": [
    "## 1-1. ps auxmww\n",
    "* ps は現存するプロセスを表示するコマンド\n",
    "* mをつけると各プロセス内のスレッドも表示される"
   ]
  },
  {
   "cell_type": "markdown",
   "metadata": {
    "deletable": false,
    "editable": false,
    "kernel": "SoS",
    "nbgrader": {
     "cell_type": "markdown",
     "checksum": "cd2acc76827c254bf38e30d36687b8df",
     "grade": false,
     "grade_id": "c-005",
     "locked": true,
     "schema_version": 3,
     "solution": false,
     "task": false
    }
   },
   "source": [
    "* 以下によりシステムのすべてのプロセスのすべてのスレッドが表示される\n",
    "* 出力が一杯になりすぎたり, そのせいでエラーになったら一旦ファイルへ出力し, そのファイルを開けば良い\n",
    "* 例えば\n",
    "```\n",
    "ps auxmww > ps.txt\n",
    "```"
   ]
  },
  {
   "cell_type": "code",
   "execution_count": 2,
   "metadata": {
    "kernel": "Bash",
    "nbgrader": {
     "grade": false,
     "grade_id": "c-006",
     "locked": false,
     "schema_version": 3,
     "solution": false,
     "task": false
    }
   },
   "outputs": [],
   "source": [
    "ps auxmww > ps.txt"
   ]
  },
  {
   "cell_type": "markdown",
   "metadata": {
    "deletable": false,
    "editable": false,
    "kernel": "SoS",
    "nbgrader": {
     "cell_type": "markdown",
     "checksum": "acb67fc7d490b4e038325602c2d5d585",
     "grade": false,
     "grade_id": "c-007",
     "locked": true,
     "schema_version": 3,
     "solution": false,
     "task": false
    }
   },
   "source": [
    "\n",
    "# 2. スレッド\n",
    "## 2-1. C (POSIX Threads または Pthreads)\n",
    "* PthreadはUnix共通のスレッドAPI\n",
    "* 基本\n",
    "  * pthread_create でスレッドを作り, 実行\n",
    "  * pthread_join でスレッドの終了を待つ\n",
    "  * pthread_exit で呼び出したスレッドを終了させる\n",
    "  * pthread_self は呼び出したスレッドのthread IDを返す\n",
    "\n",
    "* 以下はともかくスレッドを作ってjoinするだけの例"
   ]
  },
  {
   "cell_type": "code",
   "execution_count": 1,
   "metadata": {
    "kernel": "Python 3 (ipykernel)",
    "nbgrader": {
     "grade": false,
     "grade_id": "c-008",
     "locked": false,
     "schema_version": 3,
     "solution": false,
     "task": false
    }
   },
   "outputs": [
    {
     "name": "stdout",
     "output_type": "stream",
     "text": [
      "Writing thread_create.c\n"
     ]
    }
   ],
   "source": [
    "%%writefile thread_create.c\n",
    "#include <err.h>\n",
    "#include <stdio.h>\n",
    "#include <stdlib.h>\n",
    "#include <unistd.h>\n",
    "#include <pthread.h>\n",
    "\n",
    "/* スレッドの開始関数 */\n",
    "void * f(void * arg) {\n",
    "  pthread_t thread_id = pthread_self();\n",
    "  int slp_n = 5;\n",
    "  for (int i = 0; i < slp_n; i++) {\n",
    "    printf(\"child[%lu]: (%d/%d)\\n\",\n",
    "           thread_id, i, slp_n);\n",
    "    fflush(stdout);\n",
    "    usleep(100 * 1000);\n",
    "  }\n",
    "  return arg + 1;\n",
    "}\n",
    "\n",
    "int main() {\n",
    "  pthread_t my_thread_id = pthread_self();\n",
    "  pthread_t child_thread_id;\n",
    "  /* スレッドを作る */\n",
    "  if (pthread_create(&child_thread_id, 0, f, 0)) {\n",
    "    err(1, \"pthread_create\");\n",
    "  }\n",
    "  int slp_n = 5;\n",
    "  for (int i = 0; i < slp_n; i++) {\n",
    "    printf(\"parent[%lu]: (%d/%d)\\n\", my_thread_id, i, slp_n);\n",
    "    fflush(stdout);\n",
    "    usleep(100 * 1000);\n",
    "  }\n",
    "  /* 終了待ち */\n",
    "  void * ret = 0;\n",
    "  if (pthread_join(child_thread_id, &ret)) {\n",
    "    err(1, \"pthread_join\");\n",
    "  }\n",
    "  printf(\"child thread returned %p\\n\", ret);\n",
    "  return 0;\n",
    "}"
   ]
  },
  {
   "cell_type": "code",
   "execution_count": 2,
   "metadata": {
    "kernel": "Bash",
    "nbgrader": {
     "grade": false,
     "grade_id": "c-009",
     "locked": false,
     "schema_version": 3,
     "solution": false,
     "task": false
    }
   },
   "outputs": [],
   "source": [
    "gcc -Wall thread_create.c -o thread_create -lpthread"
   ]
  },
  {
   "cell_type": "code",
   "execution_count": 3,
   "metadata": {
    "kernel": "Bash",
    "nbgrader": {
     "grade": false,
     "grade_id": "c-010",
     "locked": false,
     "schema_version": 3,
     "solution": false,
     "task": false
    }
   },
   "outputs": [
    {
     "name": "stdout",
     "output_type": "stream",
     "text": [
      "parent[140234227898176]: (0/5)\n",
      "child[140234227893824]: (0/5)\n",
      "parent[140234227898176]: (1/5)\n",
      "child[140234227893824]: (1/5)\n",
      "parent[140234227898176]: (2/5)\n",
      "child[140234227893824]: (2/5)\n",
      "parent[140234227898176]: (3/5)\n",
      "child[140234227893824]: (3/5)\n",
      "parent[140234227898176]: (4/5)\n",
      "child[140234227893824]: (4/5)\n",
      "child thread returned 0x1\n"
     ]
    }
   ],
   "source": [
    "./thread_create"
   ]
  },
  {
   "cell_type": "markdown",
   "metadata": {
    "deletable": false,
    "editable": false,
    "kernel": "SoS",
    "nbgrader": {
     "cell_type": "markdown",
     "checksum": "a99298521f8c1c3b5891f55626c9866d",
     "grade": false,
     "grade_id": "c-011",
     "locked": true,
     "schema_version": 3,
     "solution": false,
     "task": false
    }
   },
   "source": [
    "## 2-2. Python (threadingモジュール)\n",
    "* 基本\n",
    "  * th = threading.Thread(...) でスレッドオブジェクトを作り, th.start() で実行\n",
    "  * th.join() でスレッドの終了を待つ\n",
    "    * ただし pthread のAPIと違って子スレッドの終了ステータスは得られない(あまり必然性のない制限)\n",
    "  * threading.current_thread() は呼び出したスレッドのスレッドオブジェクトを返す\n",
    "    * th.native_id で スレッド th の OSレベルのthread IDが得られるようである"
   ]
  },
  {
   "cell_type": "code",
   "execution_count": 4,
   "metadata": {
    "kernel": "Python 3 (ipykernel)",
    "nbgrader": {
     "grade": false,
     "grade_id": "c-012",
     "locked": false,
     "schema_version": 3,
     "solution": false,
     "task": false
    }
   },
   "outputs": [
    {
     "name": "stdout",
     "output_type": "stream",
     "text": [
      "Writing thread_create.py\n"
     ]
    }
   ],
   "source": [
    "%%writefile thread_create.py\n",
    "import threading\n",
    "import time\n",
    "\n",
    "def f(arg):\n",
    "    th = threading.current_thread()\n",
    "    slp_n = 5\n",
    "    for i in range(slp_n):\n",
    "        print(f\"child[{th.native_id}]: ({i}/{slp_n})\", flush=True)\n",
    "    time.sleep(0.1)\n",
    "\n",
    "def main():\n",
    "    my_th = threading.current_thread()\n",
    "    child_th = threading.Thread(target=f, args=(0,))\n",
    "    child_th.start()\n",
    "    slp_n = 5\n",
    "    for i in range(slp_n):\n",
    "        print(f\"parent[{my_th.native_id}]: ({i}/{slp_n})\", flush=True)\n",
    "        time.sleep(0.1)\n",
    "    child_th.join()\n",
    "\n",
    "main()"
   ]
  },
  {
   "cell_type": "code",
   "execution_count": 5,
   "metadata": {
    "kernel": "Bash",
    "nbgrader": {
     "grade": false,
     "grade_id": "c-013",
     "locked": false,
     "schema_version": 3,
     "solution": false,
     "task": false
    }
   },
   "outputs": [
    {
     "name": "stdout",
     "output_type": "stream",
     "text": [
      "Command 'python' not found, did you mean:\n",
      "  command 'python3' from deb python3\n",
      "  command 'python' from deb python-is-python3\n"
     ]
    },
    {
     "ename": "",
     "evalue": "127",
     "output_type": "error",
     "traceback": []
    }
   ],
   "source": [
    "python thread_create.py"
   ]
  },
  {
   "cell_type": "markdown",
   "metadata": {
    "deletable": false,
    "editable": false,
    "kernel": "SoS",
    "nbgrader": {
     "cell_type": "markdown",
     "checksum": "1c8e8383f5ea9d036c2e2a8a31a2c00a",
     "grade": false,
     "grade_id": "c-014",
     "locked": true,
     "schema_version": 3,
     "solution": false,
     "task": false
    }
   },
   "source": [
    "\n",
    "# 3. スレッドに引数を渡す\n",
    "* 普通は, スレッドを複数作ったらそれぞれに違う仕事をやらせたい\n",
    "* そのためにスレッドが実行する関数(開始関数)に異なる引数を渡すのが普通だが, pthread のAPIでは開始関数がvoid* (ポインタ)型の引数1つしか取れないという制限がある (Pythonでは任意個の引数をタプルとして渡せる)\n",
    "```\n",
    "void * f(void *) { ... }\n",
    "```\n",
    "* そのため通常, 構造体を作りそれへのポインタを引数として渡す\n",
    "```\n",
    "typedef struct { int xxx; double yyy; ... } thread_arg_t;\n",
    "```\n",
    "* 開始関数の方では受け取った void* 型を構造体へのポインタ変数に代入し, そこから値を取り出すのが常套手段\n",
    "```\n",
    "void * f(void * arg_) {\n",
    "  thread_arg_t * arg = arg_;\n",
    "  arg->xxx, arg->yyy, ...\n",
    "}\n",
    "```\n",
    "* 開始関数はvoid* を受け取るが, それに構造体のポインタを渡しても問題はない\n",
    "\n",
    "## 3-1. C"
   ]
  },
  {
   "cell_type": "code",
   "execution_count": 6,
   "metadata": {
    "kernel": "Python 3 (ipykernel)",
    "nbgrader": {
     "grade": false,
     "grade_id": "c-015",
     "locked": false,
     "schema_version": 3,
     "solution": false,
     "task": false
    }
   },
   "outputs": [
    {
     "name": "stdout",
     "output_type": "stream",
     "text": [
      "Writing thread_create_arg.c\n"
     ]
    }
   ],
   "source": [
    "%%writefile thread_create_arg.c\n",
    "#include <assert.h>\n",
    "#include <err.h>\n",
    "#include <stdio.h>\n",
    "#include <stdlib.h>\n",
    "#include <unistd.h>\n",
    "#include <pthread.h>\n",
    "\n",
    "/* 開始関数に渡したい情報(構造体) */\n",
    "typedef struct {\n",
    "  long slp_usec;\n",
    "  long slp_n;\n",
    "  long id;                       /* 0,1,2,.. */\n",
    "  pthread_t th_id;\n",
    "} thread_arg_t;\n",
    "\n",
    "/* 開始関数 構造体へのポインタを (void *型で)受け取る */\n",
    "void * f(void * arg_) {\n",
    "  thread_arg_t * arg = arg_;\n",
    "  /* 本当に受け取りたい引数を構造体から受け取る */\n",
    "  long slp_usec = arg->slp_usec;\n",
    "  long slp_n = arg->slp_n;\n",
    "  long id = arg->id;\n",
    "  pthread_t thread_id = pthread_self();\n",
    "  for (int i = 0; i < slp_n; i++) {\n",
    "    printf(\"child[%ld/%lu] (%d/%ld): sleep %ld usec\\n\",\n",
    "           id, thread_id, i, slp_n, slp_usec);\n",
    "    fflush(stdout);\n",
    "    usleep(slp_usec);\n",
    "  }\n",
    "  return 0;\n",
    "}\n",
    "\n",
    "int main(int argc, char ** argv) {\n",
    "  int nthreads = (argc > 1 ? atoi(argv[1]) : 3);\n",
    "  thread_arg_t args[nthreads];\n",
    "  /* 指定された数のスレッドを作る */\n",
    "  for (int i = 0; i < nthreads; i++) {\n",
    "    args[i].slp_n = i + 2;\n",
    "    args[i].slp_usec = 1000 * 1000 / args[i].slp_n;\n",
    "    args[i].id = i;\n",
    "    if (pthread_create(&args[i].th_id, 0, f, &args[i])) {\n",
    "      err(1, \"pthread_create\");\n",
    "    }\n",
    "  }\n",
    "  /* 終了待ち */\n",
    "  for (int i = 0; i < nthreads; i++) {\n",
    "    void * ret;\n",
    "    if (pthread_join(args[i].th_id, &ret)) {\n",
    "      err(1, \"pthread_join\");\n",
    "    }\n",
    "    assert(ret == 0);\n",
    "    printf(\"child thread %d returned (%p)\\n\", i, ret);\n",
    "  }  \n",
    "  return 0;\n",
    "}"
   ]
  },
  {
   "cell_type": "code",
   "execution_count": 7,
   "metadata": {
    "kernel": "Bash",
    "nbgrader": {
     "grade": false,
     "grade_id": "c-016",
     "locked": false,
     "schema_version": 3,
     "solution": false,
     "task": false
    }
   },
   "outputs": [],
   "source": [
    "gcc -Wall -o thread_create_arg thread_create_arg.c -lpthread"
   ]
  },
  {
   "cell_type": "code",
   "execution_count": 8,
   "metadata": {
    "kernel": "Bash",
    "nbgrader": {
     "grade": false,
     "grade_id": "c-017",
     "locked": false,
     "schema_version": 3,
     "solution": false,
     "task": false
    }
   },
   "outputs": [
    {
     "name": "stdout",
     "output_type": "stream",
     "text": [
      "child[0/139927573435968] (0/2): sleep 500000 usec\n",
      "child[1/139927565043264] (0/3): sleep 333333 usec\n",
      "child[2/139927556650560] (0/4): sleep 250000 usec\n",
      "child[2/139927556650560] (1/4): sleep 250000 usec\n",
      "child[1/139927565043264] (1/3): sleep 333333 usec\n",
      "child[0/139927573435968] (1/2): sleep 500000 usec\n",
      "child[2/139927556650560] (2/4): sleep 250000 usec\n",
      "child[1/139927565043264] (2/3): sleep 333333 usec\n",
      "child[2/139927556650560] (3/4): sleep 250000 usec\n",
      "child thread 0 returned ((nil))\n",
      "child thread 1 returned ((nil))\n",
      "child thread 2 returned ((nil))\n"
     ]
    }
   ],
   "source": [
    "./thread_create_arg"
   ]
  },
  {
   "cell_type": "markdown",
   "metadata": {
    "deletable": false,
    "editable": false,
    "kernel": "SoS",
    "nbgrader": {
     "cell_type": "markdown",
     "checksum": "e5762b97f7f47b35b6e5071251bf8f44",
     "grade": false,
     "grade_id": "c-018",
     "locked": true,
     "schema_version": 3,
     "solution": false,
     "task": false
    }
   },
   "source": [
    "## 3-2. Python"
   ]
  },
  {
   "cell_type": "code",
   "execution_count": 9,
   "metadata": {
    "kernel": "Python 3 (ipykernel)",
    "nbgrader": {
     "grade": false,
     "grade_id": "c-019",
     "locked": false,
     "schema_version": 3,
     "solution": false,
     "task": false
    }
   },
   "outputs": [
    {
     "name": "stdout",
     "output_type": "stream",
     "text": [
      "Writing thread_create_arg.py\n"
     ]
    }
   ],
   "source": [
    "%%writefile thread_create_arg.py\n",
    "import sys\n",
    "import threading\n",
    "import time\n",
    "\n",
    "def f(slp_n, slp_usec, idx):\n",
    "    th = threading.current_thread()\n",
    "    for i in range(slp_n):\n",
    "        print(f\"child[{idx}/{th.native_id}] ({i}/{slp_n}): sleep {slp_usec} usec\",\n",
    "               flush=True)\n",
    "        time.sleep(slp_usec * 1e-6)\n",
    "\n",
    "def main():\n",
    "    nthreads = int(sys.argv[1]) if 1 < len(sys.argv) else 3\n",
    "    # 指定された数のスレッドを作る\n",
    "    threads = []\n",
    "    for i in range(nthreads):\n",
    "        slp_n = i + 2\n",
    "        th = threading.Thread(target=f, args=(slp_n, 1e6 / slp_n, i))\n",
    "        th.start()\n",
    "        threads.append(th)\n",
    "    # 終了待ち\n",
    "    for th in threads:\n",
    "        th.join()\n",
    "\n",
    "main()"
   ]
  },
  {
   "cell_type": "code",
   "execution_count": 10,
   "metadata": {
    "kernel": "Bash",
    "nbgrader": {
     "grade": false,
     "grade_id": "c-020",
     "locked": false,
     "schema_version": 3,
     "solution": false,
     "task": false
    }
   },
   "outputs": [
    {
     "name": "stdout",
     "output_type": "stream",
     "text": [
      "child[0/2229442] (0/2): sleep 500000.0 usec\n",
      "child[1/2229443] (0/3): sleep 333333.3333333333 usec\n",
      "child[2/2229444] (0/4): sleep 250000.0 usec\n",
      "child[2/2229444] (1/4): sleep 250000.0 usec\n",
      "child[1/2229443] (1/3): sleep 333333.3333333333 usec\n",
      "child[0/2229442] (1/2): sleep 500000.0 usec\n",
      "child[2/2229444] (2/4): sleep 250000.0 usec\n",
      "child[1/2229443] (2/3): sleep 333333.3333333333 usec\n",
      "child[2/2229444] (3/4): sleep 250000.0 usec\n"
     ]
    }
   ],
   "source": [
    "python3 thread_create_arg.py"
   ]
  },
  {
   "cell_type": "markdown",
   "metadata": {
    "deletable": false,
    "editable": false,
    "kernel": "SoS",
    "nbgrader": {
     "cell_type": "markdown",
     "checksum": "9b4f840b1ea4912a8ec27a56daa5b93b",
     "grade": false,
     "grade_id": "c-021",
     "locked": true,
     "schema_version": 3,
     "solution": false,
     "task": false
    }
   },
   "source": [
    "\n",
    "# 4. スレッド vs プロセスの違いを理解する\n",
    "* 違いは色々あるものの, どちらもCPU (正確には仮想コア)を複数使うための道具であることも確か\n",
    "* 端的にその挙動の違いは\n",
    "  * 「1プロセス間の複数スレッドはメモリ(変数)を共有している」\n",
    "  * 「複数プロセス間ではメモリは共有されない」\n",
    "という違いがある\n",
    "\n",
    "* 特にfork()は「コピー」を作っているのであって親プロセスと子プロセスでデータ(変数)が共有されているわけではないことに注意\n",
    "\n",
    "* 以下が違いを示す例\n",
    "* 表示される結果を予想してから実行し, 何が起きているのかを理解せよ\n"
   ]
  },
  {
   "cell_type": "markdown",
   "metadata": {
    "deletable": false,
    "editable": false,
    "kernel": "SoS",
    "nbgrader": {
     "cell_type": "markdown",
     "checksum": "657fab795bfa07a096c17acaac0f5f15",
     "grade": false,
     "grade_id": "c-022",
     "locked": true,
     "schema_version": 3,
     "solution": false,
     "task": false
    }
   },
   "source": [
    "* プロセス(fork)を使う例\n",
    "\n",
    "* C"
   ]
  },
  {
   "cell_type": "code",
   "execution_count": 11,
   "metadata": {
    "kernel": "Python 3 (ipykernel)",
    "nbgrader": {
     "grade": false,
     "grade_id": "c-023",
     "locked": false,
     "schema_version": 3,
     "solution": false,
     "task": false
    }
   },
   "outputs": [
    {
     "name": "stdout",
     "output_type": "stream",
     "text": [
      "Writing thread_vs_fork_fork.c\n"
     ]
    }
   ],
   "source": [
    "%%writefile thread_vs_fork_fork.c\n",
    "#include <err.h>\n",
    "#include <stdio.h>\n",
    "#include <stdlib.h>\n",
    "#include <unistd.h>\n",
    "#include <sys/types.h>\n",
    "#include <sys/wait.h>\n",
    "\n",
    "int x = 0;\n",
    "\n",
    "/* スレッドの開始関数 */\n",
    "void * f(void * arg) {\n",
    "  x += 321;\n",
    "  return 0;\n",
    "}\n",
    "\n",
    "int main() {\n",
    "  x = 123;\n",
    "  \n",
    "  pid_t pid = fork();\n",
    "  if (pid == -1) {\n",
    "    err(1, \"fork\");\n",
    "  } else if (pid == 0) {          /* child */\n",
    "    f(0);\n",
    "    return 0;\n",
    "  } else {\n",
    "    int ws;\n",
    "    pid_t cid = waitpid(pid, &ws, 0);\n",
    "    if (cid == -1) err(1, \"waitpid\");\n",
    "    if (WIFEXITED(ws)) {\n",
    "      printf(\"exited, status=%d\\n\", WEXITSTATUS(ws));\n",
    "      fflush(stdout);\n",
    "    } else if (WIFSIGNALED(ws)) {\n",
    "      printf(\"killed by signal %d\\n\", WTERMSIG(ws));\n",
    "      fflush(stdout);\n",
    "    }\n",
    "    printf(\"after the child finished, x = %d\\n\", x);\n",
    "  }\n",
    "  return 0;\n",
    "}"
   ]
  },
  {
   "cell_type": "code",
   "execution_count": 12,
   "metadata": {
    "kernel": "Bash",
    "nbgrader": {
     "grade": false,
     "grade_id": "c-024",
     "locked": false,
     "schema_version": 3,
     "solution": false,
     "task": false
    }
   },
   "outputs": [],
   "source": [
    "gcc -Wall -o thread_vs_fork_fork thread_vs_fork_fork.c"
   ]
  },
  {
   "cell_type": "code",
   "execution_count": 13,
   "metadata": {
    "kernel": "Bash",
    "nbgrader": {
     "grade": false,
     "grade_id": "c-025",
     "locked": false,
     "schema_version": 3,
     "solution": false,
     "task": false
    }
   },
   "outputs": [
    {
     "name": "stdout",
     "output_type": "stream",
     "text": [
      "exited, status=0\n",
      "after the child finished, x = 123\n"
     ]
    }
   ],
   "source": [
    "./thread_vs_fork_fork"
   ]
  },
  {
   "cell_type": "markdown",
   "metadata": {
    "deletable": false,
    "editable": false,
    "kernel": "SoS",
    "nbgrader": {
     "cell_type": "markdown",
     "checksum": "7bc028ed88f30f32ff5e7e7301748e65",
     "grade": false,
     "grade_id": "c-026",
     "locked": true,
     "schema_version": 3,
     "solution": false,
     "task": false
    }
   },
   "source": [
    "* Python"
   ]
  },
  {
   "cell_type": "code",
   "execution_count": 14,
   "metadata": {
    "kernel": "Python 3 (ipykernel)",
    "nbgrader": {
     "grade": false,
     "grade_id": "c-027",
     "locked": false,
     "schema_version": 3,
     "solution": false,
     "task": false
    }
   },
   "outputs": [
    {
     "name": "stdout",
     "output_type": "stream",
     "text": [
      "Writing thread_vs_fork_fork.py\n"
     ]
    }
   ],
   "source": [
    "%%writefile thread_vs_fork_fork.py\n",
    "import os\n",
    "\n",
    "x = 0\n",
    "\n",
    "def f():\n",
    "    global x\n",
    "    x += 321\n",
    "\n",
    "def main():\n",
    "    global x\n",
    "    x = 123\n",
    "  \n",
    "    pid = os.fork()\n",
    "    if pid == 0:\n",
    "        f()\n",
    "    else:\n",
    "        cid, ws = os.waitpid(pid, 0)\n",
    "        if os.WIFEXITED(ws):\n",
    "            print(f\"exited, status={os.WEXITSTATUS(ws)}\", flush=True)\n",
    "        elif os.WIFSIGNALED(ws):\n",
    "            print(f\"killed by signal {os.WTERMSIG(ws)}\", flush=True)\n",
    "        print(f\"after the child finished, x = {x}\")\n",
    "\n",
    "main()"
   ]
  },
  {
   "cell_type": "code",
   "execution_count": 15,
   "metadata": {
    "kernel": "Bash",
    "nbgrader": {
     "grade": false,
     "grade_id": "c-028",
     "locked": false,
     "schema_version": 3,
     "solution": false,
     "task": false
    }
   },
   "outputs": [
    {
     "name": "stdout",
     "output_type": "stream",
     "text": [
      "exited, status=0\n",
      "after the child finished, x = 123\n"
     ]
    }
   ],
   "source": [
    "python3 thread_vs_fork_fork.py"
   ]
  },
  {
   "cell_type": "markdown",
   "metadata": {
    "deletable": false,
    "editable": false,
    "kernel": "SoS",
    "nbgrader": {
     "cell_type": "markdown",
     "checksum": "1fddd137a6ac0f9bac29bef97b6076eb",
     "grade": false,
     "grade_id": "c-029",
     "locked": true,
     "schema_version": 3,
     "solution": false,
     "task": false
    }
   },
   "source": [
    "* スレッド(pthread_create)を使う例\n",
    "\n",
    "* C"
   ]
  },
  {
   "cell_type": "code",
   "execution_count": 16,
   "metadata": {
    "kernel": "Python 3 (ipykernel)",
    "nbgrader": {
     "grade": false,
     "grade_id": "c-030",
     "locked": false,
     "schema_version": 3,
     "solution": false,
     "task": false
    }
   },
   "outputs": [
    {
     "name": "stdout",
     "output_type": "stream",
     "text": [
      "Writing thread_vs_fork_thread.c\n"
     ]
    }
   ],
   "source": [
    "%%writefile thread_vs_fork_thread.c\n",
    "#include <err.h>\n",
    "#include <stdio.h>\n",
    "#include <stdlib.h>\n",
    "#include <unistd.h>\n",
    "#include <pthread.h>\n",
    "\n",
    "int x = 0;\n",
    "\n",
    "/* スレッドの開始関数 */\n",
    "void * f(void * arg) {\n",
    "  x += 321;\n",
    "  return 0;\n",
    "}\n",
    "\n",
    "int main() {\n",
    "  pthread_t child_thread_id;\n",
    "  x = 123;\n",
    "  \n",
    "  /* スレッドを作る */\n",
    "  if (pthread_create(&child_thread_id, 0, f, 0)) {\n",
    "    err(1, \"pthread_create\");\n",
    "  }\n",
    "  /* 終了待ち */\n",
    "  void * ret = 0;\n",
    "  if (pthread_join(child_thread_id, &ret)) {\n",
    "    err(1, \"pthread_join\");\n",
    "  }\n",
    "  printf(\"after the child finished, x = %d\\n\", x);\n",
    "  return 0;\n",
    "}"
   ]
  },
  {
   "cell_type": "code",
   "execution_count": 17,
   "metadata": {
    "kernel": "Bash",
    "nbgrader": {
     "grade": false,
     "grade_id": "c-031",
     "locked": false,
     "schema_version": 3,
     "solution": false,
     "task": false
    }
   },
   "outputs": [],
   "source": [
    "gcc -Wall -o thread_vs_fork_thread thread_vs_fork_thread.c -lpthread"
   ]
  },
  {
   "cell_type": "code",
   "execution_count": 18,
   "metadata": {
    "kernel": "Bash",
    "nbgrader": {
     "grade": false,
     "grade_id": "c-032",
     "locked": false,
     "schema_version": 3,
     "solution": false,
     "task": false
    }
   },
   "outputs": [
    {
     "name": "stdout",
     "output_type": "stream",
     "text": [
      "after the child finished, x = 444\n"
     ]
    }
   ],
   "source": [
    "./thread_vs_fork_thread"
   ]
  },
  {
   "cell_type": "markdown",
   "metadata": {
    "deletable": false,
    "editable": false,
    "kernel": "SoS",
    "nbgrader": {
     "cell_type": "markdown",
     "checksum": "d536a8cf658383c91232b299fa2b4f8b",
     "grade": false,
     "grade_id": "c-033",
     "locked": true,
     "schema_version": 3,
     "solution": false,
     "task": false
    }
   },
   "source": [
    "* Python"
   ]
  },
  {
   "cell_type": "code",
   "execution_count": 1,
   "metadata": {
    "kernel": "Python 3 (ipykernel)",
    "nbgrader": {
     "grade": false,
     "grade_id": "c-034",
     "locked": false,
     "schema_version": 3,
     "solution": false,
     "task": false
    }
   },
   "outputs": [
    {
     "name": "stdout",
     "output_type": "stream",
     "text": [
      "Overwriting thread_vs_fork_thread.py\n"
     ]
    },
    {
     "name": "stderr",
     "output_type": "stream",
     "text": [
      "Process SoS_Worker-1:\n",
      "Traceback (most recent call last):\n",
      "  File \"/usr/lib/python3.10/multiprocessing/process.py\", line 314, in _bootstrap\n",
      "    self.run()\n",
      "  File \"/usr/local/lib/python3.10/dist-packages/sos/workers.py\", line 243, in run\n",
      "    env.ctrl_socket.send(\n",
      "  File \"/usr/local/lib/python3.10/dist-packages/zmq/sugar/socket.py\", line 701, in send\n",
      "    return super().send(data, flags=flags, copy=copy, track=track)\n",
      "  File \"_zmq.py\", line 1092, in zmq.backend.cython._zmq.Socket.send\n",
      "  File \"_zmq.py\", line 1140, in zmq.backend.cython._zmq.Socket.send\n",
      "  File \"_zmq.py\", line 1344, in zmq.backend.cython._zmq._send_copy\n",
      "  File \"_zmq.py\", line 1339, in zmq.backend.cython._zmq._send_copy\n",
      "zmq.error.ZMQError: Operation cannot be accomplished in current state\n",
      "  File \"_zmq.py\", line 179, in zmq.backend.cython._zmq._check_rc\n"
     ]
    }
   ],
   "source": [
    "%%writefile thread_vs_fork_thread.py\n",
    "import os\n",
    "import threading\n",
    "\n",
    "x = 0\n",
    "\n",
    "def f():\n",
    "    global x\n",
    "    x += 321\n",
    "\n",
    "def main():\n",
    "    global x\n",
    "    x = 123\n",
    "    th = threading.Thread(target=f)\n",
    "    th.start()\n",
    "    th.join()\n",
    "    print(f\"after the child finished, x = {x}\")\n",
    "\n",
    "main()"
   ]
  },
  {
   "cell_type": "code",
   "execution_count": 2,
   "metadata": {
    "kernel": "Bash",
    "nbgrader": {
     "grade": false,
     "grade_id": "c-035",
     "locked": false,
     "schema_version": 3,
     "solution": false,
     "task": false
    }
   },
   "outputs": [
    {
     "name": "stdout",
     "output_type": "stream",
     "text": [
      "after the child finished, x = 444\n"
     ]
    }
   ],
   "source": [
    "python3 thread_vs_fork_thread.py"
   ]
  },
  {
   "cell_type": "markdown",
   "metadata": {
    "deletable": false,
    "editable": false,
    "kernel": "SoS",
    "nbgrader": {
     "cell_type": "markdown",
     "checksum": "106336d753ebc28df06974223cd8ea7e",
     "grade": false,
     "grade_id": "c-036",
     "locked": true,
     "schema_version": 3,
     "solution": false,
     "task": false
    }
   },
   "source": [
    "# <font color=\"green\"> Problem 1 :  スレッドの練習</font>\n",
    "以下のようなプログラムを書け.\n",
    "\n",
    "1. 時刻をナノ秒単位で取得(Linux: clock_gettime または gettimeofday, Mac: gettimeofday; manを参照. Python time.time())\n",
    "1. 以下を多数回($n$回)繰り返す\n",
    " * 子スレッドを作る. 子スレッドは, 何もしない関数do_nothingを実行する\n",
    "  * 親スレッドはただちに子スレッドの終了を待つ\n",
    "3. 時刻をナノ秒単位で取得\n",
    "4. 1回あたりの時間をナノ秒単位で出力\n",
    "\n",
    "do_nothingは以下のような関数.\n",
    "\n",
    "```\n",
    "void * do_nothing(void *) {\n",
    "  return 0;\n",
    "}  \n",
    "```"
   ]
  },
  {
   "cell_type": "markdown",
   "metadata": {
    "deletable": false,
    "editable": false,
    "kernel": "SoS",
    "nbgrader": {
     "cell_type": "markdown",
     "checksum": "2eef7e731128821eb9b2ef3e9fc4d532",
     "grade": false,
     "grade_id": "c-037",
     "locked": true,
     "schema_version": 3,
     "solution": false,
     "task": false
    }
   },
   "source": [
    "* $n$はコマンドラインから取得できるようにする\n",
    "* 以下のコードを修正して上記を達成せよ\n",
    "\n",
    "* C"
   ]
  },
  {
   "cell_type": "code",
   "execution_count": 31,
   "metadata": {
    "deletable": false,
    "kernel": "Python 3 (ipykernel)",
    "nbgrader": {
     "cell_type": "code",
     "checksum": "34771bc792d33bedbc73c137c97402c0",
     "grade": true,
     "grade_id": "p-001",
     "locked": false,
     "points": 1,
     "schema_version": 3,
     "solution": true,
     "task": false
    }
   },
   "outputs": [
    {
     "name": "stdout",
     "output_type": "stream",
     "text": [
      "Overwriting time_thread_create.c\n"
     ]
    }
   ],
   "source": [
    "\n",
    "%%writefile time_thread_create.c\n",
    "/* 必要な #include を補うこと (man ページを参照) */\n",
    "#include <err.h>\n",
    "#include <stdio.h>\n",
    "#include <stdlib.h>\n",
    "#include <time.h>\n",
    "#include <pthread.h>\n",
    "\n",
    "long cur_time() {\n",
    "  struct timespec ts[1];\n",
    "  clock_gettime(CLOCK_REALTIME, ts);\n",
    "  return ts->tv_sec * 1000000000L + ts->tv_nsec;\n",
    "}\n",
    "\n",
    "void * do_nothing(void * arg) {\n",
    "  /**\n",
    "  pthread_t my_thread_id = pthread_self();  \n",
    "  printf(\"thread_id: %lu\\n\", my_thread_id);\n",
    "  **/\n",
    "  return arg;\n",
    "}\n",
    "\n",
    "int main(int argc, char ** argv) {\n",
    "  int n = (argc > 1 ? atoi(argv[1]) : 5);\n",
    "  long t0 = cur_time();\n",
    "  pthread_t child_thread_id;\n",
    "\n",
    "  for (int i=0;i<n;i++) {    \n",
    "    if (pthread_create(&child_thread_id, 0, do_nothing, 0)) {\n",
    "      err(1, \"pthread_create\");\n",
    "    }\n",
    "    void * ret = 0;\n",
    "    if (pthread_join(child_thread_id, &ret)) {\n",
    "      err(1, \"pthread_join\");\n",
    "    }\n",
    "  }\n",
    "  long t1 = cur_time();\n",
    "  long dt = t1 - t0;\n",
    "  printf(\"%ld nsec to pthrea_create-and-join %d threads (%ld nsec/thread)\\n\",\n",
    "         dt, n, dt / n);\n",
    "  return 0;\n",
    "}"
   ]
  },
  {
   "cell_type": "code",
   "execution_count": 33,
   "metadata": {
    "deletable": false,
    "kernel": "Bash",
    "nbgrader": {
     "cell_type": "code",
     "checksum": "ba07c10fad90c16fcea428b2bdc40af3",
     "grade": true,
     "grade_id": "p-002",
     "locked": false,
     "points": 1,
     "schema_version": 3,
     "solution": true,
     "task": false
    }
   },
   "outputs": [],
   "source": [
    "gcc -O3 -Wall -Wextra -o time_thread_create time_thread_create.c -lpthread"
   ]
  },
  {
   "cell_type": "code",
   "execution_count": 32,
   "metadata": {
    "kernel": "Bash",
    "nbgrader": {
     "grade": false,
     "grade_id": "c-038",
     "locked": false,
     "schema_version": 3,
     "solution": false,
     "task": false
    }
   },
   "outputs": [
    {
     "name": "stdout",
     "output_type": "stream",
     "text": [
      "thread_id: 139905256420928\n",
      "thread_id: 139905256420928\n",
      "thread_id: 139905256420928\n",
      "thread_id: 139905256420928\n",
      "thread_id: 139905256420928\n",
      "1792597 nsec to pthrea_create-and-join 5 threads (358519 nsec/thread)\n"
     ]
    }
   ],
   "source": [
    "./time_thread_create"
   ]
  },
  {
   "cell_type": "markdown",
   "metadata": {
    "deletable": false,
    "editable": false,
    "kernel": "SoS",
    "nbgrader": {
     "cell_type": "markdown",
     "checksum": "3b6c8240363252f32b54d6cab6885c5c",
     "grade": false,
     "grade_id": "c-039",
     "locked": true,
     "schema_version": 3,
     "solution": false,
     "task": false
    }
   },
   "source": [
    "* 以下のコマンドラインを色々変更して, 1回あたりの時間を計測せよ\n",
    "* 正しく動いているかを確認するために, 子スレッド(do_nothing関数)で何かを表示するとか, 子スレッドのstatus (do_nothingの返り値)を変えてそれが正しく受け取れていることを確認するなどせよ\n",
    "* 時間を計測するときはそれらの表示を消すこと(消さないと, 測っているのは出力時間が大半を占めることになる)"
   ]
  },
  {
   "cell_type": "code",
   "execution_count": 1,
   "metadata": {
    "deletable": false,
    "kernel": "Bash",
    "nbgrader": {
     "cell_type": "code",
     "checksum": "8d0f6c741b935cf80b378d70bfc584ba",
     "grade": true,
     "grade_id": "p-003",
     "locked": false,
     "points": 1,
     "schema_version": 3,
     "solution": true,
     "task": false
    }
   },
   "outputs": [
    {
     "name": "stdout",
     "output_type": "stream",
     "text": [
      "2405188 nsec to pthrea_create-and-join 10 threads (240518 nsec/thread)\n"
     ]
    }
   ],
   "source": [
    "./time_thread_create 10"
   ]
  },
  {
   "cell_type": "code",
   "execution_count": 2,
   "metadata": {
    "kernel": "Bash"
   },
   "outputs": [
    {
     "name": "stdout",
     "output_type": "stream",
     "text": [
      "19341221 nsec to pthrea_create-and-join 100 threads (193412 nsec/thread)\n"
     ]
    }
   ],
   "source": [
    "./time_thread_create 100"
   ]
  },
  {
   "cell_type": "code",
   "execution_count": 3,
   "metadata": {
    "kernel": "Bash"
   },
   "outputs": [
    {
     "name": "stdout",
     "output_type": "stream",
     "text": [
      "154208660 nsec to pthrea_create-and-join 1000 threads (154208 nsec/thread)\n"
     ]
    }
   ],
   "source": [
    "./time_thread_create 1000"
   ]
  },
  {
   "cell_type": "code",
   "execution_count": 4,
   "metadata": {
    "kernel": "Bash"
   },
   "outputs": [
    {
     "name": "stdout",
     "output_type": "stream",
     "text": [
      "825600987 nsec to pthrea_create-and-join 10000 threads (82560 nsec/thread)\n"
     ]
    }
   ],
   "source": [
    "./time_thread_create 10000"
   ]
  },
  {
   "cell_type": "code",
   "execution_count": 5,
   "metadata": {
    "kernel": "Bash"
   },
   "outputs": [
    {
     "name": "stdout",
     "output_type": "stream",
     "text": [
      "5905819087 nsec to pthrea_create-and-join 100000 threads (59058 nsec/thread)\n"
     ]
    }
   ],
   "source": [
    "./time_thread_create 100000"
   ]
  },
  {
   "cell_type": "code",
   "execution_count": 6,
   "metadata": {
    "kernel": "Bash"
   },
   "outputs": [
    {
     "name": "stdout",
     "output_type": "stream",
     "text": [
      "39203974489 nsec to pthrea_create-and-join 1000000 threads (39203 nsec/thread)\n"
     ]
    }
   ],
   "source": [
    "./time_thread_create 1000000"
   ]
  },
  {
   "cell_type": "markdown",
   "metadata": {
    "deletable": false,
    "editable": false,
    "kernel": "SoS",
    "nbgrader": {
     "cell_type": "markdown",
     "checksum": "587d1a81debe7edfca866b98b76ad8b1",
     "grade": false,
     "grade_id": "c-040",
     "locked": true,
     "schema_version": 3,
     "solution": false,
     "task": false
    }
   },
   "source": [
    "* Python"
   ]
  },
  {
   "cell_type": "code",
   "execution_count": 9,
   "metadata": {
    "deletable": false,
    "kernel": "Python 3 (ipykernel)",
    "nbgrader": {
     "cell_type": "code",
     "checksum": "e0961272bd9494ce0ed114f7dd7fcf5d",
     "grade": true,
     "grade_id": "p-004",
     "locked": false,
     "points": 1,
     "schema_version": 3,
     "solution": true,
     "task": false
    }
   },
   "outputs": [
    {
     "name": "stdout",
     "output_type": "stream",
     "text": [
      "Overwriting time_thread_create.py\n"
     ]
    }
   ],
   "source": [
    "\n",
    "%%writefile time_thread_create.py\n",
    "import sys\n",
    "import threading\n",
    "import time\n",
    "\n",
    "def cur_time():\n",
    "    return int(time.time() * 1e9)\n",
    "\n",
    "def do_nothing():\n",
    "    # print(threading.current_thread())\n",
    "    return\n",
    "\n",
    "def main():\n",
    "    n = int(sys.argv[1]) if 1 < len(sys.argv) else 5\n",
    "    t0 = cur_time()\n",
    "\n",
    "    # print(threading.current_thread())\n",
    "    for i in range(n):\n",
    "        child_th = threading.Thread(target=do_nothing, args=())\n",
    "        child_th.start()\n",
    "        child_th.join()\n",
    "        \n",
    "  \n",
    "    t1 = cur_time()\n",
    "    dt = t1 - t0\n",
    "    print(f\"{dt} nsec to thread_create-and-join {n} threads ({dt/n} nsec/thread)\")\n",
    "\n",
    "main()"
   ]
  },
  {
   "cell_type": "code",
   "execution_count": 10,
   "metadata": {
    "kernel": "Bash",
    "nbgrader": {
     "grade": false,
     "grade_id": "c-041",
     "locked": false,
     "schema_version": 3,
     "solution": false,
     "task": false
    }
   },
   "outputs": [
    {
     "name": "stdout",
     "output_type": "stream",
     "text": [
      "1292800 nsec to thread_create-and-join 5 threads (258560.0 nsec/thread)\n"
     ]
    }
   ],
   "source": [
    "python3 time_thread_create.py"
   ]
  },
  {
   "cell_type": "markdown",
   "metadata": {
    "deletable": false,
    "editable": false,
    "kernel": "SoS",
    "nbgrader": {
     "cell_type": "markdown",
     "checksum": "1f9b2a6f7b67b53f8885db64394ddabe",
     "grade": false,
     "grade_id": "c-042",
     "locked": true,
     "schema_version": 3,
     "solution": false,
     "task": false
    }
   },
   "source": [
    "* Cと同様に測定せよ"
   ]
  },
  {
   "cell_type": "code",
   "execution_count": 11,
   "metadata": {
    "deletable": false,
    "kernel": "Bash",
    "nbgrader": {
     "cell_type": "code",
     "checksum": "05d217974884f882471e2663152b02d9",
     "grade": true,
     "grade_id": "p-005",
     "locked": false,
     "points": 1,
     "schema_version": 3,
     "solution": true,
     "task": false
    }
   },
   "outputs": [
    {
     "name": "stdout",
     "output_type": "stream",
     "text": [
      "2170112 nsec to thread_create-and-join 10 threads (217011.2 nsec/thread)\n"
     ]
    }
   ],
   "source": [
    "\n",
    "python3 time_thread_create.py 10"
   ]
  },
  {
   "cell_type": "code",
   "execution_count": 12,
   "metadata": {
    "kernel": "Bash"
   },
   "outputs": [
    {
     "name": "stdout",
     "output_type": "stream",
     "text": [
      "23618304 nsec to thread_create-and-join 100 threads (236183.04 nsec/thread)\n"
     ]
    }
   ],
   "source": [
    "\n",
    "python3 time_thread_create.py 100"
   ]
  },
  {
   "cell_type": "code",
   "execution_count": 13,
   "metadata": {
    "kernel": "Bash"
   },
   "outputs": [
    {
     "name": "stdout",
     "output_type": "stream",
     "text": [
      "196647680 nsec to thread_create-and-join 1000 threads (196647.68 nsec/thread)\n"
     ]
    }
   ],
   "source": [
    "\n",
    "python3 time_thread_create.py 1000"
   ]
  },
  {
   "cell_type": "code",
   "execution_count": 14,
   "metadata": {
    "kernel": "Bash"
   },
   "outputs": [
    {
     "name": "stdout",
     "output_type": "stream",
     "text": [
      "2783703296 nsec to thread_create-and-join 10000 threads (278370.3296 nsec/thread)\n"
     ]
    }
   ],
   "source": [
    "\n",
    "python3 time_thread_create.py 10000"
   ]
  },
  {
   "cell_type": "code",
   "execution_count": 15,
   "metadata": {
    "kernel": "Bash"
   },
   "outputs": [
    {
     "name": "stdout",
     "output_type": "stream",
     "text": [
      "14664035840 nsec to thread_create-and-join 100000 threads (146640.3584 nsec/thread)\n"
     ]
    }
   ],
   "source": [
    "\n",
    "python3 time_thread_create.py 100000"
   ]
  },
  {
   "cell_type": "code",
   "execution_count": 16,
   "metadata": {
    "kernel": "Bash"
   },
   "outputs": [
    {
     "name": "stdout",
     "output_type": "stream",
     "text": [
      "81013771776 nsec to thread_create-and-join 1000000 threads (81013.771776 nsec/thread)\n"
     ]
    }
   ],
   "source": [
    "\n",
    "python3 time_thread_create.py 1000000"
   ]
  },
  {
   "cell_type": "code",
   "execution_count": 23,
   "metadata": {
    "kernel": "Python 3 (ipykernel)"
   },
   "outputs": [
    {
     "data": {
      "image/png": "[encoded data removed]",
      "text/plain": [
       "<Figure size 1000x600 with 1 Axes>"
      ]
     },
     "metadata": {},
     "output_type": "display_data"
    }
   ],
   "source": [
    "import matplotlib.pyplot as plt\n",
    "\n",
    "n = [10, 100, 1000, 10000, 100000, 1000000]\n",
    "# c_total =  [2405188, 19341221, 154208660, 825600987,  5905819087,  39203974489]\n",
    "# py_total = [2170112, 23618304, 196647680, 2783703296, 14664035840, 81013771776]\n",
    "c =  [240518, 193412, 154208, 82560,  59058,  39203]\n",
    "py = [217011, 236183, 196647, 278370, 146640, 81013]\n",
    "\n",
    "plt.figure(figsize=(10, 6))\n",
    "plt.plot(n, c, marker='o', label='c')\n",
    "plt.plot(n, py, marker='o', label='py')\n",
    "\n",
    "# 軸のラベル\n",
    "plt.xlabel('n')\n",
    "plt.ylabel('Values')\n",
    "plt.title('Line Graph of n vs c and py')\n",
    "\n",
    "# 軸のスケールを対数に変更\n",
    "plt.xscale('log')\n",
    "plt.yscale('log')\n",
    "\n",
    "# 凡例の表示\n",
    "plt.legend()\n",
    "\n",
    "# グラフの表示\n",
    "plt.show()"
   ]
  },
  {
   "cell_type": "markdown",
   "metadata": {
    "kernel": "Python 3 (ipykernel)"
   },
   "source": [
    "|         |       10 |      100 |    1,000 |   10,000 |  100,000 | 1,000,000 |\n",
    "|---------|---------:|---------:|---------:|---------:|---------:|----------:|\n",
    "| c       |  240,518 |  193,412 |  154,208 |   82,560 |   59,058 |    39,203 |\n",
    "| py      |  217,011 |  236,183 |  196,647 |  278,370 |  146,640 |    81,013 |\n"
   ]
  },
  {
   "cell_type": "markdown",
   "metadata": {
    "kernel": "Python 3 (ipykernel)"
   },
   "source": [
    "# 観察結果\n",
    "- ループ回数が1000まではCもPythonも1threadの実行時間は変わらない。\n",
    "- ループ回数を1万を超えるとCほうが明らかにPythonより早くなる。かつ、ループ回数1000にくらべて約2倍速くなっている。\n",
    "- さらに10万、100万と呼び出し回数を増やすとCの性能は改善していく。\n",
    "- この傾向はPythonにも当てはまっているが、Pythonの場合は10万回の呼び出しから改善の傾向にある\n",
    "\n",
    "# 考察\n",
    "- 呼び出しを繰り返すことによってdo_nothing関数がCPUキャッシュに乗るようになり呼び出しの性能が改善されている？\n",
    "- CよりもPythonのほうが関数呼び出しのオーバーヘッドが大きくCPUキャッシュに乗りづらいのではないか\n",
    "  "
   ]
  },
  {
   "cell_type": "code",
   "execution_count": null,
   "metadata": {
    "kernel": "Python 3 (ipykernel)"
   },
   "outputs": [],
   "source": []
  }
 ],
 "metadata": {
  "kernelspec": {
   "display_name": "SoS",
   "language": "sos",
   "name": "sos"
  },
  "language_info": {
   "codemirror_mode": "sos",
   "file_extension": ".sos",
   "mimetype": "text/x-sos",
   "name": "sos",
   "nbconvert_exporter": "sos_notebook.converter.SoS_Exporter",
   "pygments_lexer": "sos"
  },
  "sos": {
   "kernels": [
    [
     "Bash",
     "bash",
     "bash",
     "",
     "shell"
    ],
    [
     "Python 3 (ipykernel)",
     "python3",
     "python3",
     "",
     {
      "name": "ipython",
      "version": 3
     }
    ]
   ],
   "panel": {
    "displayed": true,
    "height": 0
   },
   "version": "0.23.3"
  }
 },
 "nbformat": 4,
 "nbformat_minor": 4
}
