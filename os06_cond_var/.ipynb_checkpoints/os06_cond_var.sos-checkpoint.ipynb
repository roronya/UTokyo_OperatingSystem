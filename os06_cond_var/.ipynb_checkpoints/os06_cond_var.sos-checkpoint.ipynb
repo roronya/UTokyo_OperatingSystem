{
 "cells": [
  {
   "cell_type": "markdown",
   "metadata": {
    "deletable": false,
    "editable": false,
    "kernel": "SoS",
    "nbgrader": {
     "cell_type": "markdown",
     "checksum": "b8991acb68cbdedf7b9240a3e0ef2689",
     "grade": false,
     "grade_id": "c-001",
     "locked": true,
     "schema_version": 3,
     "solution": false,
     "task": false
    }
   },
   "source": [
    "\n",
    "#  オペレーティングシステム 演習 06\n",
    "#  条件変数"
   ]
  },
  {
   "cell_type": "markdown",
   "metadata": {
    "kernel": "SoS",
    "nbgrader": {
     "grade": false,
     "grade_id": "c-002",
     "locked": false,
     "schema_version": 3,
     "solution": false,
     "task": false
    }
   },
   "source": [
    "\n",
    "名前と学生証番号を書け. Enter your name and student ID.\n",
    "\n",
    " * 名前 Name: 金井優希\n",
    " * 学生証番号 Student ID: 03-249217\n"
   ]
  },
  {
   "cell_type": "markdown",
   "metadata": {
    "deletable": false,
    "editable": false,
    "kernel": "SoS",
    "nbgrader": {
     "cell_type": "markdown",
     "checksum": "463233869c1d14518f79778c566a0664",
     "grade": false,
     "grade_id": "c-003",
     "locked": true,
     "schema_version": 3,
     "solution": false,
     "task": false
    }
   },
   "source": [
    "# 1. 条件変数\n",
    "* もう一つの代表的な同期APIは条件変数\n",
    "* 条件変数は汎用的な同期機構であり, つまり, 「待つ(ブロックする)」「起こす」という二つの操作だけを提供する\n",
    "* どういう条件で待つか, 起こすかというのは条件変数を使う方が決める\n",
    "\n",
    "## 1-1. C\n",
    "* C言語 Pthreadの条件変数関連のAPIは以下\n",
    "  * [pthread_cond_init](https://linux.die.net/man/3/pthread_cond_init)\n",
    "  * [pthread_cond_destroy](https://linux.die.net/man/3/pthread_cond_destroy)\n",
    "  * [pthread_cond_wait](https://linux.die.net/man/3/pthread_cond_wait)\n",
    "  * [pthread_cond_signal](https://linux.die.net/man/3/pthread_cond_signal)\n",
    "  * [pthread_cond_broadcast](https://linux.die.net/man/3/pthread_cond_broadcast)\n",
    "\n",
    "* テンプレートは,\n",
    "  * 何かデータ構造を見て, 望む状態_C_になっていなければ待つ\n",
    "  * さらにそのデータ構造を変更して, 必要であれば待っているかもしれない人を起こす\n",
    "というもので, それを以下のようにして実現する\n",
    "\n",
    "```\n",
    "pthread_mutex_lock(m);\n",
    "while (1) {\n",
    "    ...\n",
    "    if (望む状態) break;\n",
    "    pthread_cond_wait(c, m); // ...じゃないので寝る\n",
    "}\n",
    "変更;\n",
    "場合により, pthread_cond_broadcast(c); // またはsignal\n",
    "pthread_mutex_unlock(m);\n",
    "```\n",
    "\n",
    "## 1-2. Python\n",
    "* Python threadingの条件変数関連のAPIは以下\n",
    "* Pthreadと少し違うのは m を条件変数を作る際に渡すことができること\n",
    "  * c = threading.Condition([m]) # m は Lock() オブジェクト\n",
    "    * mを省略するとmを新しく作ったのと同じ意味になる\n",
    "  * c.acquire()  # m.acquire() と同じ\n",
    "  * c.release()  # m.release() と同じ\n",
    "  * c.wait()     # pthread_cond_wait 相当\n",
    "  * c.notify()   # pthread_cond_signal 相当\n",
    "  * c.notify_all() # pthread_cond_broadcast 相当\n",
    "\n",
    "* テンプレートは,\n",
    "  * 何かデータ構造を見て, 望む状態_C_になっていなければ待つ\n",
    "  * さらにそのデータ構造を変更して, 必要であれば待っているかもしれない人を起こす\n",
    "というもので, それを以下のようにして実現する\n",
    "\n",
    "```\n",
    "c.acquire()\n",
    "while 1:\n",
    "    ...\n",
    "    if 望む状態: break\n",
    "    c.wait() # ...じゃないので寝る\n",
    "}\n",
    "変更\n",
    "場合により, c.notify_all() # またはc.notify()\n",
    "c.release()\n",
    "```\n",
    "\n",
    "# 2. 飽和カウンタ\n",
    "## 2-1. C \n",
    "* 条件変数を使うもっとも簡単な例題として, 飽和カウンタを作ってみよう\n",
    "* 飽和カウンタは上で作ったcounter_tとほぼ同じAPI (名前は scounter_t としておこう)\n",
    "* 違いは以下\n",
    "  * 初期化時に容量(capacity)を指定する. capacityはカウンタが取りうる値の最大値を意味する\n",
    "  * 加算 (inc)をする際にcapacityを越えそうになったら(つまり元々値がcapacityだったら)条件変数の上でブロックする\n",
    "* API  \n",
    "  * データ型\n",
    "```\n",
    "typedef struct { ... } scounter_t;\n",
    "```\n",
    "  * 0 にする \n",
    "```\n",
    "void scounter_init(scounter_t * c, long capacity);\n",
    "```\n",
    "  * +1 する (返り値: 深い意味はないが, 元の値を返すとする)\n",
    "```\n",
    "long scounter_inc(scounter_t * c);\n",
    "```\n",
    "  * -1 する (返り値: 深い意味はないが, 元の値を返すとする)\n",
    "```\n",
    "long scounter_dec(scounter_t * c);\n",
    "```\n",
    "  * 今の値を返す\n",
    "```\n",
    "long scounter_get(scounter_t * c);\n",
    "```\n",
    "\n",
    "* 以下は capacity を無視した版 (mutex は使っているが条件変数は使っていない)"
   ]
  },
  {
   "cell_type": "code",
   "execution_count": 24,
   "metadata": {
    "kernel": "Python 3 (ipykernel)",
    "nbgrader": {
     "grade": false,
     "grade_id": "c-004",
     "locked": false,
     "schema_version": 3,
     "solution": false,
     "task": false
    }
   },
   "outputs": [
    {
     "name": "stdout",
     "output_type": "stream",
     "text": [
      "Overwriting scounter.c\n"
     ]
    }
   ],
   "source": [
    "%%writefile scounter.c\n",
    "/* 注: このプログラムはOMP_NUM_THREADSを使わずにコマンドラインで受け取った引数でスレッド数を決めている(#pragma omp parallel num_threads(...)) */\n",
    "\n",
    "#include <assert.h>\n",
    "#include <stdio.h>\n",
    "#include <stdlib.h>\n",
    "#include <pthread.h>\n",
    "#include <omp.h>\n",
    "\n",
    "void die(char * msg) {\n",
    "  perror(msg);\n",
    "  exit(1);\n",
    "}\n",
    "\n",
    "double cur_time() {\n",
    "  struct timespec ts[1];\n",
    "  clock_gettime(CLOCK_REALTIME, ts);\n",
    "  return ts->tv_sec + ts->tv_nsec * 1.0e-9;\n",
    "}\n",
    "\n",
    "/* 飽和カウンタ */\n",
    "typedef struct {\n",
    "  long x;\n",
    "  long capacity;\n",
    "  pthread_mutex_t m[1];\n",
    "} scounter_t;\n",
    "\n",
    "/* 初期化(値を0にする) */\n",
    "void scounter_init(scounter_t * s, long capacity) {\n",
    "  s->x = 0;\n",
    "  s->capacity = capacity;\n",
    "  if (pthread_mutex_init(s->m, 0)) {\n",
    "    die(\"pthread_mutex_init\");\n",
    "  }\n",
    "}\n",
    "\n",
    "/* +1 ただしcapacityに達していたら待つ */\n",
    "long scounter_inc(scounter_t * s) {\n",
    "  pthread_mutex_lock(s->m);\n",
    "  long x = s->x;\n",
    "  s->x = x + 1;\n",
    "  pthread_mutex_unlock(s->m);\n",
    "  assert(x < s->capacity);\n",
    "  return x;\n",
    "}\n",
    "\n",
    "/* -1 */\n",
    "long scounter_dec(scounter_t * s) {\n",
    "  pthread_mutex_lock(s->m);\n",
    "  long x = s->x;\n",
    "  s->x = x - 1;\n",
    "  pthread_mutex_unlock(s->m);\n",
    "  return x;\n",
    "}\n",
    "\n",
    "/* 現在の値を返す */\n",
    "long scounter_get(scounter_t * s) {\n",
    "  return s->x;\n",
    "}\n",
    "\n",
    "int main(int argc, char ** argv) {\n",
    "  int i = 1;\n",
    "  /* incを呼ぶスレッド数 */\n",
    "  int n_inc_threads = (argc > i ? atoi(argv[i]) : 3); i++;\n",
    "  /* decを呼ぶスレッド数 */\n",
    "  int n_dec_threads = (argc > i ? atoi(argv[i]) : 2); i++;\n",
    "  /* incとdecが呼ばれる回数(全スレッドの合計) */\n",
    "  long n            = (argc > i ? atol(argv[i]) : 10000); i++;\n",
    "  /* 飽和する値 */\n",
    "  long capacity     = (argc > i ? atol(argv[i]) : 10000); i++;\n",
    "  \n",
    "  scounter_t s[1];\n",
    "  scounter_init(s, capacity);\n",
    "\n",
    "  printf(\"increment threads : %d\\n\", n_inc_threads);\n",
    "  printf(\"decrement threads : %d\\n\", n_dec_threads);\n",
    "  printf(\"increments/decrements : %ld\\n\", n);\n",
    "  printf(\"capacity : %ld\\n\", capacity);\n",
    "  \n",
    "  double t0 = cur_time();\n",
    "#pragma omp parallel num_threads(n_inc_threads + n_dec_threads)\n",
    "  {\n",
    "    int idx = omp_get_thread_num();\n",
    "    if (idx < n_inc_threads) {\n",
    "      /* increment */\n",
    "      long a = n *  idx      / n_inc_threads;\n",
    "      long b = n * (idx + 1) / n_inc_threads;\n",
    "      for (long i = a; i < b; i++) {\n",
    "        long x = scounter_inc(s);\n",
    "        assert(x < capacity);\n",
    "      }\n",
    "    } else {\n",
    "      /* decrement */\n",
    "      idx -= n_dec_threads;\n",
    "      long a = n *  idx      / n_dec_threads;\n",
    "      long b = n * (idx + 1) / n_dec_threads;\n",
    "      for (long i = a; i < b; i++) {\n",
    "        long x = scounter_dec(s);\n",
    "        assert(x <= capacity);\n",
    "      }\n",
    "    }\n",
    "  }\n",
    "  double t1 = cur_time();\n",
    "  printf(\"took %.9f sec\\n\", t1 - t0);\n",
    "  long x = scounter_get(s);\n",
    "  printf(\"%s : value at the end = %ld\\n\", (x == 0? \"OK\" : \"NG\"), x);\n",
    "  return (x == 0 ? 0 : 1);\n",
    "}"
   ]
  },
  {
   "cell_type": "code",
   "execution_count": 25,
   "metadata": {
    "kernel": "Bash",
    "nbgrader": {
     "grade": false,
     "grade_id": "c-005",
     "locked": false,
     "schema_version": 3,
     "solution": false,
     "task": false
    }
   },
   "outputs": [],
   "source": [
    "gcc -Wall -fopenmp -o scounter scounter.c"
   ]
  },
  {
   "cell_type": "markdown",
   "metadata": {
    "deletable": false,
    "editable": false,
    "kernel": "SoS",
    "nbgrader": {
     "cell_type": "markdown",
     "checksum": "2c3de9bc849607868b312e19b6d2e3a6",
     "grade": false,
     "grade_id": "c-006",
     "locked": true,
     "schema_version": 3,
     "solution": false,
     "task": false
    }
   },
   "source": [
    "* 実行は以下\n",
    "```\n",
    "./scounter INCするスレッド数 DECするスレッド数 INC(DEC)する回数 CAPACITY\n",
    "```\n",
    "\n",
    "* 例えば以下は 3スレッドがincを呼び, 2スレッドがdecを呼ぶ\n",
    "* inc, decはそれぞれ3スレッド, 2スレッドの合計で, 10000回ずつ呼ばれる\n",
    "* capacityも10000で, inc (dec)の回数と同じにしているので, カウンタは実際には飽和しない"
   ]
  },
  {
   "cell_type": "code",
   "execution_count": 26,
   "metadata": {
    "kernel": "Bash",
    "nbgrader": {
     "grade": false,
     "grade_id": "c-007",
     "locked": false,
     "schema_version": 3,
     "solution": false,
     "task": false
    }
   },
   "outputs": [
    {
     "name": "stdout",
     "output_type": "stream",
     "text": [
      "increment threads : 3\n",
      "decrement threads : 2\n",
      "increments/decrements : 10000\n",
      "capacity : 10000\n",
      "took 0.004935026 sec\n",
      "OK : value at the end = 0\n"
     ]
    }
   ],
   "source": [
    "./scounter 3 2 10000 10000"
   ]
  },
  {
   "cell_type": "markdown",
   "metadata": {
    "deletable": false,
    "editable": false,
    "kernel": "SoS",
    "nbgrader": {
     "cell_type": "markdown",
     "checksum": "f0230407208a27809ba329dc8f9cdbef",
     "grade": false,
     "grade_id": "c-008",
     "locked": true,
     "schema_version": 3,
     "solution": false,
     "task": false
    }
   },
   "source": [
    "* 一方, inc回数 &gt; 容量とすると, ほとんどの場合, 途中でエラーになる"
   ]
  },
  {
   "cell_type": "code",
   "execution_count": 27,
   "metadata": {
    "kernel": "Bash",
    "nbgrader": {
     "grade": false,
     "grade_id": "c-009",
     "locked": false,
     "schema_version": 3,
     "solution": false,
     "task": false
    }
   },
   "outputs": [
    {
     "name": "stdout",
     "output_type": "stream",
     "text": [
      "increment threads : 3\n",
      "decrement threads : 2\n",
      "increments/decrements : 100000\n",
      "capacity : 10000\n",
      "scounter: scounter.c:42: scounter_inc: Assertion `x < s->capacity' failed.\n",
      "scounter: scounter.c:42: scounter_inc: Assertion `x < s->capacity' failed.\n",
      "Aborted (core dumped)\n"
     ]
    },
    {
     "ename": "",
     "evalue": "134",
     "output_type": "error",
     "traceback": []
    }
   ],
   "source": [
    "./scounter 3 2 100000 10000"
   ]
  },
  {
   "cell_type": "markdown",
   "metadata": {
    "deletable": false,
    "editable": false,
    "kernel": "SoS",
    "nbgrader": {
     "cell_type": "markdown",
     "checksum": "1d5dd91c4b3320b1f909da7002a78ae0",
     "grade": false,
     "grade_id": "c-010",
     "locked": true,
     "schema_version": 3,
     "solution": false,
     "task": false
    }
   },
   "source": [
    "* 条件変数を使ってこれを直すのが課題である"
   ]
  },
  {
   "cell_type": "markdown",
   "metadata": {
    "deletable": false,
    "editable": false,
    "kernel": "SoS",
    "nbgrader": {
     "cell_type": "markdown",
     "checksum": "7fdcebdd36467bf8a78d2849873e6fe4",
     "grade": false,
     "grade_id": "c-011",
     "locked": true,
     "schema_version": 3,
     "solution": false,
     "task": false
    }
   },
   "source": [
    "## 2-2. Python\n",
    "* Python 版 API  \n",
    "  * データ型\n",
    "```\n",
    "class scounter:\n",
    "  ...\n",
    "```\n",
    "  * 値0 のscounterを作る\n",
    "```\n",
    "s = scounter(capacity)\n",
    "```\n",
    "  * +1 する (返り値: 深い意味はないが, 元の値を返すとする)\n",
    "```\n",
    "s.inc()\n",
    "```\n",
    "  * -1 する (返り値: 深い意味はないが, 元の値を返すとする)\n",
    "```\n",
    "s.dec()\n",
    "```\n",
    "  * 今の値を返す\n",
    "```\n",
    "s.get()\n",
    "```\n",
    "\n",
    "* 以下は capacity を無視した版 (mutex は使っているが条件変数は使っていない)"
   ]
  },
  {
   "cell_type": "code",
   "execution_count": 5,
   "metadata": {
    "kernel": "Python 3 (ipykernel)",
    "nbgrader": {
     "grade": false,
     "grade_id": "c-012",
     "locked": false,
     "schema_version": 3,
     "solution": false,
     "task": false
    }
   },
   "outputs": [
    {
     "name": "stdout",
     "output_type": "stream",
     "text": [
      "Overwriting scounter.py\n"
     ]
    }
   ],
   "source": [
    "%%writefile scounter.py\n",
    "import sys\n",
    "import threading\n",
    "import time\n",
    "\n",
    "class scounter:\n",
    "    \"\"\"\n",
    "    飽和カウンタ\n",
    "    \"\"\"\n",
    "    def __init__(self, capacity):\n",
    "        self.x = 0\n",
    "        self.capacity = capacity\n",
    "        self.m = threading.Lock()\n",
    "    def inc(self):\n",
    "        self.m.acquire()\n",
    "        x = self.x\n",
    "        self.x = x + 1\n",
    "        self.m.release()\n",
    "        return x\n",
    "    def dec(self):\n",
    "        self.m.acquire()\n",
    "        x = self.x\n",
    "        self.x = x - 1\n",
    "        self.m.release()\n",
    "        return x\n",
    "    def get(self):\n",
    "        return self.x\n",
    "\n",
    "def main():\n",
    "    argv = sys.argv\n",
    "    # incを呼ぶスレッド数 \n",
    "    n_inc_threads = int(argv[1]) if 1 < len(argv) else 3\n",
    "    # decを呼ぶスレッド数 \n",
    "    n_dec_threads = int(argv[2]) if 2 < len(argv) else 2\n",
    "    # incとdecが呼ばれる回数(全スレッドの合計)\n",
    "    n             = int(argv[3]) if 3 < len(argv) else 10000\n",
    "    # 飽和する値\n",
    "    capacity      = int(argv[4]) if 4 < len(argv) else 10000\n",
    "    s = scounter(capacity)\n",
    "    print(f\"increment threads : {n_inc_threads}\")\n",
    "    print(f\"decrement threads : {n_dec_threads}\")\n",
    "    print(f\"increments/decrements : {n}\")\n",
    "    print(f\"capacity : {capacity}\")\n",
    "    def inc_thread_fun(idx):\n",
    "        # increment\n",
    "        a = n *  idx      // n_inc_threads\n",
    "        b = n * (idx + 1) // n_inc_threads\n",
    "        for i in range(a, b):\n",
    "            x = s.inc()\n",
    "            assert(x < capacity), (x, capacity)\n",
    "    def dec_thread_fun(idx):\n",
    "        a = n *  idx      // n_dec_threads;\n",
    "        b = n * (idx + 1) // n_dec_threads;\n",
    "        for i in range(a, b):\n",
    "            x = s.dec()\n",
    "            assert(x <= capacity), (x, capacity)\n",
    "    inc_threads = [threading.Thread(target=inc_thread_fun, args=(i,)) for i in range(n_inc_threads)]\n",
    "    dec_threads = [threading.Thread(target=dec_thread_fun, args=(i,)) for i in range(n_dec_threads)]\n",
    "    t0 = time.time()\n",
    "    for th in inc_threads + dec_threads:\n",
    "        th.start()\n",
    "    for th in inc_threads + dec_threads:\n",
    "        th.join()\n",
    "    t1 = time.time()\n",
    "    dt = t1 - t0\n",
    "    print(f\"took {dt:.9f} sec\")\n",
    "    x = s.get()\n",
    "    ok_ng = \"OK\" if x == 0 else \"NG\"\n",
    "    print(f\"{ok_ng} : value at the end = {x}\")\n",
    "    return x != 0\n",
    "    \n",
    "sys.exit(main())\n"
   ]
  },
  {
   "cell_type": "markdown",
   "metadata": {
    "deletable": false,
    "editable": false,
    "kernel": "SoS",
    "nbgrader": {
     "cell_type": "markdown",
     "checksum": "f107d3abf9c6915e3e06d30ef0ae5081",
     "grade": false,
     "grade_id": "c-013",
     "locked": true,
     "schema_version": 3,
     "solution": false,
     "task": false
    }
   },
   "source": [
    "* 実行は以下\n",
    "```\n",
    "python3 scounter.py INCするスレッド数 DECするスレッド数 INC(DEC)する回数 CAPACITY\n",
    "```\n",
    "\n",
    "* 例えば以下は 3スレッドがincを呼び, 2スレッドがdecを呼ぶ\n",
    "* inc, decはそれぞれ3スレッド, 2スレッドの合計で, 10000回ずつ呼ばれる\n",
    "* capacityも10000で, inc (dec)の回数と同じにしているので, カウンタは実際には飽和しない"
   ]
  },
  {
   "cell_type": "code",
   "execution_count": 6,
   "metadata": {
    "kernel": "Bash",
    "nbgrader": {
     "grade": false,
     "grade_id": "c-014",
     "locked": false,
     "schema_version": 3,
     "solution": false,
     "task": false
    }
   },
   "outputs": [],
   "source": [
    "python3 scounter.py 3 2 10000 10000"
   ]
  },
  {
   "cell_type": "markdown",
   "metadata": {
    "deletable": false,
    "editable": false,
    "kernel": "SoS",
    "nbgrader": {
     "cell_type": "markdown",
     "checksum": "d63dada23c63052ba4fdf2ae79fa2fa2",
     "grade": false,
     "grade_id": "c-015",
     "locked": true,
     "schema_version": 3,
     "solution": false,
     "task": false
    }
   },
   "source": [
    "* 一方, inc回数 &gt; 容量とすると, ほとんどの場合, 途中でエラーになる"
   ]
  },
  {
   "cell_type": "code",
   "execution_count": 7,
   "metadata": {
    "kernel": "Bash",
    "nbgrader": {
     "grade": false,
     "grade_id": "c-016",
     "locked": false,
     "schema_version": 3,
     "solution": false,
     "task": false
    }
   },
   "outputs": [
    {
     "name": "stdout",
     "output_type": "stream",
     "text": [
      "increment threads : 3\n",
      "decrement threads : 2\n",
      "increments/decrements : 100000\n",
      "capacity : 10000\n",
      "Exception in thread Thread-1 (inc_thread_fun):\n",
      "Traceback (most recent call last):\n",
      "  File \"/usr/lib/python3.10/threading.py\", line 1016, in _bootstrap_inner\n",
      "Exception in thread Thread-2 (inc_thread_fun):\n",
      "Traceback (most recent call last):\n",
      "  File \"/usr/lib/python3.10/threading.py\", line 1016, in _bootstrap_inner\n",
      "    self.run()\n",
      "  File \"/usr/lib/python3.10/threading.py\", line 953, in run\n",
      "    self._target(*self._args, **self._kwargs)\n",
      "  File \"/home/u24280/notebooks/os06_cond_var/scounter.py\", line 49, in inc_thread_fun\n",
      "Exception in thread Thread-3 (inc_thread_fun):\n",
      "Traceback (most recent call last):\n",
      "    self.run()\n",
      "  File \"/usr/lib/python3.10/threading.py\", line 953, in run\n",
      "    assert(x < capacity), (x, capacity)\n",
      "AssertionError: (10000, 10000)\n",
      "  File \"/usr/lib/python3.10/threading.py\", line 1016, in _bootstrap_inner\n",
      "Exception in thread Thread-4 (dec_thread_fun):\n",
      "Exception in thread Thread-5 (dec_thread_fun):\n",
      "Traceback (most recent call last):\n",
      "Traceback (most recent call last):\n",
      "    self.run()\n",
      "  File \"/usr/lib/python3.10/threading.py\", line 953, in run\n",
      "  File \"/usr/lib/python3.10/threading.py\", line 1016, in _bootstrap_inner\n",
      "  File \"/usr/lib/python3.10/threading.py\", line 1016, in _bootstrap_inner\n",
      "    self._target(*self._args, **self._kwargs)\n",
      "  File \"/home/u24280/notebooks/os06_cond_var/scounter.py\", line 49, in inc_thread_fun\n",
      "    self._target(*self._args, **self._kwargs)\n",
      "  File \"/home/u24280/notebooks/os06_cond_var/scounter.py\", line 49, in inc_thread_fun\n",
      "    self.run()\n",
      "  File \"/usr/lib/python3.10/threading.py\", line 953, in run\n",
      "    assert(x < capacity), (x, capacity)\n",
      "    self.run()\n",
      "  File \"/usr/lib/python3.10/threading.py\", line 953, in run\n",
      "    assert(x < capacity), (x, capacity)\n",
      "AssertionError: (10001, 10000)\n",
      "AssertionError: (10002, 10000)\n",
      "    self._target(*self._args, **self._kwargs)\n",
      "  File \"/home/u24280/notebooks/os06_cond_var/scounter.py\", line 55, in dec_thread_fun\n",
      "    assert(x <= capacity), (x, capacity)\n",
      "    self._target(*self._args, **self._kwargs)\n",
      "  File \"/home/u24280/notebooks/os06_cond_var/scounter.py\", line 55, in dec_thread_fun\n",
      "AssertionError: (10003, 10000)\n",
      "    assert(x <= capacity), (x, capacity)\n",
      "AssertionError: (10002, 10000)\n",
      "took 0.020938158 sec\n",
      "NG : value at the end = 10001\n"
     ]
    },
    {
     "ename": "",
     "evalue": "1",
     "output_type": "error",
     "traceback": []
    }
   ],
   "source": [
    "python3 scounter.py 3 2 100000 10000"
   ]
  },
  {
   "cell_type": "markdown",
   "metadata": {
    "deletable": false,
    "editable": false,
    "kernel": "SoS",
    "nbgrader": {
     "cell_type": "markdown",
     "checksum": "db5642b738266df4b6f9db8d22d57a44",
     "grade": false,
     "grade_id": "c-017",
     "locked": true,
     "schema_version": 3,
     "solution": false,
     "task": false
    }
   },
   "source": [
    "# <font color=\"green\"> Problem 1 :  条件変数を使った飽和カウンタ (C)</font>"
   ]
  },
  {
   "cell_type": "markdown",
   "metadata": {
    "deletable": false,
    "editable": false,
    "kernel": "SoS",
    "nbgrader": {
     "cell_type": "markdown",
     "checksum": "d80373cd8e4eed723390acda97e9b5ab",
     "grade": false,
     "grade_id": "c-018",
     "locked": true,
     "schema_version": 3,
     "solution": false,
     "task": false
    }
   },
   "source": [
    "* 下掲のプログラムを変更して, 任意のスレッド数, inc (dec) 回数, capacity で正しく動作するようにせよ\n",
    "* 寝ているスレッドを起こすのに `pthread_cond_broadcast` を使うべきか, `pthread_cond_signal` でもよいか考えよ\n",
    "  * ヒント: 実は後者ではダメ. なかなか気づきにくい落とし穴がある. Terminal + GDBで調査でもしないとなかなか気づかないだろう\n",
    "  * 止まってしまったプログラムをkillする方法は上述したのでそれをマスターしてから実験せよ"
   ]
  },
  {
   "cell_type": "code",
   "execution_count": 6,
   "metadata": {
    "deletable": false,
    "kernel": "Python 3 (ipykernel)",
    "nbgrader": {
     "cell_type": "code",
     "checksum": "e89da85d0580c9aab50b6c8bfebd247f",
     "grade": true,
     "grade_id": "p-001",
     "locked": false,
     "points": 1,
     "schema_version": 3,
     "solution": true,
     "task": false
    }
   },
   "outputs": [
    {
     "name": "stdout",
     "output_type": "stream",
     "text": [
      "Overwriting scounter.c\n"
     ]
    }
   ],
   "source": [
    "\n",
    "%%writefile scounter.c\n",
    "/* 注: このプログラムはOMP_NUM_THREADSを使わずにコマンドラインで受け取った引数でスレッド数を決めている(#pragma omp parallel num_threads(...)) */\n",
    "\n",
    "#include <assert.h>\n",
    "#include <stdio.h>\n",
    "#include <stdlib.h>\n",
    "#include <pthread.h>\n",
    "#include <omp.h>\n",
    "\n",
    "void die(char * msg) {\n",
    "  perror(msg);\n",
    "  exit(1);\n",
    "}\n",
    "\n",
    "double cur_time() {\n",
    "  struct timespec ts[1];\n",
    "  clock_gettime(CLOCK_REALTIME, ts);\n",
    "  return ts->tv_sec + ts->tv_nsec * 1.0e-9;\n",
    "}\n",
    "\n",
    "/* 飽和カウンタ */\n",
    "typedef struct {\n",
    "  long x;\n",
    "  long capacity;\n",
    "  pthread_mutex_t m[1];\n",
    "  pthread_cond_t c;\n",
    "} scounter_t;\n",
    "\n",
    "/* 初期化(値を0にする) */\n",
    "void scounter_init(scounter_t * s, long capacity) {\n",
    "  s->x = 0;\n",
    "  s->capacity = capacity;\n",
    "  if (pthread_mutex_init(s->m, 0)) {\n",
    "    die(\"pthread_mutex_init\");\n",
    "  }\n",
    "  if (pthread_cond_init(&s->c, NULL)) {\n",
    "    die(\"pthread_cond_init\");\n",
    "  }\n",
    "}\n",
    "\n",
    "/* +1 ただしcapacityに達していたら待つ */\n",
    "long scounter_inc(scounter_t * s) {\n",
    "  // pthread_t thread_id = pthread_self();\n",
    "  pthread_mutex_lock(s->m);\n",
    "  long x;\n",
    "  while(1) {\n",
    "    x = s->x;\n",
    "    if (x < s->capacity) break;\n",
    "    // printf(\"%lu: wait\\n\", thread_id);\n",
    "    pthread_cond_wait(&s->c, &s->m);\n",
    "  }\n",
    "  s->x = x + 1;\n",
    "  // printf(\"%lu: inc, value is %ld\\n\", thread_id, s->x);\n",
    "  pthread_mutex_unlock(s->m);\n",
    "  assert(x < s->capacity);\n",
    "  return x;\n",
    "}\n",
    "\n",
    "/* -1 */\n",
    "long scounter_dec(scounter_t * s) {\n",
    "  // pthread_t thread_id = pthread_self();\n",
    "  pthread_mutex_lock(s->m);\n",
    "  long x = s->x;\n",
    "  s->x = x - 1;\n",
    "  // printf(\"%lu: dec, value is %ld\\n\", thread_id, s->x);\n",
    "  if (x == s->capacity) {\n",
    "    pthread_cond_broadcast(&s->c);\n",
    "    // printf(\"%lu: signal\\n\", thread_id);\n",
    "    // pthread_cond_signal(&s->c);\n",
    "  }\n",
    "  pthread_mutex_unlock(s->m);\n",
    "  return x;\n",
    "}\n",
    "\n",
    "/* 現在の値を返す */\n",
    "long scounter_get(scounter_t * s) {\n",
    "  return s->x;\n",
    "}\n",
    "\n",
    "int main(int argc, char ** argv) {\n",
    "  int i = 1;\n",
    "  /* incを呼ぶスレッド数 */\n",
    "  int n_inc_threads = (argc > i ? atoi(argv[i]) : 3); i++;\n",
    "  /* decを呼ぶスレッド数 */\n",
    "  int n_dec_threads = (argc > i ? atoi(argv[i]) : 2); i++;\n",
    "  /* incとdecが呼ばれる回数(全スレッドの合計) */\n",
    "  long n            = (argc > i ? atol(argv[i]) : 10000); i++;\n",
    "  /* 飽和する値 */\n",
    "  long capacity     = (argc > i ? atol(argv[i]) : 10000); i++;\n",
    "  \n",
    "  scounter_t s[1];\n",
    "  scounter_init(s, capacity);\n",
    "\n",
    "  printf(\"increment threads : %d\\n\", n_inc_threads);\n",
    "  printf(\"decrement threads : %d\\n\", n_dec_threads);\n",
    "  printf(\"increments/decrements : %ld\\n\", n);\n",
    "  printf(\"capacity : %ld\\n\", capacity);\n",
    "  \n",
    "  double t0 = cur_time();\n",
    "#pragma omp parallel num_threads(n_inc_threads + n_dec_threads)\n",
    "  {\n",
    "    int idx = omp_get_thread_num();\n",
    "    if (idx < n_inc_threads) {\n",
    "      /* increment */\n",
    "      long a = n *  idx      / n_inc_threads;\n",
    "      long b = n * (idx + 1) / n_inc_threads;\n",
    "      for (long i = a; i < b; i++) {\n",
    "        long x = scounter_inc(s);\n",
    "        assert(x < capacity);\n",
    "      }\n",
    "    } else {\n",
    "      /* decrement */\n",
    "      idx -= n_dec_threads;\n",
    "      long a = n *  idx      / n_dec_threads;\n",
    "      long b = n * (idx + 1) / n_dec_threads;\n",
    "      for (long i = a; i < b; i++) {\n",
    "        long x = scounter_dec(s);\n",
    "        assert(x <= capacity);\n",
    "      }\n",
    "    }\n",
    "  }\n",
    "  double t1 = cur_time();\n",
    "  printf(\"took %.9f sec\\n\", t1 - t0);\n",
    "  long x = scounter_get(s);\n",
    "  printf(\"%s : value at the end = %ld\\n\", (x == 0? \"OK\" : \"NG\"), x);\n",
    "  return (x == 0 ? 0 : 1);\n",
    "}\n"
   ]
  },
  {
   "cell_type": "code",
   "execution_count": 7,
   "metadata": {
    "deletable": false,
    "kernel": "Bash",
    "nbgrader": {
     "cell_type": "code",
     "checksum": "31271d325e4d2e7595f2d2b63d1bec45",
     "grade": true,
     "grade_id": "p-002",
     "locked": false,
     "points": 1,
     "schema_version": 3,
     "solution": true,
     "task": false
    }
   },
   "outputs": [
    {
     "name": "stdout",
     "output_type": "stream",
     "text": [
      "\u001b[01m\u001b[Kscounter.c:\u001b[m\u001b[K In function ‘\u001b[01m\u001b[Kscounter_inc\u001b[m\u001b[K’:\n",
      "\u001b[01m\u001b[Kscounter.c:49:30:\u001b[m\u001b[K \u001b[01;35m\u001b[Kwarning: \u001b[m\u001b[Kpassing argument 2 of ‘\u001b[01m\u001b[Kpthread_cond_wait\u001b[m\u001b[K’ from incompatible pointer type [\u001b[01;35m\u001b[K\u001b]8;;https://gcc.gnu.org/onlinedocs/gcc/Warning-Options.html#index-Wincompatible-pointer-types\u0007-Wincompatible-pointer-types\u001b]8;;\u0007\u001b[m\u001b[K]\n",
      "   49 |     pthread_cond_wait(&s->c, \u001b[01;35m\u001b[K&s->m\u001b[m\u001b[K);\n",
      "      |                              \u001b[01;35m\u001b[K^~~~~\u001b[m\u001b[K\n",
      "      |                              \u001b[01;35m\u001b[K|\u001b[m\u001b[K\n",
      "      |                              \u001b[01;35m\u001b[Kpthread_mutex_t (*)[1]\u001b[m\u001b[K\n",
      "In file included from \u001b[01m\u001b[Kscounter.c:6\u001b[m\u001b[K:\n",
      "\u001b[01m\u001b[K/usr/include/pthread.h:1134:59:\u001b[m\u001b[K \u001b[01;36m\u001b[Knote: \u001b[m\u001b[Kexpected ‘\u001b[01m\u001b[Kpthread_mutex_t * restrict\u001b[m\u001b[K’ but argument is of type ‘\u001b[01m\u001b[Kpthread_mutex_t (*)[1]\u001b[m\u001b[K’\n",
      " 1134 |                               \u001b[01;36m\u001b[Kpthread_mutex_t *__restrict __mutex\u001b[m\u001b[K)\n",
      "      |                               \u001b[01;36m\u001b[K~~~~~~~~~~~~~~~~~~~~~~~~~~~~^~~~~~~\u001b[m\u001b[K\n"
     ]
    }
   ],
   "source": [
    "\n",
    "gcc -Wall -fopenmp -o scounter scounter.c"
   ]
  },
  {
   "cell_type": "markdown",
   "metadata": {
    "deletable": false,
    "editable": false,
    "kernel": "SoS",
    "nbgrader": {
     "cell_type": "markdown",
     "checksum": "5d3f115f5a42e1327c64448227407cbe",
     "grade": false,
     "grade_id": "c-019",
     "locked": true,
     "schema_version": 3,
     "solution": false,
     "task": false
    }
   },
   "source": [
    "* 以下でテストせよ\n",
    "  * テストは, 「単純(超探しやすい)」かつ「バグが発生しやすいケース」で行うのが基本\n",
    "  * 今回の場合, 容量1というケースが最もバグが発生しやすい(見逃されにくい)と思われる\n",
    "\n",
    "* 単純かつバグが発生しやすいケース (うまく動かなければ適宜 100000 を減らして, なるべく小さい数でテストをするのが基本. 本気でデバッグが必要なら terminal を使うことを推奨)"
   ]
  },
  {
   "cell_type": "code",
   "execution_count": 8,
   "metadata": {
    "deletable": false,
    "kernel": "Bash",
    "nbgrader": {
     "cell_type": "code",
     "checksum": "6a63884e878fa29680c0ae02a877640c",
     "grade": true,
     "grade_id": "p-003",
     "locked": false,
     "points": 1,
     "schema_version": 3,
     "solution": true,
     "task": false
    }
   },
   "outputs": [
    {
     "name": "stdout",
     "output_type": "stream",
     "text": [
      "increment threads : 1\n",
      "decrement threads : 1\n",
      "increments/decrements : 100000\n",
      "capacity : 1\n",
      "took 0.028160334 sec\n",
      "OK : value at the end = 0\n"
     ]
    }
   ],
   "source": [
    "\n",
    "./scounter 1 1 100000 1"
   ]
  },
  {
   "cell_type": "markdown",
   "metadata": {
    "deletable": false,
    "editable": false,
    "kernel": "SoS",
    "nbgrader": {
     "cell_type": "markdown",
     "checksum": "ee35bcd9a9f62ee9d4917fe570012123",
     "grade": false,
     "grade_id": "c-020",
     "locked": true,
     "schema_version": 3,
     "solution": false,
     "task": false
    }
   },
   "source": [
    "* まともな容量でのテスト"
   ]
  },
  {
   "cell_type": "code",
   "execution_count": 9,
   "metadata": {
    "deletable": false,
    "kernel": "Bash",
    "nbgrader": {
     "cell_type": "code",
     "checksum": "61682b9ca5950d5785671f41b2e71ea3",
     "grade": true,
     "grade_id": "p-004",
     "locked": false,
     "points": 1,
     "schema_version": 3,
     "solution": true,
     "task": false
    }
   },
   "outputs": [
    {
     "name": "stdout",
     "output_type": "stream",
     "text": [
      "increment threads : 1\n",
      "decrement threads : 1\n",
      "increments/decrements : 100000\n",
      "capacity : 1000\n",
      "took 0.018323421 sec\n",
      "OK : value at the end = 0\n"
     ]
    }
   ],
   "source": [
    "\n",
    "./scounter 1 1 100000 1000"
   ]
  },
  {
   "cell_type": "markdown",
   "metadata": {
    "deletable": false,
    "editable": false,
    "kernel": "SoS",
    "nbgrader": {
     "cell_type": "markdown",
     "checksum": "100b91782763a27484aef1e11b2ab15e",
     "grade": false,
     "grade_id": "c-021",
     "locked": true,
     "schema_version": 3,
     "solution": false,
     "task": false
    }
   },
   "source": [
    "* 多数のスレッドでのテスト"
   ]
  },
  {
   "cell_type": "code",
   "execution_count": 10,
   "metadata": {
    "deletable": false,
    "kernel": "Bash",
    "nbgrader": {
     "cell_type": "code",
     "checksum": "41f67343b3dd5cf34899a28f3bd0d9ab",
     "grade": true,
     "grade_id": "p-005",
     "locked": false,
     "points": 1,
     "schema_version": 3,
     "solution": true,
     "task": false
    }
   },
   "outputs": [
    {
     "name": "stdout",
     "output_type": "stream",
     "text": [
      "increment threads : 10\n",
      "decrement threads : 1\n",
      "increments/decrements : 100000\n",
      "capacity : 1000\n",
      "took 0.062936306 sec\n",
      "OK : value at the end = 0\n"
     ]
    }
   ],
   "source": [
    "\n",
    "./scounter 10 1 100000 1000"
   ]
  },
  {
   "cell_type": "code",
   "execution_count": 11,
   "metadata": {
    "deletable": false,
    "kernel": "Bash",
    "nbgrader": {
     "cell_type": "code",
     "checksum": "a68b7f291b94711e955b942a637509bf",
     "grade": true,
     "grade_id": "p-006",
     "locked": false,
     "points": 1,
     "schema_version": 3,
     "solution": true,
     "task": false
    }
   },
   "outputs": [
    {
     "name": "stdout",
     "output_type": "stream",
     "text": [
      "increment threads : 1\n",
      "decrement threads : 10\n",
      "increments/decrements : 100000\n",
      "capacity : 1000\n",
      "took 0.020206928 sec\n",
      "OK : value at the end = 0\n"
     ]
    }
   ],
   "source": [
    "\n",
    "./scounter 1 10 100000 1000"
   ]
  },
  {
   "cell_type": "code",
   "execution_count": 12,
   "metadata": {
    "deletable": false,
    "kernel": "Bash",
    "nbgrader": {
     "cell_type": "code",
     "checksum": "c056de7b05e45a34a2bc318bfa5ab24b",
     "grade": true,
     "grade_id": "p-007",
     "locked": false,
     "points": 1,
     "schema_version": 3,
     "solution": true,
     "task": false
    }
   },
   "outputs": [
    {
     "name": "stdout",
     "output_type": "stream",
     "text": [
      "increment threads : 10\n",
      "decrement threads : 10\n",
      "increments/decrements : 1000000\n",
      "capacity : 1000\n",
      "took 0.258860111 sec\n",
      "OK : value at the end = 0\n"
     ]
    }
   ],
   "source": [
    "\n",
    "./scounter 10 10 1000000 1000"
   ]
  },
  {
   "cell_type": "markdown",
   "metadata": {
    "kernel": "Bash"
   },
   "source": [
    "# pthread_cond_sinalではいけない理由\n",
    "pthread_cond_signalを使うと、incのスレッドが起き上がるまでの間に、全てのdecを終わらせる場合がある。この場合、寝ている他のincスレッドを起こす契機が発生しなくなるのでプログラムが終わらなくなってしまう。\n",
    "\n",
    "以下の実行ログはincとdecにそれぞれprintfを仕込んでincrementとdecrementの様子を確認した様子。\n",
    "pthread_cond_signalを実行からincが始まるまでに全てのdecが完了している。pthread_cond_signalで起き上がったincのスレッドがincするが、他のincスレッドが起き上がる契機がないので中途半端なところでプログラムが停止してしまう。\n",
    "\n",
    "これを防ぐにはpthred_cond_broadcastで全てのスレッドを起こさないといけない。\n",
    "\n",
    "```\n",
    "$ ./scounter 2 1 10 1\n",
    "increment threads : 2\n",
    "decrement threads : 1\n",
    "increments/decrements : 10\n",
    "capacity : 1\n",
    "140375916246976: inc, value is 1\n",
    "140375916246976: wait\n",
    "140375916242496: wait\n",
    "140375907849792: dec, value is 0\n",
    "140375907849792: signal\n",
    "140375907849792: dec, value is -1\n",
    "140375907849792: dec, value is -2\n",
    "140375907849792: dec, value is -3\n",
    "140375907849792: dec, value is -4\n",
    "140375907849792: dec, value is -5\n",
    "140375907849792: dec, value is -6\n",
    "140375907849792: dec, value is -7\n",
    "140375907849792: dec, value is -8\n",
    "140375907849792: dec, value is -9\n",
    "140375916246976: inc, value is -8\n",
    "140375916246976: inc, value is -7\n",
    "140375916246976: inc, value is -6\n",
    "140375916246976: inc, value is -5\n",
    "```"
   ]
  },
  {
   "cell_type": "markdown",
   "metadata": {
    "deletable": false,
    "editable": false,
    "kernel": "SoS",
    "nbgrader": {
     "cell_type": "markdown",
     "checksum": "10da4d43a25eebe291c426843104585a",
     "grade": false,
     "grade_id": "c-022",
     "locked": true,
     "schema_version": 3,
     "solution": false,
     "task": false
    }
   },
   "source": [
    "# <font color=\"green\"> Problem 2 :  条件変数を使った飽和カウンタ (Python)</font>"
   ]
  },
  {
   "cell_type": "markdown",
   "metadata": {
    "deletable": false,
    "editable": false,
    "kernel": "SoS",
    "nbgrader": {
     "cell_type": "markdown",
     "checksum": "64328bbfad2ad045bf69f91d8b6165d7",
     "grade": false,
     "grade_id": "c-023",
     "locked": true,
     "schema_version": 3,
     "solution": false,
     "task": false
    }
   },
   "source": [
    "* 下掲のプログラムを変更して, 任意のスレッド数, inc (dec) 回数, capacity で正しく動作するようにせよ"
   ]
  },
  {
   "cell_type": "code",
   "execution_count": 15,
   "metadata": {
    "deletable": false,
    "kernel": "Python 3 (ipykernel)",
    "nbgrader": {
     "cell_type": "code",
     "checksum": "90113da526cd2e44a80d0debd90bc60b",
     "grade": true,
     "grade_id": "p-008",
     "locked": false,
     "points": 1,
     "schema_version": 3,
     "solution": true,
     "task": false
    }
   },
   "outputs": [
    {
     "name": "stdout",
     "output_type": "stream",
     "text": [
      "Overwriting scounter.py\n"
     ]
    }
   ],
   "source": [
    "\n",
    "%%writefile scounter.py\n",
    "import sys\n",
    "import threading\n",
    "import time\n",
    "\n",
    "class scounter:\n",
    "    \"\"\"\n",
    "    飽和カウンタ\n",
    "    \"\"\"\n",
    "    def __init__(self, capacity):\n",
    "        self.x = 0\n",
    "        self.capacity = capacity\n",
    "        self.m = threading.Lock()\n",
    "        self.c = threading.Condition(self.m)\n",
    "    def inc(self):\n",
    "        self.m.acquire()\n",
    "        x = None\n",
    "        while True:\n",
    "            x = self.x\n",
    "            if x < self.capacity:\n",
    "                break\n",
    "            self.c.wait()\n",
    "        self.x = x + 1\n",
    "        self.m.release()\n",
    "        return x\n",
    "    def dec(self):\n",
    "        self.m.acquire()\n",
    "        x = self.x\n",
    "        self.x = x - 1\n",
    "        if x == self.capacity:\n",
    "            self.c.notify_all()\n",
    "        self.m.release()\n",
    "        return x\n",
    "    def get(self):\n",
    "        return self.x\n",
    "\n",
    "def main():\n",
    "    argv = sys.argv\n",
    "    # incを呼ぶスレッド数 \n",
    "    n_inc_threads = int(argv[1]) if 1 < len(argv) else 3\n",
    "    # decを呼ぶスレッド数 \n",
    "    n_dec_threads = int(argv[2]) if 2 < len(argv) else 2\n",
    "    # incとdecが呼ばれる回数(全スレッドの合計)\n",
    "    n             = int(argv[3]) if 3 < len(argv) else 10000\n",
    "    # 飽和する値\n",
    "    capacity      = int(argv[4]) if 4 < len(argv) else 10000\n",
    "    s = scounter(capacity)\n",
    "    print(f\"increment threads : {n_inc_threads}\")\n",
    "    print(f\"decrement threads : {n_dec_threads}\")\n",
    "    print(f\"increments/decrements : {n}\")\n",
    "    print(f\"capacity : {capacity}\")\n",
    "    def inc_thread_fun(idx):\n",
    "        # increment\n",
    "        a = n *  idx      // n_inc_threads\n",
    "        b = n * (idx + 1) // n_inc_threads\n",
    "        for i in range(a, b):\n",
    "            x = s.inc()\n",
    "            assert(x < capacity), (x, capacity)\n",
    "    def dec_thread_fun(idx):\n",
    "        a = n *  idx      // n_dec_threads;\n",
    "        b = n * (idx + 1) // n_dec_threads;\n",
    "        for i in range(a, b):\n",
    "            x = s.dec()\n",
    "            assert(x <= capacity), (x, capacity)\n",
    "    inc_threads = [threading.Thread(target=inc_thread_fun, args=(i,)) for i in range(n_inc_threads)]\n",
    "    dec_threads = [threading.Thread(target=dec_thread_fun, args=(i,)) for i in range(n_dec_threads)]\n",
    "    t0 = time.time()\n",
    "    for th in inc_threads + dec_threads:\n",
    "        th.start()\n",
    "    for th in inc_threads + dec_threads:\n",
    "        th.join()\n",
    "    t1 = time.time()\n",
    "    dt = t1 - t0\n",
    "    print(f\"took {dt:.9f} sec\")\n",
    "    x = s.get()\n",
    "    ok_ng = \"OK\" if x == 0 else \"NG\"\n",
    "    print(f\"{ok_ng} : value at the end = {x}\")\n",
    "    return x != 0\n",
    "    \n",
    "sys.exit(main())\n"
   ]
  },
  {
   "cell_type": "markdown",
   "metadata": {
    "deletable": false,
    "editable": false,
    "kernel": "SoS",
    "nbgrader": {
     "cell_type": "markdown",
     "checksum": "d501d9b05ce871f84eaa6afd1836b06d",
     "grade": false,
     "grade_id": "c-024",
     "locked": true,
     "schema_version": 3,
     "solution": false,
     "task": false
    }
   },
   "source": [
    "* 以下でテストせよ\n",
    "  * テストは, 「単純(超探しやすい)」かつ「バグが発生しやすいケース」で行うのが基本\n",
    "  * 今回の場合, 容量1というケースが最もバグが発生しやすい(見逃されにくい)と思われる\n",
    "\n",
    "* 単純かつバグが発生しやすいケース (うまく動かなければ適宜 100000 を減らして, なるべく小さい数でテストをするのが基本. 本気でデバッグが必要なら terminal を使うことを推奨)"
   ]
  },
  {
   "cell_type": "code",
   "execution_count": 16,
   "metadata": {
    "deletable": false,
    "kernel": "Bash",
    "nbgrader": {
     "cell_type": "code",
     "checksum": "57c12891cc9550fcfbb0b1f0f730882c",
     "grade": true,
     "grade_id": "p-009",
     "locked": false,
     "points": 1,
     "schema_version": 3,
     "solution": true,
     "task": false
    }
   },
   "outputs": [
    {
     "name": "stdout",
     "output_type": "stream",
     "text": [
      "increment threads : 1\n",
      "decrement threads : 1\n",
      "increments/decrements : 100000\n",
      "capacity : 1\n",
      "took 0.268470764 sec\n",
      "OK : value at the end = 0\n"
     ]
    }
   ],
   "source": [
    "\n",
    "python3 scounter.py 1 1 100000 1"
   ]
  },
  {
   "cell_type": "markdown",
   "metadata": {
    "deletable": false,
    "editable": false,
    "kernel": "SoS",
    "nbgrader": {
     "cell_type": "markdown",
     "checksum": "8a98a53a8a77e686ef911c4fd3f49e37",
     "grade": false,
     "grade_id": "c-025",
     "locked": true,
     "schema_version": 3,
     "solution": false,
     "task": false
    }
   },
   "source": [
    "* まともな容量でのテスト"
   ]
  },
  {
   "cell_type": "code",
   "execution_count": 17,
   "metadata": {
    "deletable": false,
    "kernel": "Bash",
    "nbgrader": {
     "cell_type": "code",
     "checksum": "b8cd76a05220b020f72a2dcf03b18682",
     "grade": true,
     "grade_id": "p-010",
     "locked": false,
     "points": 1,
     "schema_version": 3,
     "solution": true,
     "task": false
    }
   },
   "outputs": [
    {
     "name": "stdout",
     "output_type": "stream",
     "text": [
      "increment threads : 1\n",
      "decrement threads : 1\n",
      "increments/decrements : 100000\n",
      "capacity : 1000\n",
      "took 0.244989872 sec\n",
      "OK : value at the end = 0\n"
     ]
    }
   ],
   "source": [
    "\n",
    "python3 scounter.py 1 1 100000 1000"
   ]
  },
  {
   "cell_type": "markdown",
   "metadata": {
    "deletable": false,
    "editable": false,
    "kernel": "SoS",
    "nbgrader": {
     "cell_type": "markdown",
     "checksum": "2a0c5b717c3043aff2d90fd6e85f93d9",
     "grade": false,
     "grade_id": "c-026",
     "locked": true,
     "schema_version": 3,
     "solution": false,
     "task": false
    }
   },
   "source": [
    "* 多数のスレッドでのテスト"
   ]
  },
  {
   "cell_type": "code",
   "execution_count": 18,
   "metadata": {
    "deletable": false,
    "kernel": "Bash",
    "nbgrader": {
     "cell_type": "code",
     "checksum": "f1f3691a1cbc7b46c0897e2bd622e5b2",
     "grade": true,
     "grade_id": "p-011",
     "locked": false,
     "points": 1,
     "schema_version": 3,
     "solution": true,
     "task": false
    }
   },
   "outputs": [
    {
     "name": "stdout",
     "output_type": "stream",
     "text": [
      "increment threads : 10\n",
      "decrement threads : 1\n",
      "increments/decrements : 100000\n",
      "capacity : 1000\n",
      "took 0.839838743 sec\n",
      "OK : value at the end = 0\n"
     ]
    }
   ],
   "source": [
    "\n",
    "python3 scounter.py 10 1 100000 1000"
   ]
  },
  {
   "cell_type": "code",
   "execution_count": 19,
   "metadata": {
    "deletable": false,
    "kernel": "Bash",
    "nbgrader": {
     "cell_type": "code",
     "checksum": "d9c6aaad9ea491922b4f790c5eb8f528",
     "grade": true,
     "grade_id": "p-012",
     "locked": false,
     "points": 1,
     "schema_version": 3,
     "solution": true,
     "task": false
    }
   },
   "outputs": [
    {
     "name": "stdout",
     "output_type": "stream",
     "text": [
      "increment threads : 1\n",
      "decrement threads : 10\n",
      "increments/decrements : 100000\n",
      "capacity : 1000\n",
      "took 0.100500345 sec\n",
      "OK : value at the end = 0\n"
     ]
    }
   ],
   "source": [
    "\n",
    "python3 scounter.py 1 10 100000 1000"
   ]
  },
  {
   "cell_type": "code",
   "execution_count": 20,
   "metadata": {
    "deletable": false,
    "kernel": "Bash",
    "nbgrader": {
     "cell_type": "code",
     "checksum": "68b7ab792caa2853230c196e18985a10",
     "grade": true,
     "grade_id": "p-013",
     "locked": false,
     "points": 1,
     "schema_version": 3,
     "solution": true,
     "task": false
    }
   },
   "outputs": [
    {
     "name": "stdout",
     "output_type": "stream",
     "text": [
      "increment threads : 10\n",
      "decrement threads : 10\n",
      "increments/decrements : 1000000\n",
      "capacity : 1000\n",
      "took 16.574748516 sec\n",
      "OK : value at the end = 0\n"
     ]
    }
   ],
   "source": [
    "\n",
    "python3 scounter.py 10 10 1000000 1000"
   ]
  },
  {
   "cell_type": "markdown",
   "metadata": {
    "deletable": false,
    "editable": false,
    "kernel": "SoS",
    "nbgrader": {
     "cell_type": "markdown",
     "checksum": "db59538ef0d3ae681690c39c1c57c412",
     "grade": false,
     "grade_id": "c-027",
     "locked": true,
     "schema_version": 3,
     "solution": false,
     "task": false
    }
   },
   "source": [
    "# <font color=\"green\"> Problem 3 :  両側飽和カウンタ (C)</font>"
   ]
  },
  {
   "cell_type": "markdown",
   "metadata": {
    "deletable": false,
    "editable": false,
    "kernel": "SoS",
    "nbgrader": {
     "cell_type": "markdown",
     "checksum": "20fc7bf1125c26f21f6745d36f7da00d",
     "grade": false,
     "grade_id": "c-028",
     "locked": true,
     "schema_version": 3,
     "solution": false,
     "task": false
    }
   },
   "source": [
    "* どうせならカウンタの上限を定めるだけでなく, 下限も定めたい. ここでは0ということにしておこう\n",
    "* つまり, 0のときに dec が行われたらそこでも待つようにする\n",
    "* 下掲のプログラムを変更して, 任意のスレッド数, inc (dec) 回数, capacity で正しく動作するようにせよ\n",
    "* ヒント: decをしようとして値が0だった際に待つための条件変数をもう一つ用意する"
   ]
  },
  {
   "cell_type": "code",
   "execution_count": null,
   "metadata": {
    "deletable": false,
    "kernel": "Python 3 (ipykernel)",
    "nbgrader": {
     "cell_type": "code",
     "checksum": "1d3b581d7ee2b5444c2da83484f0aec0",
     "grade": true,
     "grade_id": "p-014",
     "locked": false,
     "points": 1,
     "schema_version": 3,
     "solution": true,
     "task": false
    }
   },
   "outputs": [],
   "source": [
    "\n",
    "%%writefile tcounter.c\n",
    "/* 注: このプログラムはOMP_NUM_THREADSを使わずにコマンドラインで受け取った引数でスレッド数を決めている(#pragma omp parallel num_threads(...)) */\n",
    "\n",
    "#include <assert.h>\n",
    "#include <stdio.h>\n",
    "#include <stdlib.h>\n",
    "#include <pthread.h>\n",
    "#include <omp.h>\n",
    "\n",
    "void die(char * msg) {\n",
    "  perror(msg);\n",
    "  exit(1);\n",
    "}\n",
    "\n",
    "double cur_time() {\n",
    "  struct timespec ts[1];\n",
    "  clock_gettime(CLOCK_REALTIME, ts);\n",
    "  return ts->tv_sec + ts->tv_nsec * 1.0e-9;\n",
    "}\n",
    "\n",
    "/* 飽和カウンタ */\n",
    "typedef struct {\n",
    "  long x;\n",
    "  long capacity;\n",
    "  pthread_mutex_t m[2];\n",
    "  pthread_cond_t c[2];\n",
    "} scounter_t;\n",
    "\n",
    "/* 初期化(値を0にする) */\n",
    "void scounter_init(scounter_t * s, long capacity) {\n",
    "  s->x = 0;\n",
    "  s->capacity = capacity;\n",
    "  for (int i=0;i<2;i++) {      \n",
    "    if (pthread_mutex_init(&s->m[i], 0)) {\n",
    "      die(\"pthread_mutex_init\");\n",
    "    }\n",
    "    if (pthread_cond_init(&s->c[i], NULL)) {\n",
    "      die(\"pthread_cond_init\");\n",
    "    }\n",
    "  }\n",
    "}\n",
    "\n",
    "/* +1 ただしcapacityに達していたら待つ */\n",
    "long scounter_inc(scounter_t * s) {\n",
    "  pthread_mutex_lock(s->m);\n",
    "  long x;\n",
    "  while(1) {\n",
    "    x = s->x;\n",
    "    if (x < s->capacity) break;\n",
    "    pthread_cond_wait(&s->c[0], &s->m[0]);\n",
    "  }\n",
    "  s->x = x + 1;\n",
    "  pthread_mutex_unlock(s->m);\n",
    "  assert(x < s->capacity);\n",
    "  return x;\n",
    "}\n",
    "\n",
    "/* -1 */\n",
    "long scounter_dec(scounter_t * s) {\n",
    "  pthread_mutex_lock(s->m);\n",
    "  long x;\n",
    "  while(1) {\n",
    "    x = s->x;\n",
    "    if (x > 0) break;\n",
    "    pthread_cond_wait(&s->c[1], &s->m[1]);\n",
    "  }\n",
    "  s->x = x - 1;\n",
    "  pthread_mutex_unlock(s->m);\n",
    "  return x;\n",
    "}\n",
    "\n",
    "/* 現在の値を返す */\n",
    "long scounter_get(scounter_t * s) {\n",
    "  return s->x;\n",
    "}\n",
    "\n",
    "int main(int argc, char ** argv) {\n",
    "  int i = 1;\n",
    "  /* incを呼ぶスレッド数 */\n",
    "  int n_inc_threads = (argc > i ? atoi(argv[i]) : 3); i++;\n",
    "  /* decを呼ぶスレッド数 */\n",
    "  int n_dec_threads = (argc > i ? atoi(argv[i]) : 2); i++;\n",
    "  /* incとdecが呼ばれる回数(全スレッドの合計) */\n",
    "  long n            = (argc > i ? atol(argv[i]) : 10000); i++;\n",
    "  /* 飽和する値 */\n",
    "  long capacity     = (argc > i ? atol(argv[i]) : 10000); i++;\n",
    "  \n",
    "  scounter_t s[1];\n",
    "  scounter_init(s, capacity);\n",
    "\n",
    "  printf(\"increment threads : %d\\n\", n_inc_threads);\n",
    "  printf(\"decrement threads : %d\\n\", n_dec_threads);\n",
    "  printf(\"increments/decrements : %ld\\n\", n);\n",
    "  printf(\"capacity : %ld\\n\", capacity);\n",
    "  \n",
    "  double t0 = cur_time();\n",
    "#pragma omp parallel num_threads(n_inc_threads + n_dec_threads)\n",
    "  {\n",
    "    int idx = omp_get_thread_num();\n",
    "    if (idx < n_inc_threads) {\n",
    "      /* increment */\n",
    "      long a = n *  idx      / n_inc_threads;\n",
    "      long b = n * (idx + 1) / n_inc_threads;\n",
    "      for (long i = a; i < b; i++) {\n",
    "        long x = scounter_inc(s);\n",
    "        assert(x < capacity);\n",
    "        assert(x >= 0);\n",
    "      }\n",
    "    } else {\n",
    "      /* decrement */\n",
    "      idx -= n_dec_threads;\n",
    "      long a = n *  idx      / n_dec_threads;\n",
    "      long b = n * (idx + 1) / n_dec_threads;\n",
    "      for (long i = a; i < b; i++) {\n",
    "        long x = scounter_dec(s);\n",
    "        assert(x <= capacity);\n",
    "        assert(x > 0);\n",
    "      }\n",
    "    }\n",
    "  }\n",
    "  double t1 = cur_time();\n",
    "  printf(\"took %.9f sec\\n\", t1 - t0);\n",
    "  long x = scounter_get(s);\n",
    "  printf(\"%s : value at the end = %ld\\n\", (x == 0? \"OK\" : \"NG\"), x);\n",
    "  return (x == 0 ? 0 : 1);\n",
    "}"
   ]
  },
  {
   "cell_type": "code",
   "execution_count": null,
   "metadata": {
    "deletable": false,
    "kernel": "Bash",
    "nbgrader": {
     "cell_type": "code",
     "checksum": "695cebb0b59015e8a93c54cd6dfd20b3",
     "grade": true,
     "grade_id": "p-015",
     "locked": false,
     "points": 1,
     "schema_version": 3,
     "solution": true,
     "task": false
    }
   },
   "outputs": [],
   "source": [
    "\n",
    "gcc -Wall -fopenmp -o tcounter tcounter.c"
   ]
  },
  {
   "cell_type": "code",
   "execution_count": null,
   "metadata": {
    "deletable": false,
    "kernel": "Bash",
    "nbgrader": {
     "cell_type": "code",
     "checksum": "5e1743727410259641771a1850602892",
     "grade": true,
     "grade_id": "p-016",
     "locked": false,
     "points": 1,
     "schema_version": 3,
     "solution": true,
     "task": false
    }
   },
   "outputs": [],
   "source": [
    "\n",
    "./tcounter 1 1 100000 1"
   ]
  },
  {
   "cell_type": "code",
   "execution_count": null,
   "metadata": {
    "deletable": false,
    "kernel": "Bash",
    "nbgrader": {
     "cell_type": "code",
     "checksum": "3e46b7f1cd29beb449874cdc509d1f48",
     "grade": true,
     "grade_id": "p-017",
     "locked": false,
     "points": 1,
     "schema_version": 3,
     "solution": true,
     "task": false
    }
   },
   "outputs": [],
   "source": [
    "\n",
    "./tcounter 1 1 100000 1000"
   ]
  },
  {
   "cell_type": "code",
   "execution_count": null,
   "metadata": {
    "deletable": false,
    "kernel": "Bash",
    "nbgrader": {
     "cell_type": "code",
     "checksum": "30bc838ce4293e00dfe9135f837abcac",
     "grade": true,
     "grade_id": "p-018",
     "locked": false,
     "points": 1,
     "schema_version": 3,
     "solution": true,
     "task": false
    }
   },
   "outputs": [],
   "source": [
    "\n",
    "./tcounter 10 1 100000 1000"
   ]
  },
  {
   "cell_type": "code",
   "execution_count": null,
   "metadata": {
    "deletable": false,
    "kernel": "Bash",
    "nbgrader": {
     "cell_type": "code",
     "checksum": "03514fb43debd3e332677556381a384f",
     "grade": true,
     "grade_id": "p-019",
     "locked": false,
     "points": 1,
     "schema_version": 3,
     "solution": true,
     "task": false
    }
   },
   "outputs": [],
   "source": [
    "\n",
    "./tcounter 1 10 100000 1000"
   ]
  },
  {
   "cell_type": "code",
   "execution_count": null,
   "metadata": {
    "deletable": false,
    "kernel": "Bash",
    "nbgrader": {
     "cell_type": "code",
     "checksum": "9a5823ebe3494f1a415308f5cc4ea59c",
     "grade": true,
     "grade_id": "p-020",
     "locked": false,
     "points": 1,
     "schema_version": 3,
     "solution": true,
     "task": false
    }
   },
   "outputs": [],
   "source": [
    "\n",
    "./tcounter 10 10 1000000 1000"
   ]
  },
  {
   "cell_type": "markdown",
   "metadata": {
    "deletable": false,
    "editable": false,
    "kernel": "SoS",
    "nbgrader": {
     "cell_type": "markdown",
     "checksum": "6bf7012aa27206ded35d37fd5ba75840",
     "grade": false,
     "grade_id": "c-029",
     "locked": true,
     "schema_version": 3,
     "solution": false,
     "task": false
    }
   },
   "source": [
    "# <font color=\"green\"> Problem 4 :  両側飽和カウンタ (Python)</font>\n",
    "* Pythonで同じことを行え"
   ]
  },
  {
   "cell_type": "code",
   "execution_count": null,
   "metadata": {
    "deletable": false,
    "kernel": "Python 3 (ipykernel)",
    "nbgrader": {
     "cell_type": "code",
     "checksum": "bb2eb0eaadc282442fc87742f98b9af4",
     "grade": true,
     "grade_id": "p-021",
     "locked": false,
     "points": 1,
     "schema_version": 3,
     "solution": true,
     "task": false
    }
   },
   "outputs": [],
   "source": [
    "\n",
    "%%writefile tcounter.py\n",
    "import sys\n",
    "import threading\n",
    "import time\n",
    "\n",
    "class scounter:\n",
    "    \"\"\"\n",
    "    飽和カウンタ\n",
    "    \"\"\"\n",
    "    def __init__(self, capacity):\n",
    "        self.x = 0\n",
    "        self.capacity = capacity\n",
    "        self.m = threading.Lock()\n",
    "    def inc(self):\n",
    "        self.m.acquire()\n",
    "        x = self.x\n",
    "        self.x = x + 1\n",
    "        self.m.release()\n",
    "        return x\n",
    "    def dec(self):\n",
    "        self.m.acquire()\n",
    "        x = self.x\n",
    "        self.x = x - 1\n",
    "        self.m.release()\n",
    "        return x\n",
    "    def get(self):\n",
    "        return self.x\n",
    "\n",
    "def main():\n",
    "    argv = sys.argv\n",
    "    # incを呼ぶスレッド数 \n",
    "    n_inc_threads = int(argv[1]) if 1 < len(argv) else 3\n",
    "    # decを呼ぶスレッド数 \n",
    "    n_dec_threads = int(argv[2]) if 2 < len(argv) else 2\n",
    "    # incとdecが呼ばれる回数(全スレッドの合計)\n",
    "    n             = int(argv[3]) if 3 < len(argv) else 10000\n",
    "    # 飽和する値\n",
    "    capacity      = int(argv[4]) if 4 < len(argv) else 10000\n",
    "    s = scounter(capacity)\n",
    "    print(f\"increment threads : {n_inc_threads}\")\n",
    "    print(f\"decrement threads : {n_dec_threads}\")\n",
    "    print(f\"increments/decrements : {n}\")\n",
    "    print(f\"capacity : {capacity}\")\n",
    "    def inc_thread_fun(idx):\n",
    "        # increment\n",
    "        a = n *  idx      // n_inc_threads\n",
    "        b = n * (idx + 1) // n_inc_threads\n",
    "        for i in range(a, b):\n",
    "            x = s.inc()\n",
    "            assert(x < capacity), (x, capacity)\n",
    "            assert(x >= 0), x\n",
    "    def dec_thread_fun(idx):\n",
    "        a = n *  idx      // n_dec_threads;\n",
    "        b = n * (idx + 1) // n_dec_threads;\n",
    "        for i in range(a, b):\n",
    "            x = s.dec()\n",
    "            assert(x <= capacity), (x, capacity)\n",
    "            assert(x > 0), x\n",
    "    inc_threads = [threading.Thread(target=inc_thread_fun, args=(i,)) for i in range(n_inc_threads)]\n",
    "    dec_threads = [threading.Thread(target=dec_thread_fun, args=(i,)) for i in range(n_dec_threads)]\n",
    "    t0 = time.time()\n",
    "    for th in inc_threads + dec_threads:\n",
    "        th.start()\n",
    "    for th in inc_threads + dec_threads:\n",
    "        th.join()\n",
    "    t1 = time.time()\n",
    "    dt = t1 - t0\n",
    "    print(f\"took {dt:.9f} sec\")\n",
    "    x = s.get()\n",
    "    ok_ng = \"OK\" if x == 0 else \"NG\"\n",
    "    print(f\"{ok_ng} : value at the end = {x}\")\n",
    "    return x != 0\n",
    "    \n",
    "sys.exit(main())\n"
   ]
  },
  {
   "cell_type": "code",
   "execution_count": null,
   "metadata": {
    "deletable": false,
    "kernel": "Bash",
    "nbgrader": {
     "cell_type": "code",
     "checksum": "15d21e81fa5f1260fd1167409a2313e8",
     "grade": true,
     "grade_id": "p-022",
     "locked": false,
     "points": 1,
     "schema_version": 3,
     "solution": true,
     "task": false
    }
   },
   "outputs": [],
   "source": [
    "\n",
    "python3 tcounter.py 1 1 100000 1"
   ]
  },
  {
   "cell_type": "code",
   "execution_count": null,
   "metadata": {
    "deletable": false,
    "kernel": "Bash",
    "nbgrader": {
     "cell_type": "code",
     "checksum": "c58dfb37263b13aca721f39ec61dcf5a",
     "grade": true,
     "grade_id": "p-023",
     "locked": false,
     "points": 1,
     "schema_version": 3,
     "solution": true,
     "task": false
    }
   },
   "outputs": [],
   "source": [
    "\n",
    "python3 tcounter.py 1 1 100000 1000"
   ]
  },
  {
   "cell_type": "code",
   "execution_count": null,
   "metadata": {
    "deletable": false,
    "kernel": "Bash",
    "nbgrader": {
     "cell_type": "code",
     "checksum": "e4eef52622d7ff44400170df56b50d50",
     "grade": true,
     "grade_id": "p-024",
     "locked": false,
     "points": 1,
     "schema_version": 3,
     "solution": true,
     "task": false
    }
   },
   "outputs": [],
   "source": [
    "\n",
    "python3 tcounter.py 10 1 100000 1000"
   ]
  },
  {
   "cell_type": "code",
   "execution_count": null,
   "metadata": {
    "deletable": false,
    "kernel": "Bash",
    "nbgrader": {
     "cell_type": "code",
     "checksum": "095cf4b7c859ce68f9a29ec5e65bd2f5",
     "grade": true,
     "grade_id": "p-025",
     "locked": false,
     "points": 1,
     "schema_version": 3,
     "solution": true,
     "task": false
    }
   },
   "outputs": [],
   "source": [
    "\n",
    "python3 tcounter.py 1 10 100000 1000"
   ]
  },
  {
   "cell_type": "code",
   "execution_count": null,
   "metadata": {
    "deletable": false,
    "kernel": "Bash",
    "nbgrader": {
     "cell_type": "code",
     "checksum": "73e5c7e2fdedd36300b64faa1cddbe7d",
     "grade": true,
     "grade_id": "p-026",
     "locked": false,
     "points": 1,
     "schema_version": 3,
     "solution": true,
     "task": false
    }
   },
   "outputs": [],
   "source": [
    "\n",
    "python3 tcounter.py 10 10 1000000 1000"
   ]
  },
  {
   "cell_type": "markdown",
   "metadata": {
    "deletable": false,
    "editable": false,
    "kernel": "SoS",
    "nbgrader": {
     "cell_type": "markdown",
     "checksum": "9fede26b307dda3c822ed07e1ae8af84",
     "grade": false,
     "grade_id": "c-030",
     "locked": true,
     "schema_version": 3,
     "solution": false,
     "task": false
    }
   },
   "source": [
    "# 3. 有限バッファ\n",
    "* 有限バッファは, 固定長の配列で, スレッド間でデータを受け渡すためのデータ構造\n",
    "\n",
    "## 3-1. Cの有限バッファ* APIは\n",
    "  * bounded_buffer_t bb[1];\n",
    "  * bounded_buffer_init(bb, capacity);\n",
    "  * bounded_buffer_put(bb, x);\n",
    "  * long x = bounded_buffer_get(bb);\n",
    "* capacityは保持できるデータ数(= putされて, まだgetされていないデータ数)\n",
    "* capacity個のデータが既に保持されているときにputされたら, getされるまで待つ\n",
    "* 1個もデータがないときにgetされたら, putされるまで待つ\n",
    "という動作をする\n",
    "\n",
    "以下は未完成版で,\n",
    "* capacity個のデータが既に保持されているときにputされたら, 0を返す(そうでなければ1を返す)\n",
    "* 1個もデータがないときにgetされたら, -1を返す (putするデータ(従ってgetされるデータ)は0以上とする)\n",
    "という動作をする"
   ]
  },
  {
   "cell_type": "code",
   "execution_count": null,
   "metadata": {
    "kernel": "Python 3 (ipykernel)",
    "nbgrader": {
     "grade": false,
     "grade_id": "c-031",
     "locked": false,
     "schema_version": 3,
     "solution": false,
     "task": false
    }
   },
   "outputs": [],
   "source": [
    "%%writefile bbuf.c\n",
    "#include <assert.h>\n",
    "#include <stdio.h>\n",
    "#include <stdlib.h>\n",
    "#include <time.h>\n",
    "#include <unistd.h>\n",
    "#include <omp.h>\n",
    "#include <pthread.h>\n",
    "\n",
    "void die(const char * msg) {\n",
    "  perror(msg); exit(1);\n",
    "}\n",
    "\n",
    "double cur_time() {\n",
    "  struct timespec ts[1];\n",
    "  clock_gettime(CLOCK_REALTIME, ts);\n",
    "  return ts->tv_nsec * 1.0E-9 + ts->tv_sec;\n",
    "}\n",
    "\n",
    "/* 有限バッファ\n",
    "   要素は必ず >= 0 とする */\n",
    "typedef struct {\n",
    "  long n_gets;                  /* getされた回数 */\n",
    "  long n_puts;                  /* putされた回数 */\n",
    "  long capacity;                /* 容量 */\n",
    "  long * a;                     /* 中身(capacity要素の配列) */\n",
    "} bounded_buffer_t;\n",
    "\n",
    "/* 容量 capacity で初期化 */\n",
    "void bounded_buffer_init(bounded_buffer_t * bb, long capacity) {\n",
    "  long * a = (long *)malloc(sizeof(long) * capacity);\n",
    "  if (!a) die(\"malloc\");\n",
    "  bb->a = a;\n",
    "  bb->capacity = capacity;\n",
    "  bb->n_gets = 0;\n",
    "  bb->n_puts = 0;\n",
    "}\n",
    "\n",
    "/* 要素を追加 \n",
    " * 満杯だったら待つようにするのが課題\n",
    " * 以下はそのままだと満杯の場合は0を返す(間違い)\n",
    " */\n",
    "int bounded_buffer_put(bounded_buffer_t * bb, long x) {\n",
    "  long g = bb->n_gets;\n",
    "  long p = bb->n_puts;\n",
    "  long cap = bb->capacity;\n",
    "  assert(x >= 0);\n",
    "  if (p - g >= cap) {\n",
    "    return 0;                   /* NG */\n",
    "  }\n",
    "  bb->a[p % cap] = x;\n",
    "  bb->n_puts = p + 1;\n",
    "  return 1;                     /* OK */\n",
    "}\n",
    "\n",
    "/* 要素を取り出す\n",
    " * 空だったら待つようにするのが課題\n",
    " * 以下はそのままだと空の場合は-1を返す(間違い)\n",
    " */\n",
    "long bounded_buffer_get(bounded_buffer_t * bb) {\n",
    "  long g = bb->n_gets;\n",
    "  long p = bb->n_puts;\n",
    "  long cap = bb->capacity;\n",
    "  if (p - g <= 0) {\n",
    "    return -1;                  /* 空 */\n",
    "  }\n",
    "  long x = bb->a[g % cap];\n",
    "  bb->n_gets = g + 1;\n",
    "  assert(x >= 0);\n",
    "  return x;\n",
    "}\n",
    "\n",
    "int main(int argc, char ** argv) {\n",
    "  long i = 1;\n",
    "  /* putするスレッド数 */\n",
    "  int n_putter_threads = (argc > i ? atoi(argv[i]) : 1); i++;\n",
    "  /* getするスレッド数 */\n",
    "  int n_getter_threads = (argc > i ? atoi(argv[i]) : 1); i++;\n",
    "  /* putとgetの間にbarrierを入れるか? */\n",
    "  int barrier_between_puts_gets = (argc > i ? atoi(argv[i]) : 1); i++;\n",
    "  /* put (get)される回数 */\n",
    "  long n                = (argc > i ? atol(argv[i]) : 1000000); i++;\n",
    "  /* 容量 */\n",
    "  long capacity         = (argc > i ? atol(argv[i]) : 1000); i++;\n",
    "  /* 検証用(validate[x] == 1 iff getでxが取り出された) */\n",
    "  char * validate = (char *)calloc(n, 1);\n",
    "\n",
    "  bounded_buffer_t bb[1];\n",
    "  bounded_buffer_init(bb, capacity);\n",
    "\n",
    "  int nthreads = n_putter_threads + n_getter_threads;\n",
    "  pthread_barrier_t barrier[1];\n",
    "  pthread_barrier_init(barrier, 0, nthreads);\n",
    "\n",
    "  double t0 = cur_time();\n",
    "#pragma omp parallel num_threads(n_putter_threads + n_getter_threads)\n",
    "  {\n",
    "    int idx = omp_get_thread_num();\n",
    "    if (idx < n_putter_threads) {\n",
    "      /* I am a putter thread */\n",
    "      long a = n *  idx      / n_putter_threads;\n",
    "      long b = n * (idx + 1) / n_putter_threads;\n",
    "      /* 0,1,...,n-1 を1つずつput */\n",
    "      for (long x = a; x < b; x++) {\n",
    "        int ok = bounded_buffer_put(bb, x);\n",
    "        assert(ok);\n",
    "      }\n",
    "      if (barrier_between_puts_gets) {\n",
    "        /* putが全員終わってからget */\n",
    "        pthread_barrier_wait(barrier);\n",
    "      }\n",
    "    } else {\n",
    "      /* I am a getter thread */\n",
    "      idx -= n_putter_threads;\n",
    "      long a = n *  idx      / n_getter_threads;\n",
    "      long b = n * (idx + 1) / n_getter_threads;\n",
    "      if (barrier_between_puts_gets) {\n",
    "        /* putが全員終わってからget */\n",
    "        pthread_barrier_wait(barrier);\n",
    "      }\n",
    "      /* 合計n回get */\n",
    "      for (long x = a; x < b; x++) {\n",
    "        long x = bounded_buffer_get(bb);\n",
    "        assert(x >= 0);\n",
    "        assert(x < n);\n",
    "        assert(validate[x] == 0);\n",
    "        validate[x] = 1;\n",
    "      }\n",
    "    }\n",
    "  }\n",
    "  double t1 = cur_time();\n",
    "  printf(\"%f sec\\n\", t1 - t0);\n",
    "  for (long i = 0; i < n; i++) {\n",
    "    assert(validate[i]);\n",
    "  }\n",
    "  printf(\"OK\\n\");\n",
    "  return 0;\n",
    "}"
   ]
  },
  {
   "cell_type": "code",
   "execution_count": null,
   "metadata": {
    "deletable": false,
    "kernel": "Bash",
    "nbgrader": {
     "cell_type": "code",
     "checksum": "8c4041a501ea1195fc5bb1f36439a33f",
     "grade": true,
     "grade_id": "p-027",
     "locked": false,
     "points": 1,
     "schema_version": 3,
     "solution": true,
     "task": false
    }
   },
   "outputs": [],
   "source": [
    "\n",
    "gcc -Wall -fopenmp -o bbuf bbuf.c"
   ]
  },
  {
   "cell_type": "markdown",
   "metadata": {
    "deletable": false,
    "editable": false,
    "kernel": "SoS",
    "nbgrader": {
     "cell_type": "markdown",
     "checksum": "a232345050c27802acf4608df1ab292a",
     "grade": false,
     "grade_id": "c-032",
     "locked": true,
     "schema_version": 3,
     "solution": false,
     "task": false
    }
   },
   "source": [
    "```\n",
    "./bbuf put_threads get_threads sync_between_puts_and_gets n capacity\n",
    "```\n",
    " \n",
    "で起動されると\n",
    " * 容量は capacity のbuffer が作られる\n",
    " * put_threads 個のスレッドが作られ, putする\n",
    " * get_threads 個のスレッドが作られ, getする\n",
    " * sync_between_puts_and_gets == 0 の場合, putするスレッドとgetするスレッドも並行に動く. sync_between_puts_and_gets == 1の場合, putスレッドがすべてのデータをputし終えてからgetスレッドがgetを始める\n",
    " * 合計 n 個のデータが put (get) される\n",
    " \n",
    "与えれた未完成バージョンは以下の条件であれば動作する\n",
    " * put_threads == 1\n",
    " * get_threads == 1\n",
    " * sync_between_puts_and_gets == 1\n",
    " * capacity >= n"
   ]
  },
  {
   "cell_type": "code",
   "execution_count": null,
   "metadata": {
    "deletable": false,
    "kernel": "Bash",
    "nbgrader": {
     "cell_type": "code",
     "checksum": "7a626400b35e5a5fea46c62e7493b2cc",
     "grade": true,
     "grade_id": "p-028",
     "locked": false,
     "points": 1,
     "schema_version": 3,
     "solution": true,
     "task": false
    }
   },
   "outputs": [],
   "source": [
    "\n",
    "./bbuf 1 1 1 1000 1000"
   ]
  },
  {
   "cell_type": "markdown",
   "metadata": {
    "deletable": false,
    "editable": false,
    "kernel": "SoS",
    "nbgrader": {
     "cell_type": "markdown",
     "checksum": "270d1d1bc53d2c322a33c3708d2c83fb",
     "grade": false,
     "grade_id": "c-033",
     "locked": true,
     "schema_version": 3,
     "solution": false,
     "task": false
    }
   },
   "source": [
    "以下はどれもエラーになる\n",
    "\n",
    "* putとgetが並行"
   ]
  },
  {
   "cell_type": "code",
   "execution_count": null,
   "metadata": {
    "deletable": false,
    "kernel": "Bash",
    "nbgrader": {
     "cell_type": "code",
     "checksum": "f8f80d2b1035b9d005ab82c39785549e",
     "grade": true,
     "grade_id": "p-029",
     "locked": false,
     "points": 1,
     "schema_version": 3,
     "solution": true,
     "task": false
    }
   },
   "outputs": [],
   "source": [
    "\n",
    "./bbuf 1 1 0 1000 1000"
   ]
  },
  {
   "cell_type": "markdown",
   "metadata": {
    "deletable": false,
    "editable": false,
    "kernel": "SoS",
    "nbgrader": {
     "cell_type": "markdown",
     "checksum": "84813b0aaf17f6d660500655878b7792",
     "grade": false,
     "grade_id": "c-034",
     "locked": true,
     "schema_version": 3,
     "solution": false,
     "task": false
    }
   },
   "source": [
    "* 複数のputが並行"
   ]
  },
  {
   "cell_type": "code",
   "execution_count": null,
   "metadata": {
    "deletable": false,
    "kernel": "Bash",
    "nbgrader": {
     "cell_type": "code",
     "checksum": "d831257bbd349b0233ef6941eba88fec",
     "grade": true,
     "grade_id": "p-030",
     "locked": false,
     "points": 1,
     "schema_version": 3,
     "solution": true,
     "task": false
    }
   },
   "outputs": [],
   "source": [
    "\n",
    "./bbuf 2 1 1 1000 1000"
   ]
  },
  {
   "cell_type": "markdown",
   "metadata": {
    "deletable": false,
    "editable": false,
    "kernel": "SoS",
    "nbgrader": {
     "cell_type": "markdown",
     "checksum": "c7f8de0feb877ad7ce8db85e751e3251",
     "grade": false,
     "grade_id": "c-035",
     "locked": true,
     "schema_version": 3,
     "solution": false,
     "task": false
    }
   },
   "source": [
    "* 複数のgetが並行"
   ]
  },
  {
   "cell_type": "code",
   "execution_count": null,
   "metadata": {
    "deletable": false,
    "kernel": "Bash",
    "nbgrader": {
     "cell_type": "code",
     "checksum": "9ace0ae4ab82f214d2d005214d926956",
     "grade": true,
     "grade_id": "p-031",
     "locked": false,
     "points": 1,
     "schema_version": 3,
     "solution": true,
     "task": false
    }
   },
   "outputs": [],
   "source": [
    "\n",
    "./bbuf 1 2 1 1000 1000"
   ]
  },
  {
   "cell_type": "markdown",
   "metadata": {
    "deletable": false,
    "editable": false,
    "kernel": "SoS",
    "nbgrader": {
     "cell_type": "markdown",
     "checksum": "cc6d403ad1a8133fd373785e72b26473",
     "grade": false,
     "grade_id": "c-036",
     "locked": true,
     "schema_version": 3,
     "solution": false,
     "task": false
    }
   },
   "source": [
    "* capacity < n"
   ]
  },
  {
   "cell_type": "code",
   "execution_count": null,
   "metadata": {
    "deletable": false,
    "kernel": "Bash",
    "nbgrader": {
     "cell_type": "code",
     "checksum": "0cd39c8d9476383e5bc245c6c76c3108",
     "grade": true,
     "grade_id": "p-032",
     "locked": false,
     "points": 1,
     "schema_version": 3,
     "solution": true,
     "task": false
    }
   },
   "outputs": [],
   "source": [
    "\n",
    "./bbuf 1 1 1 1000 100"
   ]
  },
  {
   "cell_type": "markdown",
   "metadata": {
    "deletable": false,
    "editable": false,
    "kernel": "SoS",
    "nbgrader": {
     "cell_type": "markdown",
     "checksum": "003e82ce6f10805f816998494046413d",
     "grade": false,
     "grade_id": "c-037",
     "locked": true,
     "schema_version": 3,
     "solution": false,
     "task": false
    }
   },
   "source": [
    "## 3-2. Python の有限バッファ\n",
    "* APIは\n",
    "  * bb = bounded_buffer(capacity)\n",
    "  * bb.put(x)\n",
    "  * x = bb.get()\n",
    "\n",
    "以下は未完成版で,\n",
    "* capacity個のデータが既に保持されているときにputされたら, 0を返す(そうでなければ1を返す)\n",
    "* 1個もデータがないときにgetされたら, -1を返す (putするデータ(従ってgetされるデータ)は0以上とする)\n",
    "という動作をする"
   ]
  },
  {
   "cell_type": "code",
   "execution_count": null,
   "metadata": {
    "kernel": "Python 3 (ipykernel)",
    "nbgrader": {
     "grade": false,
     "grade_id": "c-038",
     "locked": false,
     "schema_version": 3,
     "solution": false,
     "task": false
    }
   },
   "outputs": [],
   "source": [
    "%%writefile bbuf.py\n",
    "\n",
    "import sys\n",
    "import threading\n",
    "import time\n",
    "\n",
    "def parallel(f, nthreads):\n",
    "    \"\"\"\n",
    "    #pragma omp parallel に似たもの\n",
    "\n",
    "    f(0), f(1), ..., f(nthreads - 1) の各々をスレッドで実行\n",
    "    \"\"\"\n",
    "    threads = [threading.Thread(target=f, args=(i, ))\n",
    "               for i in range(nthreads)]\n",
    "    for th in threads:\n",
    "        th.start()\n",
    "    for th in threads:\n",
    "        th.join()\n",
    "\n",
    "def parallel_for(f, a, b, nthreads):\n",
    "    \"\"\"\n",
    "    #pragma omp parallel for に似たもの\n",
    "    f(a), f(a+1), ..., f(b-1) を nthreads で分割して実行\n",
    "    \"\"\"\n",
    "    def thread_fun(i):\n",
    "        ai = (a * (nthreads - i)     + b * i) // nthreads\n",
    "        bi = (a * (nthreads - i - 1) + b * (i + 1)) // nthreads\n",
    "        for i in range(ai, bi):\n",
    "            f(i)\n",
    "    parallel(thread_fun, nthreads)\n",
    "\n",
    "class bounded_buffer:\n",
    "    \"\"\"\n",
    "    有限バッファ\n",
    "    要素は必ず >= 0 とする\n",
    "    \"\"\"\n",
    "    def __init__(self, capacity):\n",
    "        self.a = [0] * capacity\n",
    "        self.capacity = capacity\n",
    "        self.n_gets = 0\n",
    "        self.n_puts = 0\n",
    "    def put(self, x):\n",
    "        \"\"\"\n",
    "        要素を追加 \n",
    "        満杯だったら待つようにするのが課題\n",
    "        以下はそのままだと満杯の場合は0を返す(間違い)\n",
    "        \"\"\"\n",
    "        g = self.n_gets\n",
    "        p = self.n_puts\n",
    "        cap = self.capacity\n",
    "        assert(x >= 0), x\n",
    "        if p - g >= cap:\n",
    "            return 0 # NG\n",
    "        self.a[p % cap] = x\n",
    "        self.n_puts = p + 1\n",
    "        return 1 # OK\n",
    "    def get(self):\n",
    "        \"\"\"\n",
    "        要素を取り出す\n",
    "        空だったら待つようにするのが課題\n",
    "        以下はそのままだと空の場合は-1を返す(間違い)\n",
    "        \"\"\"\n",
    "        g = self.n_gets\n",
    "        p = self.n_puts\n",
    "        cap = self.capacity\n",
    "        if p - g <= 0:\n",
    "            return -1 # 空 \n",
    "        x = self.a[g % cap]\n",
    "        self.n_gets = g + 1\n",
    "        assert(x >= 0), x\n",
    "        return x\n",
    "\n",
    "def main():\n",
    "    i = 1\n",
    "    argv = sys.argv\n",
    "    argc = len(argv)\n",
    "    # putするスレッド数\n",
    "    n_putter_threads = int(argv[i]) if i < argc else 1\n",
    "    i += 1\n",
    "    # getするスレッド数 \n",
    "    n_getter_threads = int(argv[i]) if i < argc else 1\n",
    "    i += 1\n",
    "    # putとgetの間にbarrierを入れるか?\n",
    "    barrier_between_puts_gets = int(argv[i]) if i < argc else 1\n",
    "    i += 1\n",
    "    # put (get)される回数\n",
    "    n                = int(argv[i]) if i < argc else 1000000\n",
    "    i += 1\n",
    "    # 容量\n",
    "    capacity         = int(argv[i]) if i < argc else 1000\n",
    "    i += 1\n",
    "    # 検証用(validate[x] == 1 iff getでxが取り出された)\n",
    "    validate = [0] * n\n",
    "    bb = bounded_buffer(capacity)\n",
    "    nthreads = n_putter_threads + n_getter_threads\n",
    "    barrier = threading.Barrier(nthreads)\n",
    "\n",
    "    def thread_fun(idx):\n",
    "        if idx < n_putter_threads:\n",
    "            # I am a putter thread\n",
    "            a = n *  idx      // n_putter_threads\n",
    "            b = n * (idx + 1) // n_putter_threads\n",
    "            # 0,1,...,n-1 を1つずつput\n",
    "            for x in range(a, b):\n",
    "                ok = bb.put(x)\n",
    "                assert(ok)\n",
    "            if barrier_between_puts_gets:\n",
    "                # putが全員終わってからget\n",
    "                barrier.wait()\n",
    "        else:\n",
    "            idx -= n_putter_threads\n",
    "            # I am a getter thread\n",
    "            a = n *  idx      // n_getter_threads\n",
    "            b = n * (idx + 1) // n_getter_threads\n",
    "            # 0,1,...,n-1 を1つずつget\n",
    "            if barrier_between_puts_gets:\n",
    "                # putが全員終わってからget\n",
    "                barrier.wait()\n",
    "            for i in range(a, b):\n",
    "                x = bb.get()\n",
    "                assert(x >= 0), x\n",
    "                assert(x < n), x\n",
    "                assert(validate[x] == 0), validate[x]\n",
    "                validate[x] = 1\n",
    "    t0 = time.time()\n",
    "    parallel(thread_fun, nthreads)\n",
    "    t1 = time.time()\n",
    "    dt = t1 - t0\n",
    "    print(f\"{dt} sec\")\n",
    "    for i in range(n):\n",
    "        assert(validate[i] == 1), validate[i]\n",
    "    print(\"OK\")\n",
    "    return 0\n",
    "\n",
    "sys.exit(main())\n"
   ]
  },
  {
   "cell_type": "markdown",
   "metadata": {
    "deletable": false,
    "editable": false,
    "kernel": "SoS",
    "nbgrader": {
     "cell_type": "markdown",
     "checksum": "87a2d05169819820a5998cbcd0aa1ea3",
     "grade": false,
     "grade_id": "c-039",
     "locked": true,
     "schema_version": 3,
     "solution": false,
     "task": false
    }
   },
   "source": [
    "```\n",
    "python3 bbuf.py put_threads get_threads sync_between_puts_and_gets n capacity\n",
    "```\n",
    " \n",
    "で起動する. 動作はC版と同じ\n",
    "\n",
    "同様に, 未完成バージョンは以下の条件であれば動作する\n",
    " * put_threads == 1\n",
    " * get_threads == 1\n",
    " * sync_between_puts_and_gets == 1\n",
    " * capacity >= n"
   ]
  },
  {
   "cell_type": "code",
   "execution_count": null,
   "metadata": {
    "deletable": false,
    "kernel": "Bash",
    "nbgrader": {
     "cell_type": "code",
     "checksum": "0d8bf39bfd0d7a93537713604b8a7724",
     "grade": true,
     "grade_id": "p-033",
     "locked": false,
     "points": 1,
     "schema_version": 3,
     "solution": true,
     "task": false
    }
   },
   "outputs": [],
   "source": [
    "\n",
    "python3 bbuf.py 1 1 1 1000 1000"
   ]
  },
  {
   "cell_type": "markdown",
   "metadata": {
    "deletable": false,
    "editable": false,
    "kernel": "SoS",
    "nbgrader": {
     "cell_type": "markdown",
     "checksum": "61be11a71ccf7e51e1352c5d21d9fb2e",
     "grade": false,
     "grade_id": "c-040",
     "locked": true,
     "schema_version": 3,
     "solution": false,
     "task": false
    }
   },
   "source": [
    "以下はどれもエラーになる\n",
    "\n",
    "* putとgetが並行"
   ]
  },
  {
   "cell_type": "code",
   "execution_count": null,
   "metadata": {
    "deletable": false,
    "kernel": "Bash",
    "nbgrader": {
     "cell_type": "code",
     "checksum": "3fa73f6929ceaa9c9dfd6f2bdb78c3e6",
     "grade": true,
     "grade_id": "p-034",
     "locked": false,
     "points": 1,
     "schema_version": 3,
     "solution": true,
     "task": false
    }
   },
   "outputs": [],
   "source": [
    "\n",
    "python3 bbuf.py 1 1 0 1000 1000"
   ]
  },
  {
   "cell_type": "markdown",
   "metadata": {
    "deletable": false,
    "editable": false,
    "kernel": "SoS",
    "nbgrader": {
     "cell_type": "markdown",
     "checksum": "dd0b3501c59e9eecdc2a3b225d5089e0",
     "grade": false,
     "grade_id": "c-041",
     "locked": true,
     "schema_version": 3,
     "solution": false,
     "task": false
    }
   },
   "source": [
    "* 複数のputが並行"
   ]
  },
  {
   "cell_type": "code",
   "execution_count": null,
   "metadata": {
    "deletable": false,
    "kernel": "Bash",
    "nbgrader": {
     "cell_type": "code",
     "checksum": "482f2a09619e43760649a866bb1b54e2",
     "grade": true,
     "grade_id": "p-035",
     "locked": false,
     "points": 1,
     "schema_version": 3,
     "solution": true,
     "task": false
    }
   },
   "outputs": [],
   "source": [
    "\n",
    "python3 bbuf.py 2 1 1 1000 1000"
   ]
  },
  {
   "cell_type": "markdown",
   "metadata": {
    "deletable": false,
    "editable": false,
    "kernel": "SoS",
    "nbgrader": {
     "cell_type": "markdown",
     "checksum": "2bcf53a19aae6de8a73f936c8eb07d3f",
     "grade": false,
     "grade_id": "c-042",
     "locked": true,
     "schema_version": 3,
     "solution": false,
     "task": false
    }
   },
   "source": [
    "* 複数のgetが並行"
   ]
  },
  {
   "cell_type": "code",
   "execution_count": null,
   "metadata": {
    "deletable": false,
    "kernel": "Bash",
    "nbgrader": {
     "cell_type": "code",
     "checksum": "cd1cde9d3be0165fe1b7c518cc8c7a52",
     "grade": true,
     "grade_id": "p-036",
     "locked": false,
     "points": 1,
     "schema_version": 3,
     "solution": true,
     "task": false
    }
   },
   "outputs": [],
   "source": [
    "\n",
    "python3 bbuf.py 1 2 1 1000 1000"
   ]
  },
  {
   "cell_type": "markdown",
   "metadata": {
    "deletable": false,
    "editable": false,
    "kernel": "SoS",
    "nbgrader": {
     "cell_type": "markdown",
     "checksum": "af790e5f382db83ce1ae9a4787a96e3e",
     "grade": false,
     "grade_id": "c-043",
     "locked": true,
     "schema_version": 3,
     "solution": false,
     "task": false
    }
   },
   "source": [
    "* capacity < n"
   ]
  },
  {
   "cell_type": "code",
   "execution_count": null,
   "metadata": {
    "deletable": false,
    "kernel": "Bash",
    "nbgrader": {
     "cell_type": "code",
     "checksum": "a74ea41f13cbe6430e21eac08defea95",
     "grade": true,
     "grade_id": "p-037",
     "locked": false,
     "points": 1,
     "schema_version": 3,
     "solution": true,
     "task": false
    }
   },
   "outputs": [],
   "source": [
    "\n",
    "python3 bbuf.py 1 1 1 1000 100"
   ]
  },
  {
   "cell_type": "markdown",
   "metadata": {
    "deletable": false,
    "editable": false,
    "kernel": "SoS",
    "nbgrader": {
     "cell_type": "markdown",
     "checksum": "db8cd9a75848ab6967c8d82db62cb61f",
     "grade": false,
     "grade_id": "c-044",
     "locked": true,
     "schema_version": 3,
     "solution": false,
     "task": false
    }
   },
   "source": [
    "# <font color=\"green\"> Problem 5 :  有限バッファの実装 (C)</font>"
   ]
  },
  {
   "cell_type": "markdown",
   "metadata": {
    "deletable": false,
    "editable": false,
    "kernel": "SoS",
    "nbgrader": {
     "cell_type": "markdown",
     "checksum": "b09e9ab373f9a576f74b2eebfd102ed1",
     "grade": false,
     "grade_id": "c-045",
     "locked": true,
     "schema_version": 3,
     "solution": false,
     "task": false
    }
   },
   "source": [
    "* 有限バッファへmutex, 条件変数を導入し, 複数のスレッドが並行に動き, capacity < n であっても正しく動くようにせよ\n",
    "* 構造は, 両側飽和カウンタとよく似ているので参考にせよ"
   ]
  },
  {
   "cell_type": "code",
   "execution_count": null,
   "metadata": {
    "deletable": false,
    "kernel": "Python 3 (ipykernel)",
    "nbgrader": {
     "cell_type": "code",
     "checksum": "0ee9e09e8a354c172732a0695a275b7f",
     "grade": true,
     "grade_id": "p-038",
     "locked": false,
     "points": 1,
     "schema_version": 3,
     "solution": true,
     "task": false
    }
   },
   "outputs": [],
   "source": [
    "\n",
    "%%writefile bbuf.c\n",
    "#include <assert.h>\n",
    "#include <stdio.h>\n",
    "#include <stdlib.h>\n",
    "#include <time.h>\n",
    "#include <unistd.h>\n",
    "#include <omp.h>\n",
    "#include <pthread.h>\n",
    "\n",
    "void die(const char * msg) {\n",
    "  perror(msg); exit(1);\n",
    "}\n",
    "\n",
    "double cur_time() {\n",
    "  struct timespec ts[1];\n",
    "  clock_gettime(CLOCK_REALTIME, ts);\n",
    "  return ts->tv_nsec * 1.0E-9 + ts->tv_sec;\n",
    "}\n",
    "\n",
    "/* 有限バッファ\n",
    "   要素は必ず >= 0 とする */\n",
    "typedef struct {\n",
    "  long n_gets;                  /* getされた回数 */\n",
    "  long n_puts;                  /* putされた回数 */\n",
    "  long capacity;                /* 容量 */\n",
    "  long * a;                     /* 中身(capacity要素の配列) */\n",
    "  pthread_mutex_t m[1];\n",
    "} bounded_buffer_t;\n",
    "\n",
    "/* 容量 capacity で初期化 */\n",
    "void bounded_buffer_init(bounded_buffer_t * bb, long capacity) {\n",
    "  long * a = (long *)malloc(sizeof(long) * capacity);\n",
    "  if (!a) die(\"malloc\");\n",
    "  bb->a = a;\n",
    "  bb->capacity = capacity;\n",
    "  bb->n_gets = 0;\n",
    "  bb->n_puts = 0;\n",
    "  pthread_mutex_init(bb->m, 0);\n",
    "}\n",
    "\n",
    "/* 要素を追加 \n",
    " * 満杯だったら待つようにするのが課題\n",
    " * 以下はそのままだと満杯の場合は0を返す(間違い)\n",
    " */\n",
    "int bounded_buffer_put(bounded_buffer_t * bb, long x) {\n",
    "  long g = bb->n_gets;\n",
    "  long p = bb->n_puts;\n",
    "  long cap = bb->capacity;\n",
    "  assert(x >= 0);\n",
    "  if (p - g >= cap) {\n",
    "    return 0;                   /* NG */\n",
    "  }\n",
    "  bb->a[p % cap] = x;\n",
    "  bb->n_puts = p + 1;\n",
    "  return 1;                     /* OK */\n",
    "}\n",
    "\n",
    "/* 要素を取り出す\n",
    " * 空だったら待つようにするのが課題\n",
    " * 以下はそのままだと空の場合は-1を返す(間違い)\n",
    " */\n",
    "long bounded_buffer_get(bounded_buffer_t * bb) {\n",
    "  long g = bb->n_gets;\n",
    "  long p = bb->n_puts;\n",
    "  long cap = bb->capacity;\n",
    "  if (p - g <= 0) {\n",
    "    return -1;                  /* 空 */\n",
    "  }\n",
    "  long x = bb->a[g % cap];\n",
    "  bb->n_gets = g + 1;\n",
    "  assert(x >= 0);\n",
    "  return x;\n",
    "}\n",
    "\n",
    "int main(int argc, char ** argv) {\n",
    "  long i = 1;\n",
    "  /* putするスレッド数 */\n",
    "  int n_putter_threads = (argc > i ? atoi(argv[i]) : 1); i++;\n",
    "  /* getするスレッド数 */\n",
    "  int n_getter_threads = (argc > i ? atoi(argv[i]) : 1); i++;\n",
    "  /* putとgetの間にbarrierを入れるか? */\n",
    "  int barrier_between_puts_gets = (argc > i ? atoi(argv[i]) : 1); i++;\n",
    "  /* put (get)される回数 */\n",
    "  long n                = (argc > i ? atol(argv[i]) : 1000000); i++;\n",
    "  /* 容量 */\n",
    "  long capacity         = (argc > i ? atol(argv[i]) : 1000); i++;\n",
    "  /* 検証用(validate[x] == 1 iff getでxが取り出された) */\n",
    "  char * validate = (char *)calloc(n, 1);\n",
    "\n",
    "  bounded_buffer_t bb[1];\n",
    "  bounded_buffer_init(bb, capacity);\n",
    "\n",
    "  int nthreads = n_putter_threads + n_getter_threads;\n",
    "  pthread_barrier_t barrier[1];\n",
    "  pthread_barrier_init(barrier, 0, nthreads);\n",
    "\n",
    "  double t0 = cur_time();\n",
    "#pragma omp parallel num_threads(n_putter_threads + n_getter_threads)\n",
    "  {\n",
    "    int idx = omp_get_thread_num();\n",
    "    if (idx < n_putter_threads) {\n",
    "      /* I am a putter thread */\n",
    "      long a = n *  idx      / n_putter_threads;\n",
    "      long b = n * (idx + 1) / n_putter_threads;\n",
    "      /* 0,1,...,n-1 を1つずつput */\n",
    "      for (long x = a; x < b; x++) {\n",
    "        int ok = bounded_buffer_put(bb, x);\n",
    "        assert(ok);\n",
    "      }\n",
    "      if (barrier_between_puts_gets) {\n",
    "        /* putが全員終わってからget */\n",
    "        pthread_barrier_wait(barrier);\n",
    "      }\n",
    "    } else {\n",
    "      /* I am a getter thread */\n",
    "      idx -= n_putter_threads;\n",
    "      long a = n *  idx      / n_getter_threads;\n",
    "      long b = n * (idx + 1) / n_getter_threads;\n",
    "      if (barrier_between_puts_gets) {\n",
    "        /* putが全員終わってからget */\n",
    "        pthread_barrier_wait(barrier);\n",
    "      }\n",
    "      /* 合計n回get */\n",
    "      for (long x = a; x < b; x++) {\n",
    "        long x = bounded_buffer_get(bb);\n",
    "        assert(x >= 0);\n",
    "        assert(x < n);\n",
    "        assert(validate[x] == 0);\n",
    "        validate[x] = 1;\n",
    "      }\n",
    "    }\n",
    "  }\n",
    "  double t1 = cur_time();\n",
    "  printf(\"%f sec\\n\", t1 - t0);\n",
    "  for (long i = 0; i < n; i++) {\n",
    "    assert(validate[i]);\n",
    "  }\n",
    "  printf(\"OK\\n\");\n",
    "  return 0;\n",
    "}"
   ]
  },
  {
   "cell_type": "code",
   "execution_count": null,
   "metadata": {
    "deletable": false,
    "kernel": "Bash",
    "nbgrader": {
     "cell_type": "code",
     "checksum": "69d3ac3e1419576a93a6b216f386552d",
     "grade": true,
     "grade_id": "p-039",
     "locked": false,
     "points": 1,
     "schema_version": 3,
     "solution": true,
     "task": false
    }
   },
   "outputs": [],
   "source": [
    "\n",
    "gcc -Wall -fopenmp -o bbuf bbuf.c"
   ]
  },
  {
   "cell_type": "markdown",
   "metadata": {
    "deletable": false,
    "editable": false,
    "kernel": "SoS",
    "nbgrader": {
     "cell_type": "markdown",
     "checksum": "8626e00d2dee13dc3986189f62738028",
     "grade": false,
     "grade_id": "c-046",
     "locked": true,
     "schema_version": 3,
     "solution": false,
     "task": false
    }
   },
   "source": [
    "* 色々なパラメータで実行してみよ"
   ]
  },
  {
   "cell_type": "code",
   "execution_count": null,
   "metadata": {
    "deletable": false,
    "kernel": "Bash",
    "nbgrader": {
     "cell_type": "code",
     "checksum": "0c9fd7f2f4ccdacd444ffa9df4fdd9a7",
     "grade": true,
     "grade_id": "p-040",
     "locked": false,
     "points": 1,
     "schema_version": 3,
     "solution": true,
     "task": false
    }
   },
   "outputs": [],
   "source": [
    "\n",
    "./bbuf 1 1 1 10 10"
   ]
  },
  {
   "cell_type": "markdown",
   "metadata": {
    "deletable": false,
    "editable": false,
    "kernel": "SoS",
    "nbgrader": {
     "cell_type": "markdown",
     "checksum": "99b52ca0037be3b4f5172770bd483bcb",
     "grade": false,
     "grade_id": "c-047",
     "locked": true,
     "schema_version": 3,
     "solution": false,
     "task": false
    }
   },
   "source": [
    "* 以下でテストせよ\n",
    "\n",
    "* putとgetが並行"
   ]
  },
  {
   "cell_type": "code",
   "execution_count": null,
   "metadata": {
    "deletable": false,
    "kernel": "Bash",
    "nbgrader": {
     "cell_type": "code",
     "checksum": "3e46a5ba6b0f86e43b6ccb6327fc898f",
     "grade": true,
     "grade_id": "p-041",
     "locked": false,
     "points": 1,
     "schema_version": 3,
     "solution": true,
     "task": false
    }
   },
   "outputs": [],
   "source": [
    "\n",
    "./bbuf 1 1 0 100000 100"
   ]
  },
  {
   "cell_type": "markdown",
   "metadata": {
    "deletable": false,
    "editable": false,
    "kernel": "SoS",
    "nbgrader": {
     "cell_type": "markdown",
     "checksum": "cf03d8552b807d3cfaff633c3fbd4bf3",
     "grade": false,
     "grade_id": "c-048",
     "locked": true,
     "schema_version": 3,
     "solution": false,
     "task": false
    }
   },
   "source": [
    "* 多数のput/getが並行"
   ]
  },
  {
   "cell_type": "code",
   "execution_count": null,
   "metadata": {
    "deletable": false,
    "kernel": "Bash",
    "nbgrader": {
     "cell_type": "code",
     "checksum": "5ac918832a75e7d032a8047c97390399",
     "grade": true,
     "grade_id": "p-042",
     "locked": false,
     "points": 1,
     "schema_version": 3,
     "solution": true,
     "task": false
    }
   },
   "outputs": [],
   "source": [
    "\n",
    "./bbuf 10 20 0 100000 100"
   ]
  },
  {
   "cell_type": "code",
   "execution_count": null,
   "metadata": {
    "deletable": false,
    "kernel": "Bash",
    "nbgrader": {
     "cell_type": "code",
     "checksum": "7b1d099a69d246457a4520a47f586267",
     "grade": true,
     "grade_id": "p-043",
     "locked": false,
     "points": 1,
     "schema_version": 3,
     "solution": true,
     "task": false
    }
   },
   "outputs": [],
   "source": [
    "\n",
    "./bbuf 20 10 0 100000 100"
   ]
  },
  {
   "cell_type": "markdown",
   "metadata": {
    "deletable": false,
    "editable": false,
    "kernel": "SoS",
    "nbgrader": {
     "cell_type": "markdown",
     "checksum": "fe3ec4607013107137a3d743998f9e1e",
     "grade": false,
     "grade_id": "c-049",
     "locked": true,
     "schema_version": 3,
     "solution": false,
     "task": false
    }
   },
   "source": [
    "* 極端にcapacityが少ない"
   ]
  },
  {
   "cell_type": "code",
   "execution_count": null,
   "metadata": {
    "deletable": false,
    "kernel": "Bash",
    "nbgrader": {
     "cell_type": "code",
     "checksum": "67040cf2db72cd10305963ae6cd542bb",
     "grade": true,
     "grade_id": "p-044",
     "locked": false,
     "points": 1,
     "schema_version": 3,
     "solution": true,
     "task": false
    }
   },
   "outputs": [],
   "source": [
    "\n",
    "./bbuf 20 30 0 100000 1"
   ]
  },
  {
   "cell_type": "code",
   "execution_count": null,
   "metadata": {
    "deletable": false,
    "kernel": "Bash",
    "nbgrader": {
     "cell_type": "code",
     "checksum": "ddb910b545aa227da880ab7580805852",
     "grade": true,
     "grade_id": "p-045",
     "locked": false,
     "points": 1,
     "schema_version": 3,
     "solution": true,
     "task": false
    }
   },
   "outputs": [],
   "source": [
    "\n",
    "./bbuf 30 20 0 100000 1"
   ]
  },
  {
   "cell_type": "markdown",
   "metadata": {
    "deletable": false,
    "editable": false,
    "kernel": "SoS",
    "nbgrader": {
     "cell_type": "markdown",
     "checksum": "fdbc4c09234299530a7840b898b41249",
     "grade": false,
     "grade_id": "c-050",
     "locked": true,
     "schema_version": 3,
     "solution": false,
     "task": false
    }
   },
   "source": [
    "# <font color=\"green\"> Problem 6 :  有限バッファの実装 (Python)</font>"
   ]
  },
  {
   "cell_type": "markdown",
   "metadata": {
    "deletable": false,
    "editable": false,
    "kernel": "SoS",
    "nbgrader": {
     "cell_type": "markdown",
     "checksum": "bc447eb912209ca2bc0177df5a3a2888",
     "grade": false,
     "grade_id": "c-051",
     "locked": true,
     "schema_version": 3,
     "solution": false,
     "task": false
    }
   },
   "source": [
    "* 有限バッファへmutex, 条件変数を導入し, 複数のスレッドが並行に動き, capacity < n であっても正しく動くようにせよ\n",
    "* 構造は, 両側飽和カウンタとよく似ているので参考にせよ"
   ]
  },
  {
   "cell_type": "code",
   "execution_count": null,
   "metadata": {
    "deletable": false,
    "kernel": "Python 3 (ipykernel)",
    "nbgrader": {
     "cell_type": "code",
     "checksum": "ab29e86586711f47540bc07bdfafb580",
     "grade": true,
     "grade_id": "p-046",
     "locked": false,
     "points": 1,
     "schema_version": 3,
     "solution": true,
     "task": false
    }
   },
   "outputs": [],
   "source": [
    "\n",
    "%%writefile bbuf.py\n",
    "\n",
    "import sys\n",
    "import threading\n",
    "import time\n",
    "\n",
    "def parallel(f, nthreads):\n",
    "    \"\"\"\n",
    "    #pragma omp parallel に似たもの\n",
    "\n",
    "    f(0), f(1), ..., f(nthreads - 1) の各々をスレッドで実行\n",
    "    \"\"\"\n",
    "    threads = [threading.Thread(target=f, args=(i, ))\n",
    "               for i in range(nthreads)]\n",
    "    for th in threads:\n",
    "        th.start()\n",
    "    for th in threads:\n",
    "        th.join()\n",
    "\n",
    "def parallel_for(f, a, b, nthreads):\n",
    "    \"\"\"\n",
    "    #pragma omp parallel for に似たもの\n",
    "    f(a), f(a+1), ..., f(b-1) を nthreads で分割して実行\n",
    "    \"\"\"\n",
    "    def thread_fun(i):\n",
    "        ai = (a * (nthreads - i)     + b * i) // nthreads\n",
    "        bi = (a * (nthreads - i - 1) + b * (i + 1)) // nthreads\n",
    "        for i in range(ai, bi):\n",
    "            f(i)\n",
    "    parallel(thread_fun, nthreads)\n",
    "\n",
    "class bounded_buffer:\n",
    "    \"\"\"\n",
    "    有限バッファ\n",
    "    要素は必ず >= 0 とする\n",
    "    \"\"\"\n",
    "    def __init__(self, capacity):\n",
    "        self.a = [0] * capacity\n",
    "        self.capacity = capacity\n",
    "        self.n_gets = 0\n",
    "        self.n_puts = 0\n",
    "        self.m = threading.Lock()\n",
    "    def put(self, x):\n",
    "        \"\"\"\n",
    "        要素を追加 \n",
    "        満杯だったら待つようにするのが課題\n",
    "        以下はそのままだと満杯の場合は0を返す(間違い)\n",
    "        \"\"\"\n",
    "        g = self.n_gets\n",
    "        p = self.n_puts\n",
    "        cap = self.capacity\n",
    "        assert(x >= 0), x\n",
    "        if p - g >= cap:\n",
    "            return 0 # NG\n",
    "        self.a[p % cap] = x\n",
    "        self.n_puts = p + 1\n",
    "        return 1 # OK\n",
    "    def get(self):\n",
    "        \"\"\"\n",
    "        要素を取り出す\n",
    "        空だったら待つようにするのが課題\n",
    "        以下はそのままだと空の場合は-1を返す(間違い)\n",
    "        \"\"\"\n",
    "        g = self.n_gets\n",
    "        p = self.n_puts\n",
    "        cap = self.capacity\n",
    "        if p - g <= 0:\n",
    "            return -1 # 空 \n",
    "        x = self.a[g % cap]\n",
    "        self.n_gets = g + 1\n",
    "        assert(x >= 0), x\n",
    "        return x\n",
    "\n",
    "def main():\n",
    "    i = 1\n",
    "    argv = sys.argv\n",
    "    argc = len(argv)\n",
    "    # putするスレッド数\n",
    "    n_putter_threads = int(argv[i]) if i < argc else 1\n",
    "    i += 1\n",
    "    # getするスレッド数 \n",
    "    n_getter_threads = int(argv[i]) if i < argc else 1\n",
    "    i += 1\n",
    "    # putとgetの間にbarrierを入れるか?\n",
    "    barrier_between_puts_gets = int(argv[i]) if i < argc else 1\n",
    "    i += 1\n",
    "    # put (get)される回数\n",
    "    n                = int(argv[i]) if i < argc else 1000000\n",
    "    i += 1\n",
    "    # 容量\n",
    "    capacity         = int(argv[i]) if i < argc else 1000\n",
    "    i += 1\n",
    "    # 検証用(validate[x] == 1 iff getでxが取り出された)\n",
    "    validate = [0] * n\n",
    "    bb = bounded_buffer(capacity)\n",
    "    nthreads = n_putter_threads + n_getter_threads\n",
    "    barrier = threading.Barrier(nthreads)\n",
    "\n",
    "    def thread_fun(idx):\n",
    "        if idx < n_putter_threads:\n",
    "            # I am a putter thread\n",
    "            a = n *  idx      // n_putter_threads\n",
    "            b = n * (idx + 1) // n_putter_threads\n",
    "            # 0,1,...,n-1 を1つずつput\n",
    "            for x in range(a, b):\n",
    "                ok = bb.put(x)\n",
    "                assert(ok)\n",
    "            if barrier_between_puts_gets:\n",
    "                # putが全員終わってからget\n",
    "                barrier.wait()\n",
    "        else:\n",
    "            idx -= n_putter_threads\n",
    "            # I am a getter thread\n",
    "            a = n *  idx      // n_getter_threads\n",
    "            b = n * (idx + 1) // n_getter_threads\n",
    "            # 0,1,...,n-1 を1つずつget\n",
    "            if barrier_between_puts_gets:\n",
    "                # putが全員終わってからget\n",
    "                barrier.wait()\n",
    "            for i in range(a, b):\n",
    "                x = bb.get()\n",
    "                assert(x >= 0), x\n",
    "                assert(x < n), x\n",
    "                assert(validate[x] == 0), validate[x]\n",
    "                validate[x] = 1\n",
    "    t0 = time.time()\n",
    "    parallel(thread_fun, nthreads)\n",
    "    t1 = time.time()\n",
    "    dt = t1 - t0\n",
    "    print(f\"{dt} sec\")\n",
    "    for i in range(n):\n",
    "        assert(validate[i] == 1), validate[i]\n",
    "    print(\"OK\")\n",
    "    return 0\n",
    "\n",
    "sys.exit(main())\n"
   ]
  },
  {
   "cell_type": "markdown",
   "metadata": {
    "deletable": false,
    "editable": false,
    "kernel": "SoS",
    "nbgrader": {
     "cell_type": "markdown",
     "checksum": "af5432d23a4ef4acfd77ece2c51a5ba3",
     "grade": false,
     "grade_id": "c-052",
     "locked": true,
     "schema_version": 3,
     "solution": false,
     "task": false
    }
   },
   "source": [
    "* 色々なパラメータで実行してみよ"
   ]
  },
  {
   "cell_type": "code",
   "execution_count": null,
   "metadata": {
    "deletable": false,
    "kernel": "Bash",
    "nbgrader": {
     "cell_type": "code",
     "checksum": "41e76d0ab508153c161b7b469d12d447",
     "grade": true,
     "grade_id": "p-047",
     "locked": false,
     "points": 1,
     "schema_version": 3,
     "solution": true,
     "task": false
    }
   },
   "outputs": [],
   "source": [
    "\n",
    "python3 bbuf.py 1 1 1 10 10"
   ]
  },
  {
   "cell_type": "markdown",
   "metadata": {
    "deletable": false,
    "editable": false,
    "kernel": "SoS",
    "nbgrader": {
     "cell_type": "markdown",
     "checksum": "dc11cbc16a91e33db5dd2dda328e9b05",
     "grade": false,
     "grade_id": "c-053",
     "locked": true,
     "schema_version": 3,
     "solution": false,
     "task": false
    }
   },
   "source": [
    "* 以下でテストせよ\n",
    "\n",
    "* putとgetが並行"
   ]
  },
  {
   "cell_type": "code",
   "execution_count": null,
   "metadata": {
    "deletable": false,
    "kernel": "Bash",
    "nbgrader": {
     "cell_type": "code",
     "checksum": "06792f26ecebb26121266f9feb00540c",
     "grade": true,
     "grade_id": "p-048",
     "locked": false,
     "points": 1,
     "schema_version": 3,
     "solution": true,
     "task": false
    }
   },
   "outputs": [],
   "source": [
    "\n",
    "python3 bbuf.py  1 1 0 100000 100"
   ]
  },
  {
   "cell_type": "markdown",
   "metadata": {
    "deletable": false,
    "editable": false,
    "kernel": "SoS",
    "nbgrader": {
     "cell_type": "markdown",
     "checksum": "de6754e29ed193277337baba0a8bc690",
     "grade": false,
     "grade_id": "c-054",
     "locked": true,
     "schema_version": 3,
     "solution": false,
     "task": false
    }
   },
   "source": [
    "* 多数のput/getが並行"
   ]
  },
  {
   "cell_type": "code",
   "execution_count": null,
   "metadata": {
    "deletable": false,
    "kernel": "Bash",
    "nbgrader": {
     "cell_type": "code",
     "checksum": "570f835e3a8656af240acd33a315b4fa",
     "grade": true,
     "grade_id": "p-049",
     "locked": false,
     "points": 1,
     "schema_version": 3,
     "solution": true,
     "task": false
    }
   },
   "outputs": [],
   "source": [
    "\n",
    "python3 bbuf.py  10 20 0 100000 100"
   ]
  },
  {
   "cell_type": "code",
   "execution_count": null,
   "metadata": {
    "deletable": false,
    "kernel": "Bash",
    "nbgrader": {
     "cell_type": "code",
     "checksum": "2dffc5fc991b9dc737c33ba993c20810",
     "grade": true,
     "grade_id": "p-050",
     "locked": false,
     "points": 1,
     "schema_version": 3,
     "solution": true,
     "task": false
    }
   },
   "outputs": [],
   "source": [
    "\n",
    "python3 bbuf.py 20 10 0 100000 100"
   ]
  },
  {
   "cell_type": "markdown",
   "metadata": {
    "deletable": false,
    "editable": false,
    "kernel": "SoS",
    "nbgrader": {
     "cell_type": "markdown",
     "checksum": "118442ca901e5b826bcfd9d376627f12",
     "grade": false,
     "grade_id": "c-055",
     "locked": true,
     "schema_version": 3,
     "solution": false,
     "task": false
    }
   },
   "source": [
    "* 極端にcapacityが少ない"
   ]
  },
  {
   "cell_type": "code",
   "execution_count": null,
   "metadata": {
    "deletable": false,
    "kernel": "Bash",
    "nbgrader": {
     "cell_type": "code",
     "checksum": "ebcc646ef26a19b144f49b06ff77e6f8",
     "grade": true,
     "grade_id": "p-051",
     "locked": false,
     "points": 1,
     "schema_version": 3,
     "solution": true,
     "task": false
    }
   },
   "outputs": [],
   "source": [
    "\n",
    "python3 bbuf.py  20 30 0 100000 1"
   ]
  },
  {
   "cell_type": "code",
   "execution_count": null,
   "metadata": {
    "deletable": false,
    "kernel": "Bash",
    "nbgrader": {
     "cell_type": "code",
     "checksum": "d12910aa4efdb16eaef476eea4a97448",
     "grade": true,
     "grade_id": "p-052",
     "locked": false,
     "points": 1,
     "schema_version": 3,
     "solution": true,
     "task": false
    }
   },
   "outputs": [],
   "source": [
    "\n",
    "python3 bbuf.py 30 20 0 100000 1"
   ]
  }
 ],
 "metadata": {
  "kernelspec": {
   "display_name": "SoS",
   "language": "sos",
   "name": "sos"
  },
  "language_info": {
   "codemirror_mode": "sos",
   "file_extension": ".sos",
   "mimetype": "text/x-sos",
   "name": "sos",
   "nbconvert_exporter": "sos_notebook.converter.SoS_Exporter",
   "pygments_lexer": "sos"
  },
  "sos": {
   "kernels": [
    [
     "Bash",
     "bash",
     "bash",
     "",
     "shell"
    ],
    [
     "C",
     "c_kernel",
     "c",
     "",
     ""
    ],
    [
     "Go",
     "gophernotes",
     "go",
     "",
     ""
    ],
    [
     "Julia 1.10.2",
     "julia-1.10",
     "julia",
     "",
     ""
    ],
    [
     "OCaml default",
     "ocaml-jupyter",
     "OCaml",
     "",
     "text/x-ocaml"
    ],
    [
     "Python 3 (ipykernel)",
     "python3",
     "python3",
     "",
     {
      "name": "ipython",
      "version": 3
     }
    ],
    [
     "Rust",
     "rust",
     "rust",
     "",
     ""
    ]
   ],
   "panel": {
    "displayed": true,
    "height": 0
   },
   "version": "0.23.3"
  }
 },
 "nbformat": 4,
 "nbformat_minor": 4
}
