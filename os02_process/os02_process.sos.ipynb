{
 "cells": [
  {
   "cell_type": "markdown",
   "metadata": {
    "deletable": false,
    "editable": false,
    "kernel": "SoS",
    "nbgrader": {
     "cell_type": "markdown",
     "checksum": "fd61970bb5fffa60069bbf82323c80a5",
     "grade": false,
     "grade_id": "c-001",
     "locked": true,
     "schema_version": 3,
     "solution": false,
     "task": false
    }
   },
   "source": [
    "\n",
    "#  オペレーティングシステム 演習 02\n",
    "#  プロセス"
   ]
  },
  {
   "cell_type": "markdown",
   "metadata": {
    "kernel": "SoS",
    "nbgrader": {
     "grade": false,
     "grade_id": "c-002",
     "locked": false,
     "schema_version": 3,
     "solution": false,
     "task": false
    }
   },
   "source": [
    "\n",
    "名前と学生証番号を書け. Enter your name and student ID.\n",
    "\n",
    " * 名前 Name:金井優希\n",
    " * 学生証番号 Student ID:249217\n"
   ]
  },
  {
   "cell_type": "markdown",
   "metadata": {
    "deletable": false,
    "editable": false,
    "kernel": "SoS",
    "nbgrader": {
     "cell_type": "markdown",
     "checksum": "31320840d77d9299c31d07ba0d347739",
     "grade": false,
     "grade_id": "c-003",
     "locked": true,
     "schema_version": 3,
     "solution": false,
     "task": false
    }
   },
   "source": [
    "# 1. プロセス関連コマンド"
   ]
  },
  {
   "cell_type": "markdown",
   "metadata": {
    "deletable": false,
    "editable": false,
    "kernel": "SoS",
    "nbgrader": {
     "cell_type": "markdown",
     "checksum": "6c0863d07db91036d7dafc3cfc018afc",
     "grade": false,
     "grade_id": "c-004",
     "locked": true,
     "schema_version": 3,
     "solution": false,
     "task": false
    }
   },
   "source": [
    "## 1-1. ps auxww\n",
    "* ps は現存するプロセスを表示するコマンド\n",
    "* 話せば長い(詳細はmanページを参照)が, auxwwですべてのプロセスがコマンドラインとともに表示される"
   ]
  },
  {
   "cell_type": "markdown",
   "metadata": {
    "deletable": false,
    "editable": false,
    "kernel": "SoS",
    "nbgrader": {
     "cell_type": "markdown",
     "checksum": "024cdebabd2537ae94e6fffac3274643",
     "grade": false,
     "grade_id": "c-005",
     "locked": true,
     "schema_version": 3,
     "solution": false,
     "task": false
    }
   },
   "source": [
    "* 以下によりシステムのすべてのプロセスが表示される\n",
    "* 長過ぎる出力がうっとおしければファイルに出力するコマンドに書き換えて実行しなおせば良い\n",
    "* 例えば\n",
    "```\n",
    "ps auxww > ps.txt\n",
    "```"
   ]
  },
  {
   "cell_type": "code",
   "execution_count": 2,
   "metadata": {
    "kernel": "Bash",
    "nbgrader": {
     "grade": false,
     "grade_id": "c-006",
     "locked": false,
     "schema_version": 3,
     "solution": false,
     "task": false
    }
   },
   "outputs": [
    {
     "name": "stdout",
     "output_type": "stream",
     "text": [
      "USER         PID %CPU %MEM    VSZ   RSS TTY      STAT START   TIME COMMAND\n",
      "root           1  0.0  0.0 167912 13620 ?        Ss   Sep30  14:33 /sbin/init\n",
      "root           2  0.0  0.0      0     0 ?        S    Sep30   0:04 [kthreadd]\n",
      "root           3  0.0  0.0      0     0 ?        I<   Sep30   0:00 [rcu_gp]\n",
      "root           4  0.0  0.0      0     0 ?        I<   Sep30   0:00 [rcu_par_gp]\n",
      "root           5  0.0  0.0      0     0 ?        I<   Sep30   0:00 [slub_flushwq]\n",
      "root           6  0.0  0.0      0     0 ?        I<   Sep30   0:00 [netns]\n",
      "root           8  0.0  0.0      0     0 ?        I<   Sep30   0:00 [kworker/0:0H-events_highpri]\n",
      "root          11  0.0  0.0      0     0 ?        I<   Sep30   0:00 [mm_percpu_wq]\n",
      "root          12  0.0  0.0      0     0 ?        S    Sep30   0:00 [rcu_tasks_rude_]\n",
      "root          13  0.0  0.0      0     0 ?        S    Sep30   0:00 [rcu_tasks_trace]\n",
      "root          14  0.0  0.0      0     0 ?        S    Sep30   0:18 [ksoftirqd/0]\n",
      "root          15  0.0  0.0      0     0 ?        I    Sep30  16:45 [rcu_sched]\n",
      "root          16  0.0  0.0      0     0 ?        S    Sep30   0:10 [migration/0]\n",
      "root          17  0.0  0.0      0     0 ?        S    Sep30   0:00 [idle_inject/0]\n",
      "root          19  0.0  0.0      0     0 ?        S    Sep30   0:00 [cpuhp/0]\n",
      "root          20  0.0  0.0      0     0 ?        S    Sep30   0:00 [cpuhp/1]\n",
      "root          21  0.0  0.0      0     0 ?        S    Sep30   0:00 [idle_inject/1]\n",
      "root          22  0.0  0.0      0     0 ?        S    Sep30   0:11 [migration/1]\n",
      "root          23  0.0  0.0      0     0 ?        S    Sep30   0:10 [ksoftirqd/1]\n",
      "root          25  0.0  0.0      0     0 ?        I<   Sep30   0:00 [kworker/1:0H-events_highpri]\n",
      "root          26  0.0  0.0      0     0 ?        S    Sep30   0:00 [cpuhp/2]\n",
      "root          27  0.0  0.0      0     0 ?        S    Sep30   0:00 [idle_inject/2]\n",
      "root          28  0.0  0.0      0     0 ?        S    Sep30   0:11 [migration/2]\n",
      "root          29  0.0  0.0      0     0 ?        S    Sep30   0:08 [ksoftirqd/2]\n",
      "root          31  0.0  0.0      0     0 ?        I<   Sep30   0:00 [kworker/2:0H-kblockd]\n",
      "root          32  0.0  0.0      0     0 ?        S    Sep30   0:00 [cpuhp/3]\n",
      "root          33  0.0  0.0      0     0 ?        S    Sep30   0:00 [idle_inject/3]\n",
      "root          34  0.0  0.0      0     0 ?        S    Sep30   0:11 [migration/3]\n",
      "root          35  0.0  0.0      0     0 ?        S    Sep30   0:08 [ksoftirqd/3]\n",
      "root          37  0.0  0.0      0     0 ?        I<   Sep30   0:00 [kworker/3:0H-events_highpri]\n",
      "root          38  0.0  0.0      0     0 ?        S    Sep30   0:00 [cpuhp/4]\n",
      "root          39  0.0  0.0      0     0 ?        S    Sep30   0:00 [idle_inject/4]\n",
      "root          40  0.0  0.0      0     0 ?        S    Sep30   0:11 [migration/4]\n",
      "root          41  0.0  0.0      0     0 ?        S    Sep30   0:03 [ksoftirqd/4]\n",
      "root          43  0.0  0.0      0     0 ?        I<   Sep30   0:00 [kworker/4:0H-kblockd]\n",
      "root          44  0.0  0.0      0     0 ?        S    Sep30   0:00 [cpuhp/5]\n",
      "root          45  0.0  0.0      0     0 ?        S    Sep30   0:00 [idle_inject/5]\n",
      "root          46  0.0  0.0      0     0 ?        S    Sep30   0:11 [migration/5]\n",
      "root          47  0.0  0.0      0     0 ?        S    Sep30   0:04 [ksoftirqd/5]\n",
      "root          49  0.0  0.0      0     0 ?        I<   Sep30   0:00 [kworker/5:0H-kblockd]\n",
      "root          50  0.0  0.0      0     0 ?        S    Sep30   0:00 [cpuhp/6]\n",
      "root          51  0.0  0.0      0     0 ?        S    Sep30   0:00 [idle_inject/6]\n",
      "root          52  0.0  0.0      0     0 ?        S    Sep30   0:11 [migration/6]\n",
      "root          53  0.0  0.0      0     0 ?        S    Sep30   0:03 [ksoftirqd/6]\n",
      "root          55  0.0  0.0      0     0 ?        I<   Sep30   0:00 [kworker/6:0H-events_highpri]\n",
      "root          56  0.0  0.0      0     0 ?        S    Sep30   0:00 [cpuhp/7]\n",
      "root          57  0.0  0.0      0     0 ?        S    Sep30   0:00 [idle_inject/7]\n",
      "root          58  0.0  0.0      0     0 ?        S    Sep30   0:11 [migration/7]\n",
      "root          59  0.0  0.0      0     0 ?        S    Sep30   0:04 [ksoftirqd/7]\n",
      "root          61  0.0  0.0      0     0 ?        I<   Sep30   0:00 [kworker/7:0H-kblockd]\n",
      "root          62  0.0  0.0      0     0 ?        S    Sep30   0:00 [cpuhp/8]\n",
      "root          63  0.0  0.0      0     0 ?        S    Sep30   0:00 [idle_inject/8]\n",
      "root          64  0.0  0.0      0     0 ?        S    Sep30   0:11 [migration/8]\n",
      "root          65  0.0  0.0      0     0 ?        S    Sep30   0:03 [ksoftirqd/8]\n",
      "root          67  0.0  0.0      0     0 ?        I<   Sep30   0:00 [kworker/8:0H-kblockd]\n",
      "root          68  0.0  0.0      0     0 ?        S    Sep30   0:00 [cpuhp/9]\n",
      "root          69  0.0  0.0      0     0 ?        S    Sep30   0:00 [idle_inject/9]\n",
      "root          70  0.0  0.0      0     0 ?        S    Sep30   0:11 [migration/9]\n",
      "root          71  0.0  0.0      0     0 ?        S    Sep30   0:03 [ksoftirqd/9]\n",
      "root          73  0.0  0.0      0     0 ?        I<   Sep30   0:00 [kworker/9:0H-kblockd]\n",
      "root          74  0.0  0.0      0     0 ?        S    Sep30   0:00 [cpuhp/10]\n",
      "root          75  0.0  0.0      0     0 ?        S    Sep30   0:00 [idle_inject/10]\n",
      "root          76  0.0  0.0      0     0 ?        S    Sep30   0:11 [migration/10]\n",
      "root          77  0.0  0.0      0     0 ?        S    Sep30   0:03 [ksoftirqd/10]\n",
      "root          79  0.0  0.0      0     0 ?        I<   Sep30   0:00 [kworker/10:0H-events_highpri]\n",
      "root          80  0.0  0.0      0     0 ?        S    Sep30   0:00 [cpuhp/11]\n",
      "root          81  0.0  0.0      0     0 ?        S    Sep30   0:00 [idle_inject/11]\n",
      "root          82  0.0  0.0      0     0 ?        S    Sep30   0:11 [migration/11]\n",
      "root          83  0.0  0.0      0     0 ?        S    Sep30   0:05 [ksoftirqd/11]\n",
      "root          85  0.0  0.0      0     0 ?        I<   Sep30   0:00 [kworker/11:0H-kblockd]\n",
      "root          86  0.0  0.0      0     0 ?        S    Sep30   0:00 [cpuhp/12]\n",
      "root          87  0.0  0.0      0     0 ?        S    Sep30   0:00 [idle_inject/12]\n",
      "root          88  0.0  0.0      0     0 ?        S    Sep30   0:11 [migration/12]\n",
      "root          89  0.0  0.0      0     0 ?        S    Sep30   0:03 [ksoftirqd/12]\n",
      "root          91  0.0  0.0      0     0 ?        I<   Sep30   0:00 [kworker/12:0H]\n",
      "root          92  0.0  0.0      0     0 ?        S    Sep30   0:00 [cpuhp/13]\n",
      "root          93  0.0  0.0      0     0 ?        S    Sep30   0:00 [idle_inject/13]\n",
      "root          94  0.0  0.0      0     0 ?        S    Sep30   0:11 [migration/13]\n",
      "root          95  0.0  0.0      0     0 ?        S    Sep30   0:03 [ksoftirqd/13]\n",
      "root          97  0.0  0.0      0     0 ?        I<   Sep30   0:00 [kworker/13:0H-kblockd]\n",
      "root          98  0.0  0.0      0     0 ?        S    Sep30   0:00 [cpuhp/14]\n",
      "root          99  0.0  0.0      0     0 ?        S    Sep30   0:00 [idle_inject/14]\n",
      "root         100  0.0  0.0      0     0 ?        S    Sep30   0:11 [migration/14]\n",
      "root         101  0.0  0.0      0     0 ?        S    Sep30   0:03 [ksoftirqd/14]\n",
      "root         103  0.0  0.0      0     0 ?        I<   Sep30   0:00 [kworker/14:0H-events_highpri]\n",
      "root         104  0.0  0.0      0     0 ?        S    Sep30   0:00 [cpuhp/15]\n",
      "root         105  0.0  0.0      0     0 ?        S    Sep30   0:00 [idle_inject/15]\n",
      "root         106  0.0  0.0      0     0 ?        S    Sep30   0:11 [migration/15]\n",
      "root         107  0.0  0.0      0     0 ?        S    Sep30   0:03 [ksoftirqd/15]\n",
      "root         109  0.0  0.0      0     0 ?        I<   Sep30   0:00 [kworker/15:0H-events_highpri]\n",
      "root         110  0.0  0.0      0     0 ?        S    Sep30   0:00 [cpuhp/16]\n",
      "root         111  0.0  0.0      0     0 ?        S    Sep30   0:00 [idle_inject/16]\n",
      "root         112  0.0  0.0      0     0 ?        S    Sep30   0:11 [migration/16]\n",
      "root         113  0.0  0.0      0     0 ?        S    Sep30   0:03 [ksoftirqd/16]\n",
      "root         115  0.0  0.0      0     0 ?        I<   Sep30   0:00 [kworker/16:0H-kblockd]\n",
      "root         116  0.0  0.0      0     0 ?        S    Sep30   0:00 [cpuhp/17]\n",
      "root         117  0.0  0.0      0     0 ?        S    Sep30   0:00 [idle_inject/17]\n",
      "root         118  0.0  0.0      0     0 ?        S    Sep30   0:11 [migration/17]\n",
      "root         119  0.0  0.0      0     0 ?        S    Sep30   0:03 [ksoftirqd/17]\n",
      "root         121  0.0  0.0      0     0 ?        I<   Sep30   0:00 [kworker/17:0H-kblockd]\n",
      "root         122  0.0  0.0      0     0 ?        S    Sep30   0:00 [cpuhp/18]\n",
      "root         123  0.0  0.0      0     0 ?        S    Sep30   0:00 [idle_inject/18]\n",
      "root         124  0.0  0.0      0     0 ?        S    Sep30   0:11 [migration/18]\n",
      "root         125  0.0  0.0      0     0 ?        S    Sep30   0:04 [ksoftirqd/18]\n",
      "root         127  0.0  0.0      0     0 ?        I<   Sep30   0:00 [kworker/18:0H-events_highpri]\n",
      "root         128  0.0  0.0      0     0 ?        S    Sep30   0:00 [cpuhp/19]\n",
      "root         129  0.0  0.0      0     0 ?        S    Sep30   0:00 [idle_inject/19]\n",
      "root         130  0.0  0.0      0     0 ?        S    Sep30   0:11 [migration/19]\n",
      "root         131  0.0  0.0      0     0 ?        S    Sep30   0:03 [ksoftirqd/19]\n",
      "root         133  0.0  0.0      0     0 ?        I<   Sep30   0:00 [kworker/19:0H-events_highpri]\n",
      "root         134  0.0  0.0      0     0 ?        S    Sep30   0:00 [cpuhp/20]\n",
      "root         135  0.0  0.0      0     0 ?        S    Sep30   0:00 [idle_inject/20]\n",
      "root         136  0.0  0.0      0     0 ?        S    Sep30   0:11 [migration/20]\n",
      "root         137  0.0  0.0      0     0 ?        S    Sep30   0:03 [ksoftirqd/20]\n",
      "root         139  0.0  0.0      0     0 ?        I<   Sep30   0:00 [kworker/20:0H-events_highpri]\n",
      "root         140  0.0  0.0      0     0 ?        S    Sep30   0:00 [cpuhp/21]\n",
      "root         141  0.0  0.0      0     0 ?        S    Sep30   0:00 [idle_inject/21]\n",
      "root         142  0.0  0.0      0     0 ?        S    Sep30   0:11 [migration/21]\n",
      "root         143  0.0  0.0      0     0 ?        S    Sep30   0:03 [ksoftirqd/21]\n",
      "root         145  0.0  0.0      0     0 ?        I<   Sep30   0:00 [kworker/21:0H-events_highpri]\n",
      "root         146  0.0  0.0      0     0 ?        S    Sep30   0:00 [cpuhp/22]\n",
      "root         147  0.0  0.0      0     0 ?        S    Sep30   0:00 [idle_inject/22]\n",
      "root         148  0.0  0.0      0     0 ?        S    Sep30   0:11 [migration/22]\n",
      "root         149  0.0  0.0      0     0 ?        S    Sep30   0:03 [ksoftirqd/22]\n",
      "root         151  0.0  0.0      0     0 ?        I<   Sep30   0:00 [kworker/22:0H-events_highpri]\n",
      "root         152  0.0  0.0      0     0 ?        S    Sep30   0:00 [cpuhp/23]\n",
      "root         153  0.0  0.0      0     0 ?        S    Sep30   0:00 [idle_inject/23]\n",
      "root         154  0.0  0.0      0     0 ?        S    Sep30   0:11 [migration/23]\n",
      "root         155  0.0  0.0      0     0 ?        S    Sep30   0:03 [ksoftirqd/23]\n",
      "root         157  0.0  0.0      0     0 ?        I<   Sep30   0:00 [kworker/23:0H-events_highpri]\n",
      "root         158  0.0  0.0      0     0 ?        S    Sep30   0:00 [cpuhp/24]\n",
      "root         159  0.0  0.0      0     0 ?        S    Sep30   0:00 [idle_inject/24]\n",
      "root         160  0.0  0.0      0     0 ?        S    Sep30   0:11 [migration/24]\n",
      "root         161  0.0  0.0      0     0 ?        S    Sep30   0:03 [ksoftirqd/24]\n",
      "root         163  0.0  0.0      0     0 ?        I<   Sep30   0:00 [kworker/24:0H]\n",
      "root         164  0.0  0.0      0     0 ?        S    Sep30   0:00 [cpuhp/25]\n",
      "root         165  0.0  0.0      0     0 ?        S    Sep30   0:00 [idle_inject/25]\n",
      "root         166  0.0  0.0      0     0 ?        S    Sep30   0:11 [migration/25]\n",
      "root         167  0.0  0.0      0     0 ?        S    Sep30   0:03 [ksoftirqd/25]\n",
      "root         169  0.0  0.0      0     0 ?        I<   Sep30   0:00 [kworker/25:0H-events_highpri]\n",
      "root         170  0.0  0.0      0     0 ?        S    Sep30   0:00 [cpuhp/26]\n",
      "root         171  0.0  0.0      0     0 ?        S    Sep30   0:00 [idle_inject/26]\n",
      "root         172  0.0  0.0      0     0 ?        S    Sep30   0:11 [migration/26]\n",
      "root         173  0.0  0.0      0     0 ?        S    Sep30   0:03 [ksoftirqd/26]\n",
      "root         175  0.0  0.0      0     0 ?        I<   Sep30   0:00 [kworker/26:0H-events_highpri]\n",
      "root         176  0.0  0.0      0     0 ?        S    Sep30   0:00 [cpuhp/27]\n",
      "root         177  0.0  0.0      0     0 ?        S    Sep30   0:00 [idle_inject/27]\n",
      "root         178  0.0  0.0      0     0 ?        S    Sep30   0:11 [migration/27]\n",
      "root         179  0.0  0.0      0     0 ?        S    Sep30   0:03 [ksoftirqd/27]\n",
      "root         181  0.0  0.0      0     0 ?        I<   Sep30   0:00 [kworker/27:0H-events_highpri]\n",
      "root         182  0.0  0.0      0     0 ?        S    Sep30   0:00 [cpuhp/28]\n",
      "root         183  0.0  0.0      0     0 ?        S    Sep30   0:00 [idle_inject/28]\n",
      "root         184  0.0  0.0      0     0 ?        S    Sep30   0:11 [migration/28]\n",
      "root         185  0.0  0.0      0     0 ?        S    Sep30   0:03 [ksoftirqd/28]\n",
      "root         187  0.0  0.0      0     0 ?        I<   Sep30   0:00 [kworker/28:0H-events_highpri]\n",
      "root         188  0.0  0.0      0     0 ?        S    Sep30   0:00 [cpuhp/29]\n",
      "root         189  0.0  0.0      0     0 ?        S    Sep30   0:00 [idle_inject/29]\n",
      "root         190  0.0  0.0      0     0 ?        S    Sep30   0:11 [migration/29]\n",
      "root         191  0.0  0.0      0     0 ?        S    Sep30   0:02 [ksoftirqd/29]\n",
      "root         193  0.0  0.0      0     0 ?        I<   Sep30   0:00 [kworker/29:0H-events_highpri]\n",
      "root         194  0.0  0.0      0     0 ?        S    Sep30   0:00 [cpuhp/30]\n",
      "root         195  0.0  0.0      0     0 ?        S    Sep30   0:00 [idle_inject/30]\n",
      "root         196  0.0  0.0      0     0 ?        S    Sep30   0:11 [migration/30]\n",
      "root         197  0.0  0.0      0     0 ?        S    Sep30   0:03 [ksoftirqd/30]\n",
      "root         199  0.0  0.0      0     0 ?        I<   Sep30   0:00 [kworker/30:0H]\n",
      "root         200  0.0  0.0      0     0 ?        S    Sep30   0:00 [cpuhp/31]\n",
      "root         201  0.0  0.0      0     0 ?        S    Sep30   0:00 [idle_inject/31]\n",
      "root         202  0.0  0.0      0     0 ?        S    Sep30   0:11 [migration/31]\n",
      "root         203  0.0  0.0      0     0 ?        S    Sep30   0:02 [ksoftirqd/31]\n",
      "root         205  0.0  0.0      0     0 ?        I<   Sep30   0:00 [kworker/31:0H]\n",
      "root         206  0.0  0.0      0     0 ?        S    Sep30   0:00 [cpuhp/32]\n",
      "root         207  0.0  0.0      0     0 ?        S    Sep30   0:00 [idle_inject/32]\n",
      "root         208  0.0  0.0      0     0 ?        S    Sep30   0:11 [migration/32]\n",
      "root         209  0.0  0.0      0     0 ?        S    Sep30   0:03 [ksoftirqd/32]\n",
      "root         211  0.0  0.0      0     0 ?        I<   Sep30   0:00 [kworker/32:0H-events_highpri]\n",
      "root         212  0.0  0.0      0     0 ?        S    Sep30   0:00 [cpuhp/33]\n",
      "root         213  0.0  0.0      0     0 ?        S    Sep30   0:00 [idle_inject/33]\n",
      "root         214  0.0  0.0      0     0 ?        S    Sep30   0:11 [migration/33]\n",
      "root         215  0.0  0.0      0     0 ?        S    Sep30   0:02 [ksoftirqd/33]\n",
      "root         217  0.0  0.0      0     0 ?        I<   Sep30   0:00 [kworker/33:0H-events_highpri]\n",
      "root         218  0.0  0.0      0     0 ?        S    Sep30   0:00 [cpuhp/34]\n",
      "root         219  0.0  0.0      0     0 ?        S    Sep30   0:00 [idle_inject/34]\n",
      "root         220  0.0  0.0      0     0 ?        S    Sep30   0:11 [migration/34]\n",
      "root         221  0.0  0.0      0     0 ?        S    Sep30   0:03 [ksoftirqd/34]\n",
      "root         223  0.0  0.0      0     0 ?        I<   Sep30   0:00 [kworker/34:0H-kblockd]\n",
      "root         224  0.0  0.0      0     0 ?        S    Sep30   0:00 [cpuhp/35]\n",
      "root         225  0.0  0.0      0     0 ?        S    Sep30   0:00 [idle_inject/35]\n",
      "root         226  0.0  0.0      0     0 ?        S    Sep30   0:11 [migration/35]\n",
      "root         227  0.0  0.0      0     0 ?        S    Sep30   0:03 [ksoftirqd/35]\n",
      "root         229  0.0  0.0      0     0 ?        I<   Sep30   0:00 [kworker/35:0H-kblockd]\n",
      "root         230  0.0  0.0      0     0 ?        S    Sep30   0:00 [cpuhp/36]\n",
      "root         231  0.0  0.0      0     0 ?        S    Sep30   0:00 [idle_inject/36]\n",
      "root         232  0.0  0.0      0     0 ?        S    Sep30   0:11 [migration/36]\n",
      "root         233  0.0  0.0      0     0 ?        S    Sep30   0:04 [ksoftirqd/36]\n",
      "root         235  0.0  0.0      0     0 ?        I<   Sep30   0:00 [kworker/36:0H-events_highpri]\n",
      "root         236  0.0  0.0      0     0 ?        S    Sep30   0:00 [cpuhp/37]\n",
      "root         237  0.0  0.0      0     0 ?        S    Sep30   0:00 [idle_inject/37]\n",
      "root         238  0.0  0.0      0     0 ?        S    Sep30   0:11 [migration/37]\n",
      "root         239  0.0  0.0      0     0 ?        S    Sep30   0:03 [ksoftirqd/37]\n",
      "root         241  0.0  0.0      0     0 ?        I<   Sep30   0:00 [kworker/37:0H-kblockd]\n",
      "root         242  0.0  0.0      0     0 ?        S    Sep30   0:00 [cpuhp/38]\n",
      "root         243  0.0  0.0      0     0 ?        S    Sep30   0:00 [idle_inject/38]\n",
      "root         244  0.0  0.0      0     0 ?        S    Sep30   0:12 [migration/38]\n",
      "root         245  0.0  0.0      0     0 ?        S    Sep30   0:04 [ksoftirqd/38]\n",
      "root         247  0.0  0.0      0     0 ?        I<   Sep30   0:00 [kworker/38:0H-events_highpri]\n",
      "root         249  0.0  0.0      0     0 ?        S    Sep30   0:00 [cpuhp/39]\n",
      "root         250  0.0  0.0      0     0 ?        S    Sep30   0:00 [idle_inject/39]\n",
      "root         251  0.0  0.0      0     0 ?        S    Sep30   0:11 [migration/39]\n",
      "root         252  0.0  0.0      0     0 ?        S    Sep30   0:03 [ksoftirqd/39]\n",
      "root         254  0.0  0.0      0     0 ?        I<   Sep30   0:00 [kworker/39:0H-kblockd]\n",
      "root         255  0.0  0.0      0     0 ?        S    Sep30   0:00 [cpuhp/40]\n",
      "root         256  0.0  0.0      0     0 ?        S    Sep30   0:00 [idle_inject/40]\n",
      "root         257  0.0  0.0      0     0 ?        S    Sep30   0:11 [migration/40]\n",
      "root         258  0.0  0.0      0     0 ?        S    Sep30   0:02 [ksoftirqd/40]\n",
      "root         260  0.0  0.0      0     0 ?        I<   Sep30   0:00 [kworker/40:0H-events_highpri]\n",
      "root         261  0.0  0.0      0     0 ?        S    Sep30   0:00 [cpuhp/41]\n",
      "root         262  0.0  0.0      0     0 ?        S    Sep30   0:00 [idle_inject/41]\n",
      "root         263  0.0  0.0      0     0 ?        S    Sep30   0:11 [migration/41]\n",
      "root         264  0.0  0.0      0     0 ?        S    Sep30   0:02 [ksoftirqd/41]\n",
      "root         266  0.0  0.0      0     0 ?        I<   Sep30   0:00 [kworker/41:0H-events_highpri]\n",
      "root         267  0.0  0.0      0     0 ?        S    Sep30   0:00 [cpuhp/42]\n",
      "root         268  0.0  0.0      0     0 ?        S    Sep30   0:00 [idle_inject/42]\n",
      "root         269  0.0  0.0      0     0 ?        S    Sep30   0:11 [migration/42]\n",
      "root         270  0.0  0.0      0     0 ?        S    Sep30   0:02 [ksoftirqd/42]\n",
      "root         272  0.0  0.0      0     0 ?        I<   Sep30   0:00 [kworker/42:0H-kblockd]\n",
      "root         273  0.0  0.0      0     0 ?        S    Sep30   0:00 [cpuhp/43]\n",
      "root         274  0.0  0.0      0     0 ?        S    Sep30   0:00 [idle_inject/43]\n",
      "root         275  0.0  0.0      0     0 ?        S    Sep30   0:11 [migration/43]\n",
      "root         276  0.0  0.0      0     0 ?        S    Sep30   0:02 [ksoftirqd/43]\n",
      "root         278  0.0  0.0      0     0 ?        I<   Sep30   0:00 [kworker/43:0H-events_highpri]\n",
      "root         279  0.0  0.0      0     0 ?        S    Sep30   0:00 [cpuhp/44]\n",
      "root         280  0.0  0.0      0     0 ?        S    Sep30   0:00 [idle_inject/44]\n",
      "root         281  0.0  0.0      0     0 ?        S    Sep30   0:11 [migration/44]\n",
      "root         282  0.0  0.0      0     0 ?        S    Sep30   0:02 [ksoftirqd/44]\n",
      "root         284  0.0  0.0      0     0 ?        I<   Sep30   0:00 [kworker/44:0H-events_highpri]\n",
      "root         285  0.0  0.0      0     0 ?        S    Sep30   0:00 [cpuhp/45]\n",
      "root         286  0.0  0.0      0     0 ?        S    Sep30   0:00 [idle_inject/45]\n",
      "root         287  0.0  0.0      0     0 ?        S    Sep30   0:11 [migration/45]\n",
      "root         288  0.0  0.0      0     0 ?        S    Sep30   0:02 [ksoftirqd/45]\n",
      "root         290  0.0  0.0      0     0 ?        I<   Sep30   0:00 [kworker/45:0H-events_highpri]\n",
      "root         291  0.0  0.0      0     0 ?        S    Sep30   0:00 [cpuhp/46]\n",
      "root         292  0.0  0.0      0     0 ?        S    Sep30   0:00 [idle_inject/46]\n",
      "root         293  0.0  0.0      0     0 ?        S    Sep30   0:11 [migration/46]\n",
      "root         294  0.0  0.0      0     0 ?        S    Sep30   0:02 [ksoftirqd/46]\n",
      "root         296  0.0  0.0      0     0 ?        I<   Sep30   0:00 [kworker/46:0H-events_highpri]\n",
      "root         297  0.0  0.0      0     0 ?        S    Sep30   0:00 [cpuhp/47]\n",
      "root         298  0.0  0.0      0     0 ?        S    Sep30   0:00 [idle_inject/47]\n",
      "root         299  0.0  0.0      0     0 ?        S    Sep30   0:11 [migration/47]\n",
      "root         300  0.0  0.0      0     0 ?        S    Sep30   0:02 [ksoftirqd/47]\n",
      "root         302  0.0  0.0      0     0 ?        I<   Sep30   0:00 [kworker/47:0H-kblockd]\n",
      "root         303  0.0  0.0      0     0 ?        S    Sep30   0:00 [cpuhp/48]\n",
      "root         304  0.0  0.0      0     0 ?        S    Sep30   0:00 [idle_inject/48]\n",
      "root         305  0.0  0.0      0     0 ?        S    Sep30   0:12 [migration/48]\n",
      "root         306  0.0  0.0      0     0 ?        S    Sep30   0:02 [ksoftirqd/48]\n",
      "root         308  0.0  0.0      0     0 ?        I<   Sep30   0:00 [kworker/48:0H-events_highpri]\n",
      "root         309  0.0  0.0      0     0 ?        S    Sep30   0:00 [cpuhp/49]\n",
      "root         310  0.0  0.0      0     0 ?        S    Sep30   0:00 [idle_inject/49]\n",
      "root         311  0.0  0.0      0     0 ?        S    Sep30   0:12 [migration/49]\n",
      "root         312  0.0  0.0      0     0 ?        S    Sep30   0:02 [ksoftirqd/49]\n",
      "root         314  0.0  0.0      0     0 ?        I<   Sep30   0:00 [kworker/49:0H-kblockd]\n",
      "root         315  0.0  0.0      0     0 ?        S    Sep30   0:00 [cpuhp/50]\n",
      "root         316  0.0  0.0      0     0 ?        S    Sep30   0:00 [idle_inject/50]\n",
      "root         317  0.0  0.0      0     0 ?        S    Sep30   0:11 [migration/50]\n",
      "root         318  0.0  0.0      0     0 ?        S    Sep30   0:02 [ksoftirqd/50]\n",
      "root         320  0.0  0.0      0     0 ?        I<   Sep30   0:00 [kworker/50:0H-kblockd]\n",
      "root         321  0.0  0.0      0     0 ?        S    Sep30   0:00 [cpuhp/51]\n",
      "root         322  0.0  0.0      0     0 ?        S    Sep30   0:00 [idle_inject/51]\n",
      "root         323  0.0  0.0      0     0 ?        S    Sep30   0:11 [migration/51]\n",
      "root         324  0.0  0.0      0     0 ?        S    Sep30   0:01 [ksoftirqd/51]\n",
      "root         326  0.0  0.0      0     0 ?        I<   Sep30   0:00 [kworker/51:0H-kblockd]\n",
      "root         327  0.0  0.0      0     0 ?        S    Sep30   0:00 [cpuhp/52]\n",
      "root         328  0.0  0.0      0     0 ?        S    Sep30   0:00 [idle_inject/52]\n",
      "root         329  0.0  0.0      0     0 ?        S    Sep30   0:11 [migration/52]\n",
      "root         330  0.0  0.0      0     0 ?        S    Sep30   0:01 [ksoftirqd/52]\n",
      "root         332  0.0  0.0      0     0 ?        I<   Sep30   0:00 [kworker/52:0H-kblockd]\n",
      "root         333  0.0  0.0      0     0 ?        S    Sep30   0:00 [cpuhp/53]\n",
      "root         334  0.0  0.0      0     0 ?        S    Sep30   0:00 [idle_inject/53]\n",
      "root         335  0.0  0.0      0     0 ?        S    Sep30   0:11 [migration/53]\n",
      "root         336  0.0  0.0      0     0 ?        S    Sep30   0:01 [ksoftirqd/53]\n",
      "root         338  0.0  0.0      0     0 ?        I<   Sep30   0:00 [kworker/53:0H-kblockd]\n",
      "root         339  0.0  0.0      0     0 ?        S    Sep30   0:00 [cpuhp/54]\n",
      "root         340  0.0  0.0      0     0 ?        S    Sep30   0:00 [idle_inject/54]\n",
      "root         341  0.0  0.0      0     0 ?        S    Sep30   0:11 [migration/54]\n",
      "root         342  0.0  0.0      0     0 ?        S    Sep30   0:01 [ksoftirqd/54]\n",
      "root         344  0.0  0.0      0     0 ?        I<   Sep30   0:00 [kworker/54:0H-events_highpri]\n",
      "root         345  0.0  0.0      0     0 ?        S    Sep30   0:00 [cpuhp/55]\n",
      "root         346  0.0  0.0      0     0 ?        S    Sep30   0:00 [idle_inject/55]\n",
      "root         347  0.0  0.0      0     0 ?        S    Sep30   0:11 [migration/55]\n",
      "root         348  0.0  0.0      0     0 ?        S    Sep30   0:01 [ksoftirqd/55]\n",
      "root         350  0.0  0.0      0     0 ?        I<   Sep30   0:00 [kworker/55:0H-events_highpri]\n",
      "root         351  0.0  0.0      0     0 ?        S    Sep30   0:00 [cpuhp/56]\n",
      "root         352  0.0  0.0      0     0 ?        S    Sep30   0:00 [idle_inject/56]\n",
      "root         353  0.0  0.0      0     0 ?        S    Sep30   0:12 [migration/56]\n",
      "root         354  0.0  0.0      0     0 ?        S    Sep30   0:03 [ksoftirqd/56]\n",
      "root         356  0.0  0.0      0     0 ?        I<   Sep30   0:00 [kworker/56:0H-events_highpri]\n",
      "root         357  0.0  0.0      0     0 ?        S    Sep30   0:00 [cpuhp/57]\n",
      "root         358  0.0  0.0      0     0 ?        S    Sep30   0:00 [idle_inject/57]\n",
      "root         359  0.0  0.0      0     0 ?        S    Sep30   0:12 [migration/57]\n",
      "root         360  0.0  0.0      0     0 ?        S    Sep30   0:02 [ksoftirqd/57]\n",
      "root         362  0.0  0.0      0     0 ?        I<   Sep30   0:00 [kworker/57:0H-kblockd]\n",
      "root         363  0.0  0.0      0     0 ?        S    Sep30   0:00 [cpuhp/58]\n",
      "root         364  0.0  0.0      0     0 ?        S    Sep30   0:00 [idle_inject/58]\n",
      "root         365  0.0  0.0      0     0 ?        S    Sep30   0:12 [migration/58]\n",
      "root         366  0.0  0.0      0     0 ?        S    Sep30   0:01 [ksoftirqd/58]\n",
      "root         368  0.0  0.0      0     0 ?        I<   Sep30   0:00 [kworker/58:0H-events_highpri]\n",
      "root         369  0.0  0.0      0     0 ?        S    Sep30   0:00 [cpuhp/59]\n",
      "root         370  0.0  0.0      0     0 ?        S    Sep30   0:00 [idle_inject/59]\n",
      "root         371  0.0  0.0      0     0 ?        S    Sep30   0:12 [migration/59]\n",
      "root         372  0.0  0.0      0     0 ?        S    Sep30   0:01 [ksoftirqd/59]\n",
      "root         374  0.0  0.0      0     0 ?        I<   Sep30   0:00 [kworker/59:0H-kblockd]\n",
      "root         375  0.0  0.0      0     0 ?        S    Sep30   0:00 [cpuhp/60]\n",
      "root         376  0.0  0.0      0     0 ?        S    Sep30   0:00 [idle_inject/60]\n",
      "root         377  0.0  0.0      0     0 ?        S    Sep30   0:12 [migration/60]\n",
      "root         378  0.0  0.0      0     0 ?        S    Sep30   0:01 [ksoftirqd/60]\n",
      "root         380  0.0  0.0      0     0 ?        I<   Sep30   0:00 [kworker/60:0H-events_highpri]\n",
      "root         381  0.0  0.0      0     0 ?        S    Sep30   0:00 [cpuhp/61]\n",
      "root         382  0.0  0.0      0     0 ?        S    Sep30   0:00 [idle_inject/61]\n",
      "root         383  0.0  0.0      0     0 ?        S    Sep30   0:12 [migration/61]\n",
      "root         384  0.0  0.0      0     0 ?        S    Sep30   0:01 [ksoftirqd/61]\n",
      "root         386  0.0  0.0      0     0 ?        I<   Sep30   0:00 [kworker/61:0H-kblockd]\n",
      "root         387  0.0  0.0      0     0 ?        S    Sep30   0:00 [cpuhp/62]\n",
      "root         388  0.0  0.0      0     0 ?        S    Sep30   0:00 [idle_inject/62]\n",
      "root         389  0.0  0.0      0     0 ?        S    Sep30   0:11 [migration/62]\n",
      "root         390  0.0  0.0      0     0 ?        S    Sep30   0:01 [ksoftirqd/62]\n",
      "root         392  0.0  0.0      0     0 ?        I<   Sep30   0:00 [kworker/62:0H-events_highpri]\n",
      "root         393  0.0  0.0      0     0 ?        S    Sep30   0:00 [cpuhp/63]\n",
      "root         394  0.0  0.0      0     0 ?        S    Sep30   0:00 [idle_inject/63]\n",
      "root         395  0.0  0.0      0     0 ?        S    Sep30   0:11 [migration/63]\n",
      "root         396  0.0  0.0      0     0 ?        S    Sep30   0:01 [ksoftirqd/63]\n",
      "root         398  0.0  0.0      0     0 ?        I<   Sep30   0:00 [kworker/63:0H-kblockd]\n",
      "root         399  0.0  0.0      0     0 ?        S    Sep30   0:00 [cpuhp/64]\n",
      "root         400  0.0  0.0      0     0 ?        S    Sep30   0:00 [idle_inject/64]\n",
      "root         401  0.0  0.0      0     0 ?        S    Sep30   0:11 [migration/64]\n",
      "root         402  0.0  0.0      0     0 ?        S    Sep30   0:01 [ksoftirqd/64]\n",
      "root         404  0.0  0.0      0     0 ?        I<   Sep30   0:00 [kworker/64:0H-kblockd]\n",
      "root         405  0.0  0.0      0     0 ?        S    Sep30   0:00 [cpuhp/65]\n",
      "root         406  0.0  0.0      0     0 ?        S    Sep30   0:00 [idle_inject/65]\n",
      "root         407  0.0  0.0      0     0 ?        S    Sep30   0:12 [migration/65]\n",
      "root         408  0.0  0.0      0     0 ?        S    Sep30   0:01 [ksoftirqd/65]\n",
      "root         410  0.0  0.0      0     0 ?        I<   Sep30   0:00 [kworker/65:0H-events_highpri]\n",
      "root         411  0.0  0.0      0     0 ?        S    Sep30   0:00 [cpuhp/66]\n",
      "root         412  0.0  0.0      0     0 ?        S    Sep30   0:00 [idle_inject/66]\n",
      "root         413  0.0  0.0      0     0 ?        S    Sep30   0:11 [migration/66]\n",
      "root         414  0.0  0.0      0     0 ?        S    Sep30   0:02 [ksoftirqd/66]\n",
      "root         416  0.0  0.0      0     0 ?        I<   Sep30   0:00 [kworker/66:0H-events_highpri]\n",
      "root         417  0.0  0.0      0     0 ?        S    Sep30   0:00 [cpuhp/67]\n",
      "root         418  0.0  0.0      0     0 ?        S    Sep30   0:00 [idle_inject/67]\n",
      "root         419  0.0  0.0      0     0 ?        S    Sep30   0:11 [migration/67]\n",
      "root         420  0.0  0.0      0     0 ?        S    Sep30   0:01 [ksoftirqd/67]\n",
      "root         422  0.0  0.0      0     0 ?        I<   Sep30   0:00 [kworker/67:0H-kblockd]\n",
      "root         423  0.0  0.0      0     0 ?        S    Sep30   0:00 [cpuhp/68]\n",
      "root         424  0.0  0.0      0     0 ?        S    Sep30   0:00 [idle_inject/68]\n",
      "root         425  0.0  0.0      0     0 ?        S    Sep30   0:11 [migration/68]\n",
      "root         426  0.0  0.0      0     0 ?        S    Sep30   0:02 [ksoftirqd/68]\n",
      "root         428  0.0  0.0      0     0 ?        I<   Sep30   0:00 [kworker/68:0H-events_highpri]\n",
      "root         429  0.0  0.0      0     0 ?        S    Sep30   0:00 [cpuhp/69]\n",
      "root         430  0.0  0.0      0     0 ?        S    Sep30   0:00 [idle_inject/69]\n",
      "root         431  0.0  0.0      0     0 ?        S    Sep30   0:11 [migration/69]\n",
      "root         432  0.0  0.0      0     0 ?        S    Sep30   0:01 [ksoftirqd/69]\n",
      "root         434  0.0  0.0      0     0 ?        I<   Sep30   0:00 [kworker/69:0H-kblockd]\n",
      "root         435  0.0  0.0      0     0 ?        S    Sep30   0:00 [cpuhp/70]\n",
      "root         436  0.0  0.0      0     0 ?        S    Sep30   0:00 [idle_inject/70]\n",
      "root         437  0.0  0.0      0     0 ?        S    Sep30   0:11 [migration/70]\n",
      "root         438  0.0  0.0      0     0 ?        S    Sep30   0:02 [ksoftirqd/70]\n",
      "root         440  0.0  0.0      0     0 ?        I<   Sep30   0:00 [kworker/70:0H-events_highpri]\n",
      "root         441  0.0  0.0      0     0 ?        S    Sep30   0:00 [cpuhp/71]\n",
      "root         442  0.0  0.0      0     0 ?        S    Sep30   0:00 [idle_inject/71]\n",
      "root         443  0.0  0.0      0     0 ?        S    Sep30   0:11 [migration/71]\n",
      "root         444  0.0  0.0      0     0 ?        S    Sep30   0:01 [ksoftirqd/71]\n",
      "root         446  0.0  0.0      0     0 ?        I<   Sep30   0:00 [kworker/71:0H-kblockd]\n",
      "root         447  0.0  0.0      0     0 ?        S    Sep30   0:00 [cpuhp/72]\n",
      "root         448  0.0  0.0      0     0 ?        S    Sep30   0:00 [idle_inject/72]\n",
      "root         449  0.0  0.0      0     0 ?        S    Sep30   0:12 [migration/72]\n",
      "root         450  0.0  0.0      0     0 ?        S    Sep30   0:02 [ksoftirqd/72]\n",
      "root         452  0.0  0.0      0     0 ?        I<   Sep30   0:00 [kworker/72:0H-events_highpri]\n",
      "root         453  0.0  0.0      0     0 ?        S    Sep30   0:00 [cpuhp/73]\n",
      "root         454  0.0  0.0      0     0 ?        S    Sep30   0:00 [idle_inject/73]\n",
      "root         455  0.0  0.0      0     0 ?        S    Sep30   0:11 [migration/73]\n",
      "root         456  0.0  0.0      0     0 ?        S    Sep30   0:01 [ksoftirqd/73]\n",
      "root         458  0.0  0.0      0     0 ?        I<   Sep30   0:00 [kworker/73:0H-kblockd]\n",
      "root         459  0.0  0.0      0     0 ?        S    Sep30   0:00 [cpuhp/74]\n",
      "root         460  0.0  0.0      0     0 ?        S    Sep30   0:00 [idle_inject/74]\n",
      "root         461  0.0  0.0      0     0 ?        S    Sep30   0:12 [migration/74]\n",
      "root         462  0.0  0.0      0     0 ?        S    Sep30   0:02 [ksoftirqd/74]\n",
      "root         464  0.0  0.0      0     0 ?        I<   Sep30   0:00 [kworker/74:0H-events_highpri]\n",
      "root         465  0.0  0.0      0     0 ?        S    Sep30   0:00 [cpuhp/75]\n",
      "root         466  0.0  0.0      0     0 ?        S    Sep30   0:00 [idle_inject/75]\n",
      "root         467  0.0  0.0      0     0 ?        S    Sep30   0:11 [migration/75]\n",
      "root         468  0.0  0.0      0     0 ?        S    Sep30   0:01 [ksoftirqd/75]\n",
      "root         470  0.0  0.0      0     0 ?        I<   Sep30   0:00 [kworker/75:0H-events_highpri]\n",
      "root         471  0.0  0.0      0     0 ?        S    Sep30   0:00 [kdevtmpfs]\n",
      "root         472  0.0  0.0      0     0 ?        I<   Sep30   0:00 [inet_frag_wq]\n",
      "root         473  0.0  0.0      0     0 ?        S    Sep30   0:07 [kauditd]\n",
      "root         477  0.0  0.0      0     0 ?        S    Sep30   0:13 [khungtaskd]\n",
      "root         478  0.0  0.0      0     0 ?        S    Sep30   0:00 [oom_reaper]\n",
      "root         479  0.0  0.0      0     0 ?        I<   Sep30   0:00 [writeback]\n",
      "root         480  0.0  0.0      0     0 ?        S    Sep30   1:29 [kcompactd0]\n",
      "root         481  0.0  0.0      0     0 ?        S    Sep30   1:11 [kcompactd1]\n",
      "root         482  0.0  0.0      0     0 ?        SN   Sep30   0:00 [ksmd]\n",
      "root         483  0.0  0.0      0     0 ?        SN   Sep30   0:00 [khugepaged]\n",
      "root         531  0.0  0.0      0     0 ?        I<   Sep30   0:00 [kintegrityd]\n",
      "root         532  0.0  0.0      0     0 ?        I<   Sep30   0:00 [kblockd]\n",
      "root         533  0.0  0.0      0     0 ?        I<   Sep30   0:00 [blkcg_punt_bio]\n",
      "root         534  0.0  0.0      0     0 ?        I<   Sep30   0:00 [tpm_dev_wq]\n",
      "root         535  0.0  0.0      0     0 ?        I<   Sep30   0:00 [ata_sff]\n",
      "root         536  0.0  0.0      0     0 ?        I<   Sep30   0:00 [md]\n",
      "root         537  0.0  0.0      0     0 ?        I<   Sep30   0:00 [edac-poller]\n",
      "root         538  0.0  0.0      0     0 ?        I<   Sep30   0:00 [devfreq_wq]\n",
      "root         539  0.0  0.0      0     0 ?        S    Sep30   0:00 [watchdogd]\n",
      "root         542  0.0  0.0      0     0 ?        I<   Sep30   0:01 [kworker/0:1H-kblockd]\n",
      "root         562  0.0  0.0      0     0 ?        S    Sep30   0:07 [kswapd0]\n",
      "root         563  0.0  0.0      0     0 ?        S    Sep30   0:00 [kswapd1]\n",
      "root         564  0.0  0.0      0     0 ?        S    Sep30   0:00 [ecryptfs-kthrea]\n",
      "root         567  0.0  0.0      0     0 ?        I<   Sep30   0:00 [kthrotld]\n",
      "root         568  0.0  0.0      0     0 ?        S    Sep30   0:00 [irq/24-pciehp]\n",
      "root         569  0.0  0.0      0     0 ?        S    Sep30   0:00 [irq/25-pciehp]\n",
      "root         570  0.0  0.0      0     0 ?        S    Sep30   0:00 [irq/26-pciehp]\n",
      "root         571  0.0  0.0      0     0 ?        S    Sep30   0:00 [irq/27-pciehp]\n",
      "root         572  0.0  0.0      0     0 ?        S    Sep30   0:00 [irq/28-pciehp]\n",
      "root         573  0.0  0.0      0     0 ?        S    Sep30   0:00 [irq/29-pciehp]\n",
      "root         574  0.0  0.0      0     0 ?        S    Sep30   0:00 [irq/30-pciehp]\n",
      "root         575  0.0  0.0      0     0 ?        S    Sep30   0:00 [irq/31-pciehp]\n",
      "root         576  0.0  0.0      0     0 ?        S    Sep30   0:00 [irq/32-pciehp]\n",
      "root         577  0.0  0.0      0     0 ?        S    Sep30   0:00 [irq/33-pciehp]\n",
      "root         578  0.0  0.0      0     0 ?        S    Sep30   0:00 [irq/34-pciehp]\n",
      "root         579  0.0  0.0      0     0 ?        S    Sep30   0:00 [irq/35-pciehp]\n",
      "root         580  0.0  0.0      0     0 ?        S    Sep30   0:00 [irq/36-pciehp]\n",
      "root         581  0.0  0.0      0     0 ?        S    Sep30   0:00 [irq/37-pciehp]\n",
      "root         582  0.0  0.0      0     0 ?        S    Sep30   0:00 [irq/38-pciehp]\n",
      "root         583  0.0  0.0      0     0 ?        S    Sep30   0:00 [irq/39-pciehp]\n",
      "root         584  0.0  0.0      0     0 ?        S    Sep30   0:00 [irq/40-pciehp]\n",
      "root         585  0.0  0.0      0     0 ?        S    Sep30   0:00 [irq/41-pciehp]\n",
      "root         586  0.0  0.0      0     0 ?        S    Sep30   0:00 [irq/42-pciehp]\n",
      "root         587  0.0  0.0      0     0 ?        S    Sep30   0:00 [irq/43-pciehp]\n",
      "root         588  0.0  0.0      0     0 ?        S    Sep30   0:00 [irq/44-pciehp]\n",
      "root         589  0.0  0.0      0     0 ?        S    Sep30   0:00 [irq/45-pciehp]\n",
      "root         590  0.0  0.0      0     0 ?        S    Sep30   0:00 [irq/46-pciehp]\n",
      "root         591  0.0  0.0      0     0 ?        S    Sep30   0:00 [irq/47-pciehp]\n",
      "root         592  0.0  0.0      0     0 ?        S    Sep30   0:00 [irq/48-pciehp]\n",
      "root         593  0.0  0.0      0     0 ?        S    Sep30   0:00 [irq/49-pciehp]\n",
      "root         594  0.0  0.0      0     0 ?        S    Sep30   0:00 [irq/50-pciehp]\n",
      "root         595  0.0  0.0      0     0 ?        S    Sep30   0:00 [irq/51-pciehp]\n",
      "root         596  0.0  0.0      0     0 ?        S    Sep30   0:00 [irq/52-pciehp]\n",
      "root         597  0.0  0.0      0     0 ?        S    Sep30   0:00 [irq/53-pciehp]\n",
      "root         598  0.0  0.0      0     0 ?        S    Sep30   0:00 [irq/54-pciehp]\n",
      "root         599  0.0  0.0      0     0 ?        S    Sep30   0:00 [irq/55-pciehp]\n",
      "root         600  0.0  0.0      0     0 ?        I<   Sep30   0:00 [acpi_thermal_pm]\n",
      "root         602  0.0  0.0      0     0 ?        S    Sep30   0:00 [scsi_eh_0]\n",
      "root         603  0.0  0.0      0     0 ?        I<   Sep30   0:00 [scsi_tmf_0]\n",
      "root         604  0.0  0.0      0     0 ?        S    Sep30   0:00 [scsi_eh_1]\n",
      "root         605  0.0  0.0      0     0 ?        I<   Sep30   0:00 [scsi_tmf_1]\n",
      "root         607  0.0  0.0      0     0 ?        I<   Sep30   0:00 [vfio-irqfd-clea]\n",
      "root         609  0.0  0.0      0     0 ?        I<   Sep30   0:00 [mld]\n",
      "root         610  0.0  0.0      0     0 ?        I<   Sep30   0:05 [kworker/15:1H-kblockd]\n",
      "root         611  0.0  0.0      0     0 ?        I<   Sep30   0:00 [ipv6_addrconf]\n",
      "root         616  0.0  0.0      0     0 ?        I<   Sep30   0:00 [kworker/34:1H-kblockd]\n",
      "root         619  0.0  0.0      0     0 ?        I<   Sep30   0:00 [kworker/35:1H-kblockd]\n",
      "root         627  0.0  0.0      0     0 ?        I<   Sep30   0:00 [kstrp]\n",
      "root         673  0.0  0.0      0     0 ?        I<   Sep30   0:00 [zswap-shrink]\n",
      "root         754  0.0  0.0      0     0 ?        I<   Sep30   0:00 [kworker/u155:0]\n",
      "root         764  0.0  0.0      0     0 ?        I<   Sep30   0:00 [charger_manager]\n",
      "root         787  0.0  0.0      0     0 ?        I<   Sep30   0:00 [kworker/60:1H-kblockd]\n",
      "root         833  0.0  0.0      0     0 ?        I<   Sep30   0:00 [cryptd]\n",
      "root         903  0.0  0.0      0     0 ?        I<   Sep30   0:00 [mpt_poll_0]\n",
      "root         904  0.0  0.0      0     0 ?        I<   Sep30   0:00 [mpt/0]\n",
      "root         923  0.0  0.0      0     0 ?        I<   Sep30   0:00 [ttm_swap]\n",
      "root         924  0.0  0.0      0     0 ?        S    Sep30   4:38 [irq/16-vmwgfx]\n",
      "root         925  0.0  0.0      0     0 ?        S    Sep30   0:00 [card0-crtc0]\n",
      "root         926  0.0  0.0      0     0 ?        S    Sep30   0:00 [card0-crtc1]\n",
      "root         927  0.0  0.0      0     0 ?        S    Sep30   0:00 [card0-crtc2]\n",
      "root         928  0.0  0.0      0     0 ?        S    Sep30   0:00 [card0-crtc3]\n",
      "root         929  0.0  0.0      0     0 ?        S    Sep30   0:00 [card0-crtc4]\n",
      "root         930  0.0  0.0      0     0 ?        S    Sep30   0:00 [card0-crtc5]\n",
      "root         931  0.0  0.0      0     0 ?        S    Sep30   0:00 [card0-crtc6]\n",
      "root         932  0.0  0.0      0     0 ?        S    Sep30   0:00 [card0-crtc7]\n",
      "root         941  0.0  0.0      0     0 ?        I<   Sep30   0:00 [kworker/46:1H-kblockd]\n",
      "root         943  0.0  0.0      0     0 ?        I<   Sep30   0:00 [kworker/48:1H-kblockd]\n",
      "root         944  0.0  0.0      0     0 ?        I<   Sep30   0:00 [kworker/43:1H-kblockd]\n",
      "root         946  0.0  0.0      0     0 ?        I<   Sep30   0:00 [kworker/68:1H-kblockd]\n",
      "root         948  0.0  0.0      0     0 ?        I<   Sep30   0:00 [kworker/26:1H-kblockd]\n",
      "root         949  0.0  0.0      0     0 ?        I<   Sep30   0:00 [kworker/25:1H-kblockd]\n",
      "root         950  0.0  0.0      0     0 ?        I<   Sep30   0:00 [kworker/66:1H-kblockd]\n",
      "root         952  0.0  0.0      0     0 ?        I<   Sep30   0:00 [kworker/20:1H-kblockd]\n",
      "root         957  0.0  0.0      0     0 ?        I<   Sep30   0:06 [kworker/14:1H-kblockd]\n",
      "root         958  0.0  0.0      0     0 ?        I<   Sep30   0:00 [mlx5_health0000]\n",
      "root         959  0.0  0.0      0     0 ?        I<   Sep30   0:00 [mlx5_page_alloc]\n",
      "root         960  0.0  0.0      0     0 ?        I<   Sep30   0:00 [mlx5_cmd_0000:0]\n",
      "root         961  0.0  0.0      0     0 ?        I<   Sep30   0:00 [kworker/56:1H-kblockd]\n",
      "root         964  0.0  0.0      0     0 ?        I<   Sep30   0:00 [kworker/6:1H-kblockd]\n",
      "root         972  0.0  0.0      0     0 ?        I<   Sep30   0:00 [kworker/18:1H-kblockd]\n",
      "root         973  0.0  0.0      0     0 ?        I<   Sep30   0:00 [mlx5_events]\n",
      "root         974  0.0  0.0      0     0 ?        I<   Sep30   0:00 [mlx5_fw_reset_e]\n",
      "root         975  0.0  0.0      0     0 ?        I<   Sep30   0:00 [mlx5_hv_vhca]\n",
      "root         976  0.0  0.0      0     0 ?        I<   Sep30   0:00 [mlx5_fc]\n",
      "root         977  0.0  0.0      0     0 ?        I<   Sep30   0:00 [mlx5e]\n",
      "root         978  0.0  0.0      0     0 ?        I<   Sep30   0:00 [kworker/65:1H-kblockd]\n",
      "root         979  0.0  0.0      0     0 ?        I<   Sep30   0:00 [mlx5e_arfs]\n",
      "root         980  0.0  0.0      0     0 ?        I<   Sep30   0:00 [kworker/24:1H-kblockd]\n",
      "root         981  0.0  0.0      0     0 ?        I<   Sep30   0:00 [kworker/30:1H-kblockd]\n",
      "root         982  0.0  0.0      0     0 ?        I<   Sep30   0:00 [kworker/2:1H-kblockd]\n",
      "root         983  0.0  0.0      0     0 ?        S    Sep30   0:00 [scsi_eh_2]\n",
      "root         984  0.0  0.0      0     0 ?        I<   Sep30   0:00 [scsi_tmf_2]\n",
      "root         985  0.0  0.0      0     0 ?        I<   Sep30   0:01 [kworker/39:1H-kblockd]\n",
      "root         986  0.0  0.0      0     0 ?        I<   Sep30   0:01 [kworker/38:1H-kblockd]\n",
      "root        1022  0.0  0.0      0     0 ?        I<   Sep30   0:00 [kworker/75:1H-kblockd]\n",
      "root        1023  0.0  0.0      0     0 ?        I<   Sep30   0:00 [raid5wq]\n",
      "root        1032  0.0  0.0      0     0 ?        I<   Sep30   0:00 [kworker/74:1H-kblockd]\n",
      "root        1054  0.0  0.0      0     0 ?        I<   Sep30   0:00 [kworker/40:1H-kblockd]\n",
      "root        1055  0.0  0.0      0     0 ?        I<   Sep30   0:00 [kworker/64:1H-kblockd]\n",
      "root        1074  0.0  0.0      0     0 ?        I<   Sep30   0:00 [kworker/59:1H-kblockd]\n",
      "root        1077  0.0  0.0      0     0 ?        S    Sep30   0:30 [jbd2/sda2-8]\n",
      "root        1078  0.0  0.0      0     0 ?        I<   Sep30   0:00 [ext4-rsv-conver]\n",
      "root        1079  0.0  0.0      0     0 ?        I<   Sep30   0:00 [kworker/54:1H-kblockd]\n",
      "root        1094  0.0  0.0      0     0 ?        I<   Sep30   0:00 [kworker/62:1H-kblockd]\n",
      "root        1098  0.0  0.0      0     0 ?        I<   Sep30   0:00 [kworker/69:1H-kblockd]\n",
      "root        1107  0.0  0.0      0     0 ?        I<   Sep30   0:00 [kworker/47:1H-kblockd]\n",
      "root        1111  0.0  0.0      0     0 ?        I<   Sep30   0:00 [kworker/45:1H-kblockd]\n",
      "root        1113  0.0  0.0      0     0 ?        I<   Sep30   0:00 [kworker/49:1H-kblockd]\n",
      "root        1118  0.0  0.0      0     0 ?        I<   Sep30   0:00 [kworker/42:1H-kblockd]\n",
      "root        1128  0.0  0.0      0     0 ?        I<   Sep30   0:00 [kworker/73:1H-kblockd]\n",
      "root        1139  0.0  0.0      0     0 ?        I<   Sep30   0:00 [kworker/53:1H-kblockd]\n",
      "root        1143  0.0  0.0      0     0 ?        I<   Sep30   0:00 [kworker/71:1H-kblockd]\n",
      "root        1146  0.0  0.0      0     0 ?        I<   Sep30   0:01 [kworker/11:1H-kblockd]\n",
      "root        1149  0.0  0.0      0     0 ?        I<   Sep30   0:00 [kworker/63:1H-kblockd]\n",
      "root        1150  0.0  0.0      0     0 ?        I<   Sep30   0:00 [kworker/51:1H-kblockd]\n",
      "root        1154  0.0  0.0      0     0 ?        I<   Sep30   0:00 [kworker/61:1H-kblockd]\n",
      "root        1167  0.0  0.0 171980 99128 ?        S<s  Sep30   3:36 /lib/systemd/systemd-journald\n",
      "root        1198  0.0  0.0      0     0 ?        I<   Sep30   0:00 [kworker/50:1H-kblockd]\n",
      "root        1199  0.0  0.0      0     0 ?        I<   Sep30   0:00 [kaluad]\n",
      "root        1203  0.0  0.0      0     0 ?        I<   Sep30   0:00 [kmpath_rdacd]\n",
      "root        1204  0.0  0.0      0     0 ?        I<   Sep30   0:00 [kmpathd]\n",
      "root        1205  0.0  0.0      0     0 ?        I<   Sep30   0:00 [kmpath_handlerd]\n",
      "root        1206  0.0  0.0 289348 27096 ?        SLsl Sep30   3:07 /sbin/multipathd -d -s\n",
      "root        1207  0.0  0.0      0     0 ?        I<   Sep30   0:00 [kworker/41:1H-kblockd]\n",
      "root        1212  0.0  0.0  26352  7216 ?        Ss   Sep30   0:02 /lib/systemd/systemd-udevd\n",
      "root        1308  0.0  0.0      0     0 ?        I<   Sep30   0:00 [kworker/37:1H-kblockd]\n",
      "root        1309  0.0  0.0      0     0 ?        I<   Sep30   0:00 [kworker/4:1H-kblockd]\n",
      "root        1317  0.0  0.0      0     0 ?        I<   Sep30   0:00 [kworker/58:1H-kblockd]\n",
      "root        1320  0.0  0.0      0     0 ?        I<   Sep30   0:00 [kworker/70:1H-kblockd]\n",
      "root        1327  0.0  0.0      0     0 ?        I<   Sep30   0:00 [kworker/3:1H-kblockd]\n",
      "root        1328  0.0  0.0      0     0 ?        I<   Sep30   0:00 [kworker/27:1H-kblockd]\n",
      "root        1332  0.0  0.0      0     0 ?        I<   Sep30   0:00 [kworker/23:1H-kblockd]\n",
      "root        1333  0.0  0.0      0     0 ?        I<   Sep30   0:00 [kworker/32:1H-kblockd]\n",
      "root        1335  0.0  0.0      0     0 ?        I<   Sep30   0:00 [kworker/9:1H-kblockd]\n",
      "root        1336  0.0  0.0      0     0 ?        I<   Sep30   0:00 [kworker/28:1H-kblockd]\n",
      "root        1339  0.0  0.0      0     0 ?        I<   Sep30   0:00 [ib-comp-wq]\n",
      "root        1340  0.0  0.0      0     0 ?        I<   Sep30   0:00 [ib-comp-unb-wq]\n",
      "root        1341  0.0  0.0      0     0 ?        I<   Sep30   0:00 [ib_mcast]\n",
      "root        1342  0.0  0.0      0     0 ?        I<   Sep30   0:00 [ib_nl_sa_wq]\n",
      "root        1343  0.0  0.0      0     0 ?        I<   Sep30   0:00 [kworker/10:1H-kblockd]\n",
      "root        1367  0.0  0.0      0     0 ?        I<   Sep30   0:00 [kworker/21:1H-kblockd]\n",
      "root        1388  0.0  0.0      0     0 ?        I<   Sep30   0:01 [kworker/1:1H-kblockd]\n",
      "root        1417  0.0  0.0      0     0 ?        I<   Sep30   0:00 [kworker/36:1H-kblockd]\n",
      "root        1418  0.0  0.0      0     0 ?        I<   Sep30   0:00 [kworker/57:1H-kblockd]\n",
      "root        1421  0.0  0.0      0     0 ?        I<   Sep30   0:00 [mlx5_ib_sigerr_]\n",
      "root        1422  0.0  0.0      0     0 ?        I<   Sep30   0:00 [kworker/22:1H-kblockd]\n",
      "root        1425  0.0  0.0      0     0 ?        I<   Sep30   0:00 [kworker/33:1H-kblockd]\n",
      "root        1428  0.0  0.0      0     0 ?        I<   Sep30   0:00 [nfit]\n",
      "root        1432  0.0  0.0      0     0 ?        I<   Sep30   0:00 [kworker/55:1H-kblockd]\n",
      "root        1437  0.0  0.0      0     0 ?        I<   Sep30   0:00 [kworker/72:1H-kblockd]\n",
      "root        1447  0.0  0.0      0     0 ?        I<   Sep30   0:00 [kworker/19:1H-kblockd]\n",
      "root        1449  0.0  0.0      0     0 ?        I<   Sep30   0:00 [kworker/67:1H-kblockd]\n",
      "root        1454  0.0  0.0      0     0 ?        I<   Sep30   0:00 [kworker/17:1H-kblockd]\n",
      "root        1464  0.0  0.0      0     0 ?        I<   Sep30   0:00 [kworker/16:1H-kblockd]\n",
      "root        1475  0.0  0.0      0     0 ?        I<   Sep30   0:00 [kworker/44:1H-kblockd]\n",
      "root        1481  0.0  0.0      0     0 ?        I<   Sep30   0:00 [ib_mad1]\n",
      "root        1482  0.0  0.0      0     0 ?        I<   Sep30   0:00 [to_fifo]\n",
      "root        1488  0.0  0.0      0     0 ?        I<   Sep30   0:00 [mkey_cache]\n",
      "root        1513  0.0  0.0   6352  1536 ?        Ss   Sep30   0:00 /usr/sbin/rdma-ndd --systemd\n",
      "_rpc        1519  0.0  0.0   8108  4196 ?        Ss   Sep30   0:02 /sbin/rpcbind -f -w\n",
      "systemd+    1526  0.0  0.0  89364  7360 ?        Ssl  Sep30   0:03 /lib/systemd/systemd-timesyncd\n",
      "root        1542  0.0  0.0      0     0 ?        I<   Sep30   0:00 [rpciod]\n",
      "root        1543  0.0  0.0      0     0 ?        I<   Sep30   0:00 [xprtiod]\n",
      "root        1545  0.0  0.0  51148 11888 ?        Ss   Sep30   0:00 /usr/bin/VGAuthService\n",
      "root        1546  0.1  0.0 324644 11276 ?        Ssl  Sep30  33:00 /usr/bin/vmtoolsd\n",
      "root        1596  0.0  0.0      0     0 ?        I<   Sep30   0:00 [kworker/31:1H-kblockd]\n",
      "root        1755  0.0  0.0      0     0 ?        I<   Sep30   0:00 [rdma_cm]\n",
      "systemd+    1811  0.0  0.0  16128  8116 ?        Ss   Sep30   0:17 /lib/systemd/systemd-networkd\n",
      "systemd+    1813  0.0  0.0  26456 14412 ?        Ss   Sep30   0:22 /lib/systemd/systemd-resolved\n",
      "root        1814  0.0  0.0      0     0 ?        I<   Sep30   0:00 [kworker/13:1H-kblockd]\n",
      "message+    1916  0.0  0.0  36488  7564 ?        Ss   Sep30   0:12 @dbus-daemon --system --address=systemd: --nofork --nopidfile --systemd-activation --syslog-only\n",
      "root        1917  0.0  0.0 258608 18832 ?        Ssl  Sep30   1:41 /usr/sbin/NetworkManager --no-daemon\n",
      "root        1922  0.0  0.0  82900  4476 ?        Ssl  Sep30   7:06 /usr/sbin/irqbalance --foreground\n",
      "root        1925  0.0  0.0  32848 19080 ?        Ss   Sep30   0:00 /usr/bin/python3 /usr/bin/networkd-dispatcher --run-startup-triggers\n",
      "root        1926  0.0  0.0 256992 10216 ?        Ssl  Sep30   0:02 /usr/libexec/polkitd --no-debug\n",
      "syslog      1927  0.0  0.0 233756  6308 ?        Ssl  Sep30   0:52 /usr/sbin/rsyslogd -n -iNONE\n",
      "root        1940  0.0  0.0 392612 12980 ?        Ssl  Sep30   0:04 /usr/libexec/udisks2/udisksd\n",
      "root        1943  0.0  0.0  16504  5860 ?        Ss   Sep30   0:09 /sbin/wpa_supplicant -u -s -O /run/wpa_supplicant\n",
      "root        1961  0.0  0.0      0     0 ?        I<   Sep30   0:00 [kworker/12:1H-kblockd]\n",
      "root        1993  0.0  0.0 317964 12700 ?        Ssl  Sep30   0:01 /usr/sbin/ModemManager\n",
      "root        1995  0.0  0.0  11796  1316 ?        Ssl  Sep30   0:02 /usr/sbin/rshim\n",
      "root        2037  0.0  0.0      0     0 ?        I<   Sep30   0:00 [kworker/7:1H-kblockd]\n",
      "root        2092  0.0  0.0  25048  9536 ?        Ss   Sep30   1:04 /lib/systemd/systemd-logind\n",
      "root        2097  0.0  0.0      0     0 ?        I<   Sep30   0:00 [kworker/52:1H-kblockd]\n",
      "root        2103  0.0  0.0      0     0 ?        I<   Sep30   0:00 [kworker/8:1H-kblockd]\n",
      "root        2118  0.0  0.0 109768 21240 ?        Ssl  Sep30   0:00 /usr/bin/python3 /usr/share/unattended-upgrades/unattended-upgrade-shutdown --wait-for-signal\n",
      "root        2176  0.0  0.0  15436  9232 ?        Ss   Sep30   1:02 sshd: /usr/sbin/sshd -D [listener] 0 of 10-100 startups\n",
      "root        2210  0.0  0.0      0     0 ?        I<   Sep30   0:00 [kworker/29:1H-kblockd]\n",
      "root        2222  0.0  0.0      0     0 ?        I<   Sep30   0:00 [nfsiod]\n",
      "root        2232  0.0  0.0      0     0 ?        I    Sep30   0:01 [NFSv4 callback]\n",
      "root        2239  0.0  0.0   6896  3044 ?        Ss   Sep30   0:03 /usr/sbin/cron -f -P\n",
      "root        2253  0.0  0.0   6176  1084 tty1     Ss+  Sep30   0:00 /sbin/agetty -o -p -- \\u --noclear tty1 linux\n",
      "root        2344  0.0  0.0      0     0 ?        I<   Sep30   0:00 [kworker/5:1H-kblockd]\n",
      "tau         2448  0.0  0.0  17056  9780 ?        Ss   Sep30   0:01 /lib/systemd/systemd --user\n",
      "tau         2449  0.0  0.0 203916  4040 ?        S    Sep30   0:00 (sd-pam)\n",
      "tau         2655  0.0  0.0  17036  3164 ?        Ss   Sep30   0:03 SCREEN\n",
      "tau         2656  0.0  0.0  17168  4020 pts/1    Ss   Sep30   0:00 /bin/bash\n",
      "tau         2689  0.0  0.0 280368 109564 pts/1   Sl+  Sep30   1:58 emacs -nw\n",
      "tau         2691  0.0  0.0  16904  4312 pts/2    Ss   Sep30   0:00 /bin/bash --noediting -i\n",
      "tau         2808  0.0  0.0  16904  4124 pts/4    Ss   Sep30   0:00 /bin/bash --noediting -i\n",
      "tau         2945  0.0  0.0  16904  4256 pts/5    Ss   Sep30   0:00 /bin/bash --noediting -i\n",
      "root        4886  0.0  0.0 295604 19548 ?        Ssl  Sep30   0:13 /usr/libexec/packagekitd\n",
      "root       17940  0.0  0.0 239500  7856 ?        Ssl  Oct01   0:00 /usr/libexec/upowerd\n",
      "root       32345  0.0  0.0  44960 11748 ?        Ss   Oct01   0:13 /usr/sbin/sssd -i --logger=files\n",
      "root       32346  0.0  0.0  54352 18968 ?        S    Oct01   4:01 /usr/libexec/sssd/sssd_be --domain default --uid 0 --gid 0 --logger=files\n",
      "root       32347  0.0  0.0  63396 22252 ?        S    Oct01   8:50 /usr/libexec/sssd/sssd_nss --uid 0 --gid 0 --logger=files\n",
      "root       32348  0.0  0.0  35092 14736 ?        S    Oct01   6:30 /usr/libexec/sssd/sssd_pam --uid 0 --gid 0 --logger=files\n",
      "root      269582  0.0  0.0      0     0 ?        I    Oct11   0:04 [kworker/63:2-rcu_gp]\n",
      "root      282274  0.0  0.0      0     0 ?        I    Oct11   0:14 [kworker/8:0-mm_percpu_wq]\n",
      "root      286474  0.0  0.0      0     0 ?        I    Oct11   0:32 [kworker/56:0-mpt_poll_0]\n",
      "root      312619  0.0  0.0      0     0 ?        I    Oct11   0:01 [kworker/30:2-rcu_gp]\n",
      "root      334152  0.0  0.0 2429656 32492 ?       Ssl  Oct12   0:58 /usr/lib/snapd/snapd\n",
      "root      334949  0.0  0.0      0     0 ?        I    Oct12   0:14 [kworker/35:2-events]\n",
      "root      359365  0.0  0.0      0     0 ?        I    Oct13   0:00 [kworker/22:1-mm_percpu_wq]\n",
      "root      359575  0.0  0.0      0     0 ?        I    Oct13   0:10 [kworker/22:0-mm_percpu_wq]\n",
      "root      363336  0.0  0.0      0     0 ?        I    Oct13   0:08 [kworker/28:1-rcu_par_gp]\n",
      "tau       374744  0.0  0.0   7372  3672 pts/5    S+   Oct13   0:00 /bin/bash -x ./run_sync\n",
      "root      374745  0.0  0.0  52480 11240 pts/5    S+   Oct13   0:00 sudo ./rsync_notebooks.py --users-csv users_nopw.csv --dest /home/tau/notebooks/sync_dest\n",
      "root      374753  0.0  0.0  52480  3628 pts/12   Ss   Oct13   0:00 sudo ./rsync_notebooks.py --users-csv users_nopw.csv --dest /home/tau/notebooks/sync_dest\n",
      "root      374754  0.0  0.0  24604 14184 pts/12   S+   Oct13   0:16 /usr/bin/python3 ./rsync_notebooks.py --users-csv users_nopw.csv --dest /home/tau/notebooks/sync_dest\n",
      "tau       375500  0.0  0.0  18048  4584 pts/14   Ss   Oct13   0:00 /bin/bash --noediting -i\n",
      "uuidd     375813  0.0  0.0   9212  1496 ?        Ss   Oct13   0:00 /usr/sbin/uuidd --socket-activation\n",
      "root      398361  0.0  0.0      0     0 ?        I    Oct13   0:06 [kworker/70:1-mm_percpu_wq]\n",
      "root      398613  0.0  0.0  45840  9036 pts/14   S+   Oct13   0:00 sudo tail -f /var/log/apache2/error.log\n",
      "root      398614  0.0  0.0  45840  2976 pts/16   Ss   Oct13   0:00 sudo tail -f /var/log/apache2/error.log\n",
      "root      398615  0.0  0.0   5804  1060 pts/16   S+   Oct13   0:00 tail -f /var/log/apache2/error.log\n",
      "tau       398649  0.0  0.0  16904  4692 pts/18   Ss+  Oct13   0:00 /bin/bash --noediting -i\n",
      "share     398976  0.0  0.0  17060  9632 ?        Ss   Oct13   0:00 /lib/systemd/systemd --user\n",
      "share     398977  0.0  0.0 205100  5776 ?        S    Oct13   0:00 (sd-pam)\n",
      "share     399193  0.0  0.0  16732  2816 ?        Ss   Oct13   0:00 SCREEN\n",
      "share     399194  0.0  0.0  17036  4832 pts/17   Ss   Oct13   0:00 /bin/bash\n",
      "share     399264  0.0  0.0 199200 38512 pts/17   Sl+  Oct13   0:01 emacs -nw\n",
      "share     399266  0.0  0.0  16904  4704 pts/20   Ss+  Oct13   0:00 /bin/bash --noediting -i\n",
      "tau       399373  0.0  0.0  17168  5068 pts/6    Ss   Oct13   0:00 /bin/bash\n",
      "root      399458  0.0  0.0      0     0 ?        I    Oct13   0:07 [kworker/13:1-rcu_par_gp]\n",
      "root      400257  0.0  0.0  52476 11384 pts/6    S+   Oct13   0:00 sudo emacs -nw /etc/apache2/sites-available/default-ssl.conf\n",
      "root      400258  0.0  0.0  52476  3568 pts/9    Ss   Oct13   0:00 sudo emacs -nw /etc/apache2/sites-available/default-ssl.conf\n",
      "root      400259  0.0  0.0 186592 36012 pts/9    Sl+  Oct13   0:03 emacs -nw /etc/apache2/sites-available/default-ssl.conf\n",
      "tau       402093  0.0  0.0  16904  4760 pts/10   Ss   Oct13   0:00 /bin/bash --noediting -i\n",
      "root      402189  0.0  0.0  45840  9056 pts/10   S+   Oct13   0:00 sudo tail -f /var/log/apache2/access.log\n",
      "root      402190  0.0  0.0  45840  3056 pts/11   Ss   Oct13   0:00 sudo tail -f /var/log/apache2/access.log\n",
      "root      402191  0.0  0.0   5804  1052 pts/11   S+   Oct13   0:00 tail -f /var/log/apache2/access.log\n",
      "root      402893  0.0  0.0      0     0 ?        I    Oct13   0:03 [kworker/51:1-mm_percpu_wq]\n",
      "root      403386  0.0  0.0      0     0 ?        I    Oct13   0:04 [kworker/72:1-mm_percpu_wq]\n",
      "root      403573  0.0  0.0      0     0 ?        I    Oct13   0:04 [kworker/50:0-mm_percpu_wq]\n",
      "root      404069  0.0  0.0      0     0 ?        I    Oct13   0:05 [kworker/71:1-rcu_gp]\n",
      "root      404077  0.0  0.0      0     0 ?        I    Oct13   0:03 [kworker/67:1-rcu_par_gp]\n",
      "root      404085  0.0  0.0  20804 12108 ?        Ss   Oct13   0:28 /usr/sbin/apache2 -k start\n",
      "www-data  404088  0.0  0.0 1884016 76244 ?       S    Oct13   0:00 /usr/sbin/apache2 -k start\n",
      "root      407662  0.0  0.0      0     0 ?        I    Oct14   0:03 [kworker/65:0-rcu_gp]\n",
      "root      414287  0.0  0.0      0     0 ?        I    Oct14   0:07 [kworker/30:1-mm_percpu_wq]\n",
      "root      433407  0.0  0.0      0     0 ?        I    Oct14   0:06 [kworker/16:0-rcu_gp]\n",
      "root      445984  0.0  0.0      0     0 ?        I    Oct14   0:06 [kworker/12:2-rcu_gp]\n",
      "root      446395  0.0  0.0      0     0 ?        I    Oct14   0:00 [kworker/34:0-events]\n",
      "root      450392  0.0  0.0      0     0 ?        I    Oct14   0:02 [kworker/55:2-rcu_gp]\n",
      "root      450403  0.0  0.0      0     0 ?        I    Oct14   0:05 [kworker/60:2-rcu_gp]\n",
      "root      454704  0.0  0.0      0     0 ?        I    Oct15   0:03 [kworker/54:1-mm_percpu_wq]\n",
      "root      485314  0.0  0.0      0     0 ?        I    Oct15   0:05 [kworker/32:2-mm_percpu_wq]\n",
      "root      496314  0.0  0.0      0     0 ?        I    Oct15   0:01 [kworker/43:0-cgroup_destroy]\n",
      "root      535128  0.0  0.0      0     0 ?        I    Oct16   0:03 [kworker/67:2-mm_percpu_wq]\n",
      "root      536284  0.0  0.0      0     0 ?        I    Oct16   0:05 [kworker/20:2-mm_percpu_wq]\n",
      "root      538444  0.0  0.0      0     0 ?        I    Oct16   0:03 [kworker/17:3-rcu_par_gp]\n",
      "root      539854  0.0  0.0      0     0 ?        I    Oct16   0:00 [kworker/10:1-rcu_gp]\n",
      "root      540668  0.0  0.0      0     0 ?        I    Oct16   0:04 [kworker/53:1-mm_percpu_wq]\n",
      "root      540670  0.0  0.0      0     0 ?        I    Oct16   0:03 [kworker/52:1-mm_percpu_wq]\n",
      "root      540794  0.0  0.0      0     0 ?        I    Oct16   0:09 [kworker/1:0-mm_percpu_wq]\n",
      "root      540800  0.0  0.0      0     0 ?        I    Oct16   0:20 [kworker/74:1-cgwb_release]\n",
      "root      540835  0.0  0.0      0     0 ?        I    Oct16   0:00 [kworker/20:0-events]\n",
      "root      542938  0.0  0.0      0     0 ?        I    Oct16   0:00 [kworker/6:1-events]\n",
      "root      543036  0.0  0.0      0     0 ?        I    Oct16   0:09 [kworker/6:2-events]\n",
      "root      544260  0.0  0.0      0     0 ?        I    Oct16   0:03 [kworker/3:1-rcu_gp]\n",
      "root      544401  0.0  0.0      0     0 ?        I    Oct16   0:04 [kworker/34:1-mm_percpu_wq]\n",
      "root      614618  0.0  0.0      0     0 ?        I    Oct16   0:05 [kworker/49:2-events]\n",
      "root      653296  0.0  0.0      0     0 ?        I    Oct16   0:06 [kworker/10:0-mm_percpu_wq]\n",
      "root      656417  0.0  0.0      0     0 ?        I    Oct16   0:04 [kworker/25:0-rcu_gp]\n",
      "root      660069  0.0  0.0      0     0 ?        I    Oct16   0:00 [kworker/11:2]\n",
      "root      667730  0.0  0.0      0     0 ?        I    Oct16   0:00 [kworker/21:1]\n",
      "root      668993  0.0  0.0      0     0 ?        I    Oct16   0:01 [kworker/29:1-rcu_gp]\n",
      "root      690145  0.0  0.0      0     0 ?        I    Oct16   0:00 [kworker/51:2-events]\n",
      "root      691791  0.0  0.0      0     0 ?        I    Oct16   0:02 [kworker/58:1-rcu_par_gp]\n",
      "root      691795  0.0  0.0      0     0 ?        I    Oct16   0:02 [kworker/73:1-mm_percpu_wq]\n",
      "root      708528  0.0  0.0      0     0 ?        I    Oct16   0:02 [kworker/61:1-events]\n",
      "root      709409  0.0  0.0      0     0 ?        I    Oct16   0:05 [kworker/26:2-mm_percpu_wq]\n",
      "root      714656  0.0  0.0      0     0 ?        I    Oct16   0:03 [kworker/57:2-mm_percpu_wq]\n",
      "root      715367  0.0  0.0      0     0 ?        I    Oct16   0:00 [kworker/56:1-events]\n",
      "root      715720  0.0  0.0      0     0 ?        I    Oct16   0:00 [kworker/61:0-cgroup_destroy]\n",
      "root      716853  0.0  0.0      0     0 ?        I    Oct16   0:02 [kworker/41:1-mm_percpu_wq]\n",
      "root      722084  0.0  0.0      0     0 ?        I    Oct16   0:02 [kworker/43:2-mm_percpu_wq]\n",
      "root      722091  0.0  0.0      0     0 ?        I    Oct16   0:00 [kworker/41:0-events]\n",
      "root      731593  0.0  0.0      0     0 ?        I    Oct17   0:01 [kworker/69:2-rcu_par_gp]\n",
      "root      732190  0.0  0.0      0     0 ?        I    Oct17   0:00 [kworker/37:0-events]\n",
      "root      732285  0.0  0.0      0     0 ?        I    Oct17   0:07 [kworker/37:2-mm_percpu_wq]\n",
      "root      735025  0.0  0.0      0     0 ?        I    Oct17   0:00 [kworker/75:0-cgroup_destroy]\n",
      "root      744920  0.0  0.0      0     0 ?        I<   Oct17   0:00 [kworker/u157:0-xprtiod]\n",
      "root      747413  0.0  0.0      0     0 ?        I    Oct17   0:00 [kworker/49:0]\n",
      "root      747415  0.0  0.0      0     0 ?        I    Oct17   0:00 [kworker/64:3-rcu_par_gp]\n",
      "root      750584  0.0  0.0      0     0 ?        I    Oct17   0:00 [kworker/57:1]\n",
      "root      750585  0.0  0.0      0     0 ?        I    Oct17   0:00 [kworker/44:1-rcu_par_gp]\n",
      "root      750586  0.0  0.0      0     0 ?        I    Oct17   0:02 [kworker/42:1-mm_percpu_wq]\n",
      "root      751700  0.0  0.0      0     0 ?        I    Oct17   0:00 [kworker/72:2]\n",
      "root      751702  0.0  0.0      0     0 ?        I    Oct17   0:02 [kworker/40:2-mm_percpu_wq]\n",
      "root      758414  0.0  0.0      0     0 ?        I    Oct17   0:00 [kworker/18:0-events]\n",
      "root      758540  0.0  0.0      0     0 ?        I    Oct17   0:04 [kworker/18:1-mm_percpu_wq]\n",
      "root      759013  0.0  0.0      0     0 ?        I    Oct17   0:02 [kworker/28:0-mm_percpu_wq]\n",
      "root      759014  0.0  0.0      0     0 ?        I    Oct17   0:02 [kworker/29:2-events]\n",
      "root      759019  0.0  0.0      0     0 ?        I    Oct17   0:01 [kworker/44:0-mm_percpu_wq]\n",
      "root      762422  0.0  0.0      0     0 ?        I    Oct17   0:01 [kworker/66:0-mm_percpu_wq]\n",
      "root      778024  0.0  0.0      0     0 ?        I    Oct17   0:08 [kworker/39:0-mm_percpu_wq]\n",
      "root      779404  0.0  0.0      0     0 ?        I    Oct17   0:02 [kworker/48:0-events]\n",
      "root      779406  0.0  0.0      0     0 ?        I    Oct17   0:09 [kworker/38:0-mm_percpu_wq]\n",
      "root      782382  0.0  0.0      0     0 ?        I    Oct17   0:00 [kworker/50:1]\n",
      "root      782383  0.0  0.0      0     0 ?        I    Oct17   0:01 [kworker/45:2-mm_percpu_wq]\n",
      "root      792389  0.0  0.0      0     0 ?        I    Oct18   0:00 [kworker/42:2-rcu_par_gp]\n",
      "root      794036  0.0  0.0      0     0 ?        I    Oct18   0:00 [kworker/4:1-mm_percpu_wq]\n",
      "root      795369  0.0  0.0      0     0 ?        I    Oct18   0:04 [kworker/4:0-mm_percpu_wq]\n",
      "root      795374  0.0  0.0      0     0 ?        I    Oct18   0:00 [kworker/47:1-rcu_gp]\n",
      "root      795871  0.0  0.0      0     0 ?        I    Oct18   0:04 [kworker/3:0-mm_percpu_wq]\n",
      "root      797724  0.0  0.0      0     0 ?        I    Oct18   0:01 [kworker/47:0-mm_percpu_wq]\n",
      "root      797727  0.0  0.0      0     0 ?        I    Oct18   0:00 [kworker/46:0-events]\n",
      "root      797966  0.0  0.0      0     0 ?        I    Oct18   0:00 [kworker/33:1-events]\n",
      "root      798631  0.0  0.0      0     0 ?        I    Oct18   0:01 [kworker/33:0-mm_percpu_wq]\n",
      "root      800760  0.0  0.0      0     0 ?        I    Oct18   0:02 [kworker/11:1-mm_percpu_wq]\n",
      "root      801329  0.0  0.0      0     0 ?        I    Oct18   0:00 [kworker/45:1]\n",
      "root      803350  0.0  0.0      0     0 ?        I    Oct18   0:00 [kworker/19:2-mm_percpu_wq]\n",
      "root      804837  0.0  0.0      0     0 ?        I    Oct18   0:02 [kworker/19:1-mm_percpu_wq]\n",
      "root      809947  0.0  0.0      0     0 ?        I    Oct18   0:15 [kworker/74:0-events]\n",
      "root      809975  0.0  0.0      0     0 ?        I    Oct18   0:00 [kworker/55:1-mm_percpu_wq]\n",
      "root      809976  0.0  0.0      0     0 ?        I    Oct18   0:02 [kworker/75:2-mm_percpu_wq]\n",
      "root      809977  0.0  0.0      0     0 ?        I    Oct18   0:00 [kworker/54:0]\n",
      "root      812863  0.0  0.0      0     0 ?        I    Oct18   0:00 [kworker/68:2-rcu_gp]\n",
      "root      824749  0.0  0.0      0     0 ?        I    Oct18   0:01 [kworker/17:0-mm_percpu_wq]\n",
      "root      824750  0.0  0.0      0     0 ?        I    Oct18   0:01 [kworker/16:2-mm_percpu_wq]\n",
      "root      824755  0.0  0.0      0     0 ?        I    Oct18   0:00 [kworker/62:0-mm_percpu_wq]\n",
      "root      824756  0.0  0.0      0     0 ?        I    Oct18   0:00 [kworker/63:0-events]\n",
      "u24240    829350  0.0  0.1 677004 153988 ?       Ssl  Oct18   0:58 /usr/bin/python3 /usr/local/bin/jupyterhub-singleuser\n",
      "u24240    829394  0.0  0.1 3444604 124100 ?      Ssl  Oct18   0:16 /usr/bin/python3 -m sos_notebook.kernel -f /home/u24240/.local/share/jupyter/runtime/kernel-98e088d4-174f-4677-820b-85521b0bec35.json\n",
      "u24240    829397  0.0  0.1 3444520 124320 ?      Ssl  Oct18   0:16 /usr/bin/python3 -m sos_notebook.kernel -f /home/u24240/.local/share/jupyter/runtime/kernel-2e49bf6d-bf31-4243-bf52-d60d9b72e7b4.json\n",
      "u24240    829712  0.0  0.1 3444740 124164 ?      Ssl  Oct18   0:18 /usr/bin/python3 -m sos_notebook.kernel -f /home/u24240/.local/share/jupyter/runtime/kernel-487d3448-f5fb-4c61-bb69-837fb4749e38.json\n",
      "root      831955  0.0  0.0      0     0 ?        I    Oct18   0:00 [kworker/62:2]\n",
      "root      831958  0.0  0.0      0     0 ?        I    Oct18   0:00 [kworker/40:0-events]\n",
      "root     1163256  0.0  0.0      0     0 ?        I    Oct18   0:00 [kworker/73:2-events]\n",
      "root     1164370  0.0  0.0      0     0 ?        I    Oct18   0:00 [kworker/24:2-mm_percpu_wq]\n",
      "root     1164818  0.0  0.0      0     0 ?        I    Oct18   0:01 [kworker/24:1-mm_percpu_wq]\n",
      "root     1167221  0.0  0.0      0     0 ?        I    00:00   0:00 [kworker/69:1-mm_percpu_wq]\n",
      "root     1167225  0.0  0.0      0     0 ?        I    00:00   0:00 [kworker/68:1-events]\n",
      "root     1167239  0.0  0.0      0     0 ?        I    00:00   0:00 [kworker/59:0-rcu_gp]\n",
      "root     1167245  0.0  0.0      0     0 ?        I    00:00   0:00 [kworker/60:0-mm_percpu_wq]\n",
      "root     1167246  0.0  0.0      0     0 ?        I    00:00   0:00 [kworker/48:2-events]\n",
      "www-data 1167247  0.0  0.0 2028088 22860 ?       Sl   00:00   0:01 /usr/sbin/apache2 -k start\n",
      "www-data 1167248  0.0  0.0 2028072 22512 ?       Sl   00:00   0:01 /usr/sbin/apache2 -k start\n",
      "root     1173263  0.0  0.0      0     0 ?        I    03:38   0:00 [kworker/1:2-rcu_par_gp]\n",
      "root     1173264  0.0  0.0      0     0 ?        I    03:38   0:00 [kworker/14:2-events]\n",
      "root     1173635  0.0  0.0      0     0 ?        I    03:57   0:00 [kworker/32:0]\n",
      "root     1174638  0.0  0.0      0     0 ?        I    04:43   0:02 [kworker/2:0-mm_percpu_wq]\n",
      "root     1174865  0.0  0.0      0     0 ?        I    04:54   0:00 [kworker/13:2-mm_percpu_wq]\n",
      "root     1174866  0.0  0.0      0     0 ?        I    04:54   0:00 [kworker/12:1-mm_percpu_wq]\n",
      "root     1174871  0.0  0.0      0     0 ?        I    04:54   0:00 [kworker/64:0-mm_percpu_wq]\n",
      "root     1174872  0.0  0.0      0     0 ?        I    04:54   0:00 [kworker/65:1-mm_percpu_wq]\n",
      "root     1174905  0.0  0.0      0     0 ?        I    04:54   0:00 [kworker/26:1-events]\n",
      "root     1175032  0.0  0.0      0     0 ?        I    05:00   0:08 [kworker/14:0-mm_percpu_wq]\n",
      "root     1177239  0.0  0.0      0     0 ?        I    06:38   0:00 [kworker/53:3-events]\n",
      "root     1177439  0.0  0.0      0     0 ?        I    06:43   0:02 [kworker/7:0-mm_percpu_wq]\n",
      "root     1177648  0.0  0.0      0     0 ?        I    06:53   0:00 [kworker/7:1-mm_percpu_wq]\n",
      "root     1177680  0.0  0.0      0     0 ?        I    06:54   0:00 [kworker/71:2-mm_percpu_wq]\n",
      "root     1177683  0.0  0.0      0     0 ?        I    06:54   0:00 [kworker/70:0]\n",
      "root     1178131  0.0  0.0      0     0 ?        I    07:14   0:01 [kworker/35:1-mm_percpu_wq]\n",
      "root     1178594  0.0  0.0      0     0 ?        I    07:32   0:00 [kworker/0:0-events]\n",
      "root     1178723  0.0  0.0      0     0 ?        I    07:38   0:03 [kworker/0:1-events]\n",
      "root     1179481  0.0  0.0      0     0 ?        I    08:08   0:00 [kworker/15:2-mm_percpu_wq]\n",
      "root     1179650  0.0  0.0      0     0 ?        I    08:15   0:03 [kworker/15:0-events]\n",
      "root     1182063  0.0  0.0      0     0 ?        I    09:45   0:00 [kworker/27:2-mm_percpu_wq]\n",
      "root     1182359  0.0  0.0      0     0 ?        I    09:57   0:00 [kworker/27:1-events]\n",
      "u24271   1183349  0.1  0.1 765928 155872 ?       Ssl  10:39   1:05 /usr/bin/python3 /usr/local/bin/jupyterhub-singleuser\n",
      "u24271   1183389  0.0  0.0  18388  6256 pts/3    Ss+  10:39   0:00 /bin/bash -l\n",
      "u24271   1183392  0.0  0.0  18388  6140 pts/8    Ss+  10:39   0:00 /bin/bash -l\n",
      "u24271   1183552  0.0  0.1 3444556 124568 ?      Ssl  10:39   0:08 /usr/bin/python3 -m sos_notebook.kernel -f /home/u24271/.local/share/jupyter/runtime/kernel-a11ce55b-3b44-432d-89a7-f36ab6a8fbac.json\n",
      "u24271   1183555  0.5  0.1 3714740 126100 ?      Ssl  10:39   3:54 /usr/bin/python3 -m sos_notebook.kernel -f /home/u24271/.local/share/jupyter/runtime/kernel-930d37c7-de4a-442b-a391-301c0f590d17.json\n",
      "u24271   1183556  0.0  0.1 3444588 124328 ?      Ssl  10:39   0:07 /usr/bin/python3 -m sos_notebook.kernel -f /home/u24271/.local/share/jupyter/runtime/kernel-e945f55f-780a-4540-bd83-0e8764b71f98.json\n",
      "u24271   1183557  0.5  0.1 3477088 125196 ?      Ssl  10:39   3:27 /usr/bin/python3 -m sos_notebook.kernel -f /home/u24271/.local/share/jupyter/runtime/kernel-3c4af525-7617-43b2-9c18-75c12b307169.json\n",
      "u24271   1183558  0.0  0.1 3444644 124336 ?      Ssl  10:39   0:09 /usr/bin/python3 -m sos_notebook.kernel -f /home/u24271/.local/share/jupyter/runtime/kernel-8eb35bf5-a555-461f-bd3a-5eb5ea82822b.json\n",
      "u24271   1183559  0.0  0.1 3444504 124228 ?      Ssl  10:39   0:08 /usr/bin/python3 -m sos_notebook.kernel -f /home/u24271/.local/share/jupyter/runtime/kernel-3676d275-8725-4445-a101-551d907f89f0.json\n",
      "u24271   1184198  0.4  0.0 3272348 97800 ?       Sl   10:46   3:09 /usr/bin/python3 -m sos_notebook.kernel -f /home/u24271/.local/share/jupyter/runtime/kernel-930d37c7-de4a-442b-a391-301c0f590d17.json\n",
      "u24271   1184201  0.0  0.0 752732 60108 ?        Ssl  10:46   0:17 /usr/bin/python3 -m ipykernel_launcher -f /tmp/tmp2apknq9o.json\n",
      "u24271   1184219  0.0  0.0 670708 54220 ?        Ssl  10:46   0:17 /usr/bin/python3 -m bash_kernel -f /tmp/tmpwffeudl_.json\n",
      "u24271   1184234  0.0  0.0  17036  4848 pts/13   Ss+  10:46   0:00 /usr/bin/bash --rcfile /usr/lib/python3/dist-packages/pexpect/bashrc.sh\n",
      "u24271   1185532  0.4  0.0 3272284 98036 ?       Sl   11:12   3:01 /usr/bin/python3 -m sos_notebook.kernel -f /home/u24271/.local/share/jupyter/runtime/kernel-3c4af525-7617-43b2-9c18-75c12b307169.json\n",
      "u24271   1185535  0.0  0.0 670708 54048 ?        Ssl  11:12   0:16 /usr/bin/python3 -m bash_kernel -f /tmp/tmphrqt3zfj.json\n",
      "u24271   1185551  0.0  0.0  17036  4760 pts/15   Ss+  11:12   0:00 /usr/bin/bash --rcfile /usr/lib/python3/dist-packages/pexpect/bashrc.sh\n",
      "root     1186540  0.0  0.0      0     0 ?        I    11:37   0:00 [kworker/58:0-mm_percpu_wq]\n",
      "root     1186541  0.0  0.0      0     0 ?        I    11:37   0:00 [kworker/59:1-mm_percpu_wq]\n",
      "root     1186549  0.0  0.0      0     0 ?        I    11:37   0:00 [kworker/25:1-events]\n",
      "root     1188435  0.0  0.0      0     0 ?        I    12:37   0:00 [kworker/5:2-events]\n",
      "root     1189594  0.0  0.0      0     0 ?        I    13:14   0:00 [kworker/u152:0-mlx5_cmd_0000:03:00.0]\n",
      "u24315   1189894  0.2  0.1 1066016 190248 ?      Ssl  13:22   1:15 /usr/bin/python3 /usr/local/bin/jupyterhub-singleuser\n",
      "u24315   1189953  0.0  0.1 3444756 124216 ?      Ssl  13:22   0:09 /usr/bin/python3 -m sos_notebook.kernel -f /home/u24315/.local/share/jupyter/runtime/kernel-9d4e87c8-dee3-4f17-aa9f-55223e87a177.json\n",
      "u24315   1189956  0.3  0.1 3805612 126948 ?      Ssl  13:22   1:53 /usr/bin/python3 -m sos_notebook.kernel -f /home/u24315/.local/share/jupyter/runtime/kernel-f5b5ca65-21d8-4c6a-a63b-a88dcb6facc5.json\n",
      "u24315   1190084  0.3  0.1 3716812 132480 ?      Ssl  13:22   1:57 /usr/bin/python3 -m sos_notebook.kernel -f /home/u24315/.local/share/jupyter/runtime/kernel-639e43a4-ddbd-4b72-b1f2-85a6f5ce19ac.json\n",
      "root     1190234  0.0  0.0      0     0 ?        I    13:24   0:00 [kworker/5:1-mm_percpu_wq]\n",
      "root     1190654  0.0  0.0      0     0 ?        I    13:37   0:00 [kworker/2:2]\n",
      "u24254   1191648  0.0  0.1 761260 147300 ?       Ssl  13:59   0:27 /usr/bin/python3 /usr/local/bin/jupyterhub-singleuser\n",
      "u24254   1191712  0.5  0.1 3714764 126560 ?      Ssl  14:00   2:48 /usr/bin/python3 -m sos_notebook.kernel -f /home/u24254/.local/share/jupyter/runtime/kernel-59369160-e0a9-4159-a1b0-6d2c990a46ee.json\n",
      "u24254   1192314  0.4  0.0 3272372 98124 ?       Sl   14:11   2:07 /usr/bin/python3 -m sos_notebook.kernel -f /home/u24254/.local/share/jupyter/runtime/kernel-59369160-e0a9-4159-a1b0-6d2c990a46ee.json\n",
      "u24254   1192317  0.0  0.0 753720 60480 ?        Ssl  14:11   0:12 /usr/bin/python3 -m ipykernel_launcher -f /tmp/tmp_pu9bipb.json\n",
      "u24254   1192336  0.0  0.0 670708 54096 ?        Ssl  14:11   0:12 /usr/bin/python3 -m bash_kernel -f /tmp/tmp3ywy_l07.json\n",
      "u24254   1192351  0.0  0.0  17036  4868 pts/21   Ss+  14:11   0:00 /usr/bin/bash --rcfile /usr/lib/python3/dist-packages/pexpect/bashrc.sh\n",
      "u24304   1192702  0.1  0.1 1349384 180724 ?      Ssl  14:20   0:49 /usr/bin/python3 /usr/local/bin/jupyterhub-singleuser\n",
      "u24304   1192753  0.0  0.0 753572 60596 ?        Ssl  14:20   0:03 /usr/bin/python3 -m ipykernel_launcher -f /home/u24304/.local/share/jupyter/runtime/kernel-5b0cc9c1-23a3-46ff-b5fe-c82dc7ea45c5.json\n",
      "u24304   1192756  0.5  0.1 3715756 133120 ?      Ssl  14:20   2:24 /usr/bin/python3 -m sos_notebook.kernel -f /home/u24304/.local/share/jupyter/runtime/kernel-edb86fca-ca73-4b2e-9944-90f8272c14d8.json\n",
      "u24304   1192757  0.5  0.1 3804252 126584 ?      Ssl  14:20   2:24 /usr/bin/python3 -m sos_notebook.kernel -f /home/u24304/.local/share/jupyter/runtime/kernel-dc88bafd-52c9-439f-9211-3802ca2ce60e.json\n",
      "u24304   1192758  0.5  0.1 3714752 126004 ?      Ssl  14:20   2:25 /usr/bin/python3 -m sos_notebook.kernel -f /home/u24304/.local/share/jupyter/runtime/kernel-9791255c-0cae-4379-a91c-0e20eeea96fb.json\n",
      "u24254   1193154  0.0  0.0 673524 54396 ?        Ssl  14:26   0:02 /usr/bin/python3 -m bash_kernel -f /home/u24254/.local/share/jupyter/runtime/kernel-dfd35621-cb96-4cb6-a21e-36e50cb0468d.json\n",
      "u24254   1193164  0.0  0.0  17036  4476 pts/22   Ss+  14:26   0:00 /usr/bin/bash --rcfile /usr/lib/python3/dist-packages/pexpect/bashrc.sh\n",
      "u24275   1193747  0.1  0.1 911896 153964 ?       Ssl  14:42   0:50 /usr/bin/python3 /usr/local/bin/jupyterhub-singleuser\n",
      "u24275   1193804  0.0  0.1 3444528 123840 ?      Ssl  14:42   0:10 /usr/bin/python3 -m sos_notebook.kernel -f /home/u24275/.local/share/jupyter/runtime/kernel-ee46bc11-866e-431b-9921-11f09d67983d.json\n",
      "u24275   1193807  0.0  0.1 3444584 123896 ?      Ssl  14:42   0:09 /usr/bin/python3 -m sos_notebook.kernel -f /home/u24275/.local/share/jupyter/runtime/kernel-1bf1416b-9753-423b-8c7e-69b806d7359e.json\n",
      "u24275   1193934  0.5  0.1 3714792 125516 ?      Ssl  14:42   2:36 /usr/bin/python3 -m sos_notebook.kernel -f /home/u24275/.local/share/jupyter/runtime/kernel-95ee418e-01a3-4fae-8b3e-94bd3a8c6759.json\n",
      "u24275   1194093  0.4  0.0 3272400 97972 ?       Sl   14:43   2:01 /usr/bin/python3 -m sos_notebook.kernel -f /home/u24275/.local/share/jupyter/runtime/kernel-95ee418e-01a3-4fae-8b3e-94bd3a8c6759.json\n",
      "u24275   1194096  0.0  0.0 670708 54148 ?        Ssl  14:43   0:11 /usr/bin/python3 -m bash_kernel -f /tmp/tmpql568c7h.json\n",
      "u24275   1194111  0.0  0.0  17036  4888 pts/23   Ss+  14:43   0:00 /usr/bin/bash --rcfile /usr/lib/python3/dist-packages/pexpect/bashrc.sh\n",
      "root     1194698  0.0  0.0      0     0 ?        I    15:02   0:00 [kworker/66:2-events]\n",
      "u24275   1194768  0.0  0.0 751688 60684 ?        Ssl  15:04   0:10 /usr/bin/python3 -m ipykernel_launcher -f /tmp/tmpl_wi9q4o.json\n",
      "u24326   1194869  0.0  0.1 823852 147000 ?       Ssl  15:06   0:11 /usr/bin/python3 /usr/local/bin/jupyterhub-singleuser\n",
      "u24326   1195019  0.0  0.1 3444592 124324 ?      Ssl  15:09   0:09 /usr/bin/python3 -m sos_notebook.kernel -f /home/u24326/.local/share/jupyter/runtime/kernel-524d244d-c1e6-4c14-8c86-5c6c0c9bcfd9.json\n",
      "root     1195106  0.1  0.0      0     0 ?        I<   15:09   0:25 [kworker/u156:2-xprtiod]\n",
      "u24304   1195331  0.4  0.0 3272436 98164 ?       Sl   15:15   1:52 /usr/bin/python3 -m sos_notebook.kernel -f /home/u24304/.local/share/jupyter/runtime/kernel-dc88bafd-52c9-439f-9211-3802ca2ce60e.json\n",
      "u24304   1195334  0.0  0.0 670708 53928 ?        Ssl  15:15   0:10 /usr/bin/python3 -m bash_kernel -f /tmp/tmp0j4u2w8t.json\n",
      "u24304   1195349  0.0  0.0  17036  4832 pts/24   Ss+  15:15   0:00 /usr/bin/bash --rcfile /usr/lib/python3/dist-packages/pexpect/bashrc.sh\n",
      "u24304   1195493  0.4  0.0 3272360 98232 ?       Sl   15:18   1:51 /usr/bin/python3 -m sos_notebook.kernel -f /home/u24304/.local/share/jupyter/runtime/kernel-9791255c-0cae-4379-a91c-0e20eeea96fb.json\n",
      "u24304   1195496  0.0  0.0 752548 60136 ?        Ssl  15:18   0:10 /usr/bin/python3 -m ipykernel_launcher -f /tmp/tmpmxpjxzp6.json\n",
      "u24304   1195544  0.0  0.0 670708 53800 ?        Ssl  15:19   0:10 /usr/bin/python3 -m bash_kernel -f /tmp/tmp3cgtn7qu.json\n",
      "u24304   1195559  0.0  0.0  17036  4740 pts/25   Ss+  15:19   0:00 /usr/bin/bash --rcfile /usr/lib/python3/dist-packages/pexpect/bashrc.sh\n",
      "u24304   1195617  0.0  0.0 848476 67268 ?        Ssl  15:20   0:10 /usr/bin/python3 -m ipykernel_launcher -f /tmp/tmpjf0guy0t.json\n",
      "u24304   1195817  0.4  0.0 3272340 98252 ?       Sl   15:23   1:49 /usr/bin/python3 -m sos_notebook.kernel -f /home/u24304/.local/share/jupyter/runtime/kernel-edb86fca-ca73-4b2e-9944-90f8272c14d8.json\n",
      "u24304   1195818  0.0  0.0 671732 55260 ?        Ssl  15:23   0:10 /usr/bin/python3 -m bash_kernel -f /tmp/tmpix08sy_d.json\n",
      "u24304   1195835  0.0  0.0  17036  4884 pts/26   Ss+  15:23   0:00 /usr/bin/bash --rcfile /usr/lib/python3/dist-packages/pexpect/bashrc.sh\n",
      "u24304   1195850  0.0  0.0 766632 75588 ?        Ssl  15:24   0:10 /usr/bin/python3 -m ipykernel_launcher -f /tmp/tmp63yn9xw8.json\n",
      "root     1195954  0.0  0.0      0     0 ?        I    15:25   0:00 [kworker/u152:1-ext4-rsv-conversion]\n",
      "u24299   1200059  0.0  0.1 754888 154272 ?       Ssl  16:09   0:19 /usr/bin/python3 /usr/local/bin/jupyterhub-singleuser\n",
      "u24299   1200096  0.0  0.0  18388  6248 pts/19   Ss+  16:09   0:00 /bin/bash -l\n",
      "u24299   1200177  0.6  0.1 3714852 125496 ?      Ssl  16:09   2:09 /usr/bin/python3 -m sos_notebook.kernel -f /home/u24299/.local/share/jupyter/runtime/kernel-cca0ba0a-78e3-4734-8c52-8fb0ed4a977a.json\n",
      "u24299   1200180  0.0  0.1 3444736 124196 ?      Ssl  16:09   0:08 /usr/bin/python3 -m sos_notebook.kernel -f /home/u24299/.local/share/jupyter/runtime/kernel-b916b9da-2e97-4750-a586-e4f64c944e3d.json\n",
      "u24299   1200635  0.4  0.0 3272460 97860 ?       Sl   16:17   1:34 /usr/bin/python3 -m sos_notebook.kernel -f /home/u24299/.local/share/jupyter/runtime/kernel-cca0ba0a-78e3-4734-8c52-8fb0ed4a977a.json\n",
      "u24299   1200638  0.0  0.0 670708 53924 ?        Ssl  16:17   0:09 /usr/bin/python3 -m bash_kernel -f /tmp/tmp7g76z1g7.json\n",
      "u24299   1200653  0.0  0.0  17036  4948 pts/27   Ss+  16:17   0:00 /usr/bin/bash --rcfile /usr/lib/python3/dist-packages/pexpect/bashrc.sh\n",
      "u24299   1200783  0.0  0.0 753704 59892 ?        Ssl  16:20   0:08 /usr/bin/python3 -m ipykernel_launcher -f /tmp/tmpu9nhzzm5.json\n",
      "u24315   1202354  0.4  0.0 3272328 98160 ?       Sl   16:44   1:27 /usr/bin/python3 -m sos_notebook.kernel -f /home/u24315/.local/share/jupyter/runtime/kernel-f5b5ca65-21d8-4c6a-a63b-a88dcb6facc5.json\n",
      "u24315   1202357  0.0  0.0 670708 53852 ?        Ssl  16:44   0:08 /usr/bin/python3 -m bash_kernel -f /tmp/tmpqf0oyqer.json\n",
      "u24315   1202373  0.0  0.0  17036  4844 pts/28   Ss+  16:44   0:00 /usr/bin/bash --rcfile /usr/lib/python3/dist-packages/pexpect/bashrc.sh\n",
      "u24315   1202492  0.0  0.0 841912 60984 ?        Ssl  16:47   0:08 /usr/bin/python3 -m ipykernel_launcher -f /tmp/tmpy4yj11v_.json\n",
      "u24315   1202949  0.4  0.0 3272372 98300 ?       Sl   16:52   1:22 /usr/bin/python3 -m sos_notebook.kernel -f /home/u24315/.local/share/jupyter/runtime/kernel-639e43a4-ddbd-4b72-b1f2-85a6f5ce19ac.json\n",
      "u24315   1202952  0.0  0.0 671732 55484 ?        Ssl  16:52   0:10 /usr/bin/python3 -m bash_kernel -f /tmp/tmpcbds02u3.json\n",
      "u24315   1202967  0.0  0.0  17036  4732 pts/29   Ss+  16:52   0:00 /usr/bin/bash --rcfile /usr/lib/python3/dist-packages/pexpect/bashrc.sh\n",
      "u24315   1202978  0.0  0.0 752864 60340 ?        Ssl  16:52   0:08 /usr/bin/python3 -m ipykernel_launcher -f /tmp/tmp10xz6ovc.json\n",
      "u24333   1203564  0.0  0.1 1134640 159760 ?      Ssl  17:12   0:17 /usr/bin/python3 /usr/local/bin/jupyterhub-singleuser\n",
      "u24333   1203602  0.0  0.0  18388  6232 pts/30   Ss+  17:12   0:00 /bin/bash -l\n",
      "u24333   1203701  0.4  0.1 3568764 127836 ?      Ssl  17:13   1:10 /usr/bin/python3 -m sos_notebook.kernel -f /home/u24333/.local/share/jupyter/runtime/kernel-2f7d3e78-0ab0-4b55-ad45-a5a018f51212.json\n",
      "u24505   1203803  0.3  2.9 4480124 3509700 ?     Ssl  17:14   1:06 /usr/bin/python3 /usr/local/bin/jupyterhub-singleuser\n",
      "u24285   1204370  0.2  0.1 1212460 168592 ?      Ssl  17:17   0:39 /usr/bin/python3 /usr/local/bin/jupyterhub-singleuser\n",
      "u24285   1204421  0.4  0.1 3807384 129444 ?      Ssl  17:17   1:12 /usr/bin/python3 -m sos_notebook.kernel -f /home/u24285/.local/share/jupyter/runtime/kernel-15366c5a-7277-48ce-85b4-41bdcb8940f8.json\n",
      "u24285   1204425  0.0  0.1 3444688 124404 ?      Ssl  17:17   0:06 /usr/bin/python3 -m sos_notebook.kernel -f /home/u24285/.local/share/jupyter/runtime/kernel-c302f425-b962-4d86-b5e0-5ffa179ca0a2.json\n",
      "u24285   1204426  0.0  0.1 3444588 124208 ?      Ssl  17:17   0:06 /usr/bin/python3 -m sos_notebook.kernel -f /home/u24285/.local/share/jupyter/runtime/kernel-32d04fb3-07a2-4f69-8f66-eb82b9c4e20c.json\n",
      "u24285   1204491  0.0  0.1 3444616 124224 ?      Ssl  17:17   0:09 /usr/bin/python3 -m sos_notebook.kernel -f /home/u24285/.local/share/jupyter/runtime/kernel-c019fa94-f962-4103-851d-6f1e1706b1da.json\n",
      "u24584   1205229  0.3  0.1 1119324 163176 ?      Ssl  17:24   1:00 /usr/bin/python3 /usr/local/bin/jupyterhub-singleuser\n",
      "u24584   1205276  0.0  0.1 3444588 123580 ?      Ssl  17:24   0:07 /usr/bin/python3 -m sos_notebook.kernel -f /home/u24584/.local/share/jupyter/runtime/kernel-c95a35c6-c320-493f-b489-06a2edbcf3d0.json\n",
      "root     1207922  0.0  0.0      0     0 ?        I    17:35   0:00 [kworker/21:0-mm_percpu_wq]\n",
      "u24307   1208807  0.2  0.1 1211420 164200 ?      Ssl  17:46   0:33 /usr/bin/python3 /usr/local/bin/jupyterhub-singleuser\n",
      "u24307   1208859  0.0  0.1 3444564 124192 ?      Ssl  17:46   0:07 /usr/bin/python3 -m sos_notebook.kernel -f /home/u24307/.local/share/jupyter/runtime/kernel-e0df646f-2ed1-4011-9263-0f81ac200438.json\n",
      "u24307   1208862  0.0  0.1 3805988 127520 ?      Ssl  17:46   0:14 /usr/bin/python3 -m sos_notebook.kernel -f /home/u24307/.local/share/jupyter/runtime/kernel-ac55223e-6cc9-48b5-b073-c2d3da4aff70.json\n",
      "u24307   1208863  0.2  0.1 3715744 127448 ?      Ssl  17:46   0:36 /usr/bin/python3 -m sos_notebook.kernel -f /home/u24307/.local/share/jupyter/runtime/kernel-0c1f39cd-2237-49bf-8522-9608b4845926.json\n",
      "root     1213527  0.0  0.0      0     0 ?        I    18:20   0:03 [kworker/u153:3-rpciod]\n",
      "u24209   1213728  0.1  0.1 989908 167620 ?       Ssl  18:23   0:23 /usr/bin/python3 /usr/local/bin/jupyterhub-singleuser\n",
      "u24209   1213780  0.0  0.1 3444648 123832 ?      Ssl  18:23   0:08 /usr/bin/python3 -m sos_notebook.kernel -f /home/u24209/.local/share/jupyter/runtime/kernel-6f053fbb-e0ac-4b0e-ada9-abd33f0a480e.json\n",
      "u24209   1213783  0.0  0.1 3444592 124588 ?      Ssl  18:23   0:07 /usr/bin/python3 -m sos_notebook.kernel -f /home/u24209/.local/share/jupyter/runtime/kernel-a401549e-e8ed-496f-b388-5cc5775dd16c.json\n",
      "u24209   1213958  0.3  0.1 3806736 128420 ?      Ssl  18:23   0:43 /usr/bin/python3 -m sos_notebook.kernel -f /home/u24209/.local/share/jupyter/runtime/kernel-3a2b6dce-4659-48d2-bd64-d86e138e84ee.json\n",
      "u24209   1214040  0.0  0.1 3444592 124448 ?      Ssl  18:23   0:08 /usr/bin/python3 -m sos_notebook.kernel -f /home/u24209/.local/share/jupyter/runtime/kernel-c9cf3e58-51a0-4aa3-b6e5-88474291c3c7.json\n",
      "u24209   1214508  0.0  0.1 3444660 123964 ?      Ssl  18:26   0:08 /usr/bin/python3 -m sos_notebook.kernel -f /home/u24209/.local/share/jupyter/runtime/kernel-6dd9a095-954b-4452-a98e-135ba658a163.json\n",
      "u24285   1217702  0.6  0.1 3714744 126504 ?      Ssl  18:35   1:16 /usr/bin/python3 -m sos_notebook.kernel -f /home/u24285/.local/share/jupyter/runtime/kernel-a2c3c604-7464-4984-89f7-5415f47d7133.json\n",
      "u24285   1217784  0.4  0.0 3198620 97680 ?       Sl   18:35   0:55 /usr/bin/python3 -m sos_notebook.kernel -f /home/u24285/.local/share/jupyter/runtime/kernel-a2c3c604-7464-4984-89f7-5415f47d7133.json\n",
      "u24285   1217788  0.0  0.0 670708 54000 ?        Ssl  18:35   0:05 /usr/bin/python3 -m bash_kernel -f /tmp/tmpxxny5qgk.json\n",
      "u24285   1217803  0.0  0.0  17036  4776 pts/33   Ss+  18:35   0:00 /usr/bin/bash --rcfile /usr/lib/python3/dist-packages/pexpect/bashrc.sh\n",
      "u24285   1217817  0.0  0.0 751820 60352 ?        Ssl  18:35   0:05 /usr/bin/python3 -m ipykernel_launcher -f /tmp/tmprybpmr0b.json\n",
      "u24333   1218194  0.4  0.0 3272332 98440 ?       Sl   18:36   0:56 /usr/bin/python3 -m sos_notebook.kernel -f /home/u24333/.local/share/jupyter/runtime/kernel-2f7d3e78-0ab0-4b55-ad45-a5a018f51212.json\n",
      "u24333   1218197  0.0  0.0 847396 66080 ?        Ssl  18:36   0:05 /usr/bin/python3 -m ipykernel_launcher -f /tmp/tmpnczbg9l_.json\n",
      "u24505   1218571  0.6  0.1 3714740 125288 ?      Ssl  18:38   1:19 /usr/bin/python3 -m sos_notebook.kernel -f /home/u24505/.local/share/jupyter/runtime/kernel-1458f811-348c-4e7c-95df-68ab3deed1d9.json\n",
      "u24505   1218658  0.4  0.0 3272348 97836 ?       Sl   18:38   0:55 /usr/bin/python3 -m sos_notebook.kernel -f /home/u24505/.local/share/jupyter/runtime/kernel-1458f811-348c-4e7c-95df-68ab3deed1d9.json\n",
      "u24505   1218661  0.0  0.0 752852 60268 ?        Ssl  18:38   0:05 /usr/bin/python3 -m ipykernel_launcher -f /tmp/tmpaaco_xsx.json\n",
      "u24505   1218694  0.0  0.0 670708 53812 ?        Ssl  18:39   0:05 /usr/bin/python3 -m bash_kernel -f /tmp/tmppr_4whg0.json\n",
      "u24505   1218709  0.0  0.0  17168  4912 pts/31   Ss+  18:39   0:00 /usr/bin/bash --rcfile /usr/lib/python3/dist-packages/pexpect/bashrc.sh\n",
      "u24285   1218993  0.4  0.0 3272312 98336 ?       Sl   18:44   0:53 /usr/bin/python3 -m sos_notebook.kernel -f /home/u24285/.local/share/jupyter/runtime/kernel-15366c5a-7277-48ce-85b4-41bdcb8940f8.json\n",
      "u24285   1218996  0.0  0.0 670708 53728 ?        Ssl  18:44   0:05 /usr/bin/python3 -m bash_kernel -f /tmp/tmpga9x2qpn.json\n",
      "u24285   1219011  0.0  0.0  17036  4716 pts/34   Ss+  18:44   0:00 /usr/bin/bash --rcfile /usr/lib/python3/dist-packages/pexpect/bashrc.sh\n",
      "u24285   1219116  0.0  0.0 844116 61960 ?        Ssl  18:45   0:05 /usr/bin/python3 -m ipykernel_launcher -f /tmp/tmp2_6l941p.json\n",
      "root     1220113  0.0  0.0      0     0 ?        I    19:00   0:00 [kworker/52:0]\n",
      "u24315   1222556  0.6  0.1 3716800 132320 ?      Ssl  19:04   1:12 /usr/bin/python3 -m sos_notebook.kernel -f /home/u24315/.local/share/jupyter/runtime/kernel-253264cf-6ed5-47e4-9cee-f065741a349f.json\n",
      "u24315   1222669  0.4  0.0 3272360 97960 ?       Sl   19:05   0:48 /usr/bin/python3 -m sos_notebook.kernel -f /home/u24315/.local/share/jupyter/runtime/kernel-253264cf-6ed5-47e4-9cee-f065741a349f.json\n",
      "u24315   1222673  0.0  0.0 673920 56972 ?        Ssl  19:05   0:06 /usr/bin/python3 -m bash_kernel -f /tmp/tmpxqherdcl.json\n",
      "u24315   1222787  0.0  0.0  17036  4844 pts/35   Ss+  19:05   0:00 /usr/bin/bash --rcfile /usr/lib/python3/dist-packages/pexpect/bashrc.sh\n",
      "u24584   1223254  0.6  0.1 3714764 126032 ?      Ssl  19:08   1:06 /usr/bin/python3 -m sos_notebook.kernel -f /home/u24584/.local/share/jupyter/runtime/kernel-5d55a236-dc5d-465f-9e4d-58ec90160752.json\n",
      "u24584   1223468  0.4  0.0 3272372 97980 ?       Sl   19:09   0:46 /usr/bin/python3 -m sos_notebook.kernel -f /home/u24584/.local/share/jupyter/runtime/kernel-5d55a236-dc5d-465f-9e4d-58ec90160752.json\n",
      "u24584   1223471  0.0  0.0 766116 75100 ?        Ssl  19:09   0:05 /usr/bin/python3 -m ipykernel_launcher -f /tmp/tmpw5x3g3pb.json\n",
      "u24584   1223490  0.0  0.0 670708 53728 ?        Ssl  19:09   0:04 /usr/bin/python3 -m bash_kernel -f /tmp/tmp9lo6v4oq.json\n",
      "u24584   1223505  0.0  0.0  17036  4884 pts/32   Ss+  19:09   0:00 /usr/bin/bash --rcfile /usr/lib/python3/dist-packages/pexpect/bashrc.sh\n",
      "u24315   1223724  0.0  0.0 753708 60300 ?        Ssl  19:11   0:04 /usr/bin/python3 -m ipykernel_launcher -f /tmp/tmpykrdsr4y.json\n",
      "pd       1223922  0.1  0.1 465792 151896 ?       Ssl  19:13   0:10 /usr/bin/python3 /usr/local/bin/jupyterhub-singleuser\n",
      "u24346   1228130  0.3  0.1 1204644 171500 ?      Ssl  19:27   0:35 /usr/bin/python3 /usr/local/bin/jupyterhub-singleuser\n",
      "u24346   1228177  0.5  0.1 3714848 125300 ?      Ssl  19:27   0:45 /usr/bin/python3 -m sos_notebook.kernel -f /home/u24346/.local/share/jupyter/runtime/kernel-74cc44da-383b-4b38-a120-d1b3b70ad66b.json\n",
      "u24346   1228180  0.6  0.1 3714660 126104 ?      Ssl  19:27   0:59 /usr/bin/python3 -m sos_notebook.kernel -f /home/u24346/.local/share/jupyter/runtime/kernel-14bed9e1-228a-4d30-816a-1ffb9f01f79c.json\n",
      "u24346   1228461  0.4  0.0 3272268 98028 ?       Sl   19:28   0:41 /usr/bin/python3 -m sos_notebook.kernel -f /home/u24346/.local/share/jupyter/runtime/kernel-14bed9e1-228a-4d30-816a-1ffb9f01f79c.json\n",
      "u24346   1228464  0.0  0.0 751668 60112 ?        Ssl  19:28   0:04 /usr/bin/python3 -m ipykernel_launcher -f /tmp/tmpos99vc31.json\n",
      "u24346   1228484  0.0  0.0 670708 54112 ?        Ssl  19:28   0:04 /usr/bin/python3 -m bash_kernel -f /tmp/tmpsnee8x13.json\n",
      "u24346   1228499  0.0  0.0  17036  4756 pts/36   Ss+  19:28   0:00 /usr/bin/bash --rcfile /usr/lib/python3/dist-packages/pexpect/bashrc.sh\n",
      "pd0      1228542  0.1  0.1 829780 153160 ?       Ssl  19:30   0:11 /usr/bin/python3 /usr/local/bin/jupyterhub-singleuser\n",
      "pd0      1228586  0.0  0.1 3444632 123960 ?      Ssl  19:30   0:07 /usr/bin/python3 -m sos_notebook.kernel -f /home/pd0/.local/share/jupyter/runtime/kernel-6d218dd2-a363-439d-b9ad-113ac7e12cba.json\n",
      "pd0      1228589  0.0  0.1 3444520 123808 ?      Ssl  19:30   0:07 /usr/bin/python3 -m sos_notebook.kernel -f /home/pd0/.local/share/jupyter/runtime/kernel-6eac2dc7-31eb-44d8-9d19-d1d11b3533f9.json\n",
      "os       1228787  0.0  0.1 825636 145508 ?       Ssl  19:31   0:06 /usr/bin/python3 /usr/local/bin/jupyterhub-singleuser\n",
      "os       1228842  0.0  0.1 3444576 123980 ?      Ssl  19:31   0:08 /usr/bin/python3 -m sos_notebook.kernel -f /home/os/.local/share/jupyter/runtime/kernel-304365ba-8fcd-4f0d-9120-b0e3b2c490ed.json\n",
      "os0      1228937  0.0  0.1 451864 136368 ?       Ssl  19:32   0:02 /usr/bin/python3 /usr/local/bin/jupyterhub-singleuser\n",
      "u24518   1230048  0.0  0.1 679816 145792 ?       Ssl  19:51   0:05 /usr/bin/python3 /usr/local/bin/jupyterhub-singleuser\n",
      "u24518   1230094  0.0  0.0 673520 53820 ?        Ssl  19:51   0:01 /usr/bin/python3 -m bash_kernel -f /home/u24518/.local/share/jupyter/runtime/kernel-f596d639-2e39-4890-b0f7-878780169e76.json\n",
      "u24518   1230108  0.0  0.0  17064  4880 pts/38   Ss+  19:51   0:00 /usr/bin/bash --rcfile /usr/lib/python3/dist-packages/pexpect/bashrc.sh\n",
      "u24518   1230113  0.0  0.1 3454052 124404 ?      Ssl  19:51   0:06 /usr/bin/python3 -m sos_notebook.kernel -f /home/u24518/.local/share/jupyter/runtime/kernel-51ba9fdc-79b5-45ad-8ea2-1fcb98f79816.json\n",
      "root     1230268  0.1  0.0      0     0 ?        I<   19:53   0:08 [kworker/u156:0-xprtiod]\n",
      "u24233   1230271  0.2  0.1 901412 149424 ?       Ssl  19:53   0:21 /usr/bin/python3 /usr/local/bin/jupyterhub-singleuser\n",
      "u24233   1230327  0.0  0.0  18388  6032 pts/37   Ss+  19:54   0:00 /bin/bash -l\n",
      "u24233   1230401  0.3  0.1 3714748 126320 ?      Ssl  19:54   0:29 /usr/bin/python3 -m sos_notebook.kernel -f /home/u24233/.local/share/jupyter/runtime/kernel-43db737b-f4e5-44ab-bb48-c3c2973954fb.json\n",
      "u24233   1230488  0.1  0.1 3444700 123740 ?      Ssl  19:54   0:08 /usr/bin/python3 -m sos_notebook.kernel -f /home/u24233/.local/share/jupyter/runtime/kernel-63e5a848-2ef3-4f54-9417-bde178d7b240.json\n",
      "root     1231692  0.0  0.0      0     0 ?        I    20:02   0:00 [kworker/46:1-mm_percpu_wq]\n",
      "u24346   1231853  0.4  0.0 3272456 97848 ?       Sl   20:05   0:31 /usr/bin/python3 -m sos_notebook.kernel -f /home/u24346/.local/share/jupyter/runtime/kernel-74cc44da-383b-4b38-a120-d1b3b70ad66b.json\n",
      "u24346   1231856  0.0  0.0 752700 59676 ?        Ssl  20:05   0:03 /usr/bin/python3 -m ipykernel_launcher -f /tmp/tmpxwdgn5mr.json\n",
      "u24346   1231875  0.0  0.0 670708 53676 ?        Ssl  20:05   0:03 /usr/bin/python3 -m bash_kernel -f /tmp/tmpw7h_cedw.json\n",
      "u24346   1231890  0.0  0.0  17036  4868 pts/39   Ss+  20:05   0:00 /usr/bin/bash --rcfile /usr/lib/python3/dist-packages/pexpect/bashrc.sh\n",
      "u24346   1232225  0.5  0.1 3714712 126188 ?      Ssl  20:10   0:35 /usr/bin/python3 -m sos_notebook.kernel -f /home/u24346/.local/share/jupyter/runtime/kernel-23306875-e8e5-4bea-b988-955b0cafd7c8.json\n",
      "pd0      1232470  0.1  0.1 3444644 123900 ?      Ssl  20:13   0:07 /usr/bin/python3 -m sos_notebook.kernel -f /home/pd0/.local/share/jupyter/runtime/kernel-24e3eda3-dcef-47f4-a928-a4124796ec2f.json\n",
      "u24209   1232715  0.4  0.0 3272372 98132 ?       Sl   20:16   0:28 /usr/bin/python3 -m sos_notebook.kernel -f /home/u24209/.local/share/jupyter/runtime/kernel-3a2b6dce-4659-48d2-bd64-d86e138e84ee.json\n",
      "u24209   1232716  0.0  0.0 670708 53820 ?        Ssl  20:16   0:02 /usr/bin/python3 -m bash_kernel -f /tmp/tmpz65e8oun.json\n",
      "u24209   1232733  0.0  0.0  17036  4848 pts/7    Ss+  20:16   0:00 /usr/bin/bash --rcfile /usr/lib/python3/dist-packages/pexpect/bashrc.sh\n",
      "u24209   1232872  0.0  0.0 842548 61580 ?        Ssl  20:19   0:03 /usr/bin/python3 -m ipykernel_launcher -f /tmp/tmplf241ztv.json\n",
      "u24605   1232924  0.1  0.1 750544 146084 ?       Ssl  20:19   0:10 /usr/bin/python3 /usr/local/bin/jupyterhub-singleuser\n",
      "u24605   1232970  0.6  0.1 3714620 126284 ?      Ssl  20:19   0:41 /usr/bin/python3 -m sos_notebook.kernel -f /home/u24605/.local/share/jupyter/runtime/kernel-3d0d4ec7-a4e8-47fb-8478-bb87d6e486a6.json\n",
      "u24605   1233345  0.4  0.0 3272228 98172 ?       Sl   20:21   0:25 /usr/bin/python3 -m sos_notebook.kernel -f /home/u24605/.local/share/jupyter/runtime/kernel-3d0d4ec7-a4e8-47fb-8478-bb87d6e486a6.json\n",
      "u24605   1233348  0.0  0.0 670704 53824 ?        Ssl  20:21   0:03 /usr/bin/python3 -m bash_kernel -f /tmp/tmpz9h1206a.json\n",
      "u24605   1233363  0.0  0.0  17036  4916 pts/40   Ss+  20:21   0:00 /usr/bin/bash --rcfile /usr/lib/python3/dist-packages/pexpect/bashrc.sh\n",
      "u24605   1233553  0.2  0.1 3464744 123852 ?      Ssl  20:25   0:15 /usr/bin/python3 -m ipykernel_launcher -f /tmp/tmp3aoxurip.json\n",
      "u24278   1233999  0.0  0.1 603328 147312 ?       Ssl  20:28   0:04 /usr/bin/python3 /usr/local/bin/jupyterhub-singleuser\n",
      "u24278   1234045  0.1  0.1 3444608 124024 ?      Ssl  20:28   0:08 /usr/bin/python3 -m sos_notebook.kernel -f /home/u24278/.local/share/jupyter/runtime/kernel-0d90888a-e1e3-4b79-ab3a-e58eddd28261.json\n",
      "u24346   1234684  0.4  0.0 3272320 97828 ?       Sl   20:41   0:20 /usr/bin/python3 -m sos_notebook.kernel -f /home/u24346/.local/share/jupyter/runtime/kernel-23306875-e8e5-4bea-b988-955b0cafd7c8.json\n",
      "u24346   1234687  0.2  0.0 3529284 113500 ?      Ssl  20:41   0:10 /usr/bin/python3 -m ipykernel_launcher -f /tmp/tmpnj8214xs.json\n",
      "u24346   1234705  0.0  0.0 670708 54248 ?        Ssl  20:41   0:02 /usr/bin/python3 -m bash_kernel -f /tmp/tmpy4bjlirf.json\n",
      "u24346   1234720  0.0  0.0  17632  5104 pts/41   Ss+  20:41   0:00 /usr/bin/bash --rcfile /usr/lib/python3/dist-packages/pexpect/bashrc.sh\n",
      "u24346   1235014  1.5  0.1 3714764 125864 ?      Ssl  20:44   1:10 /usr/bin/python3 -m sos_notebook.kernel -f /home/u24346/.local/share/jupyter/runtime/kernel-ba831f66-e749-41eb-b061-e0d10b22d815.json\n",
      "u24307   1235131  0.4  0.0 3272328 98096 ?       Sl   20:44   0:20 /usr/bin/python3 -m sos_notebook.kernel -f /home/u24307/.local/share/jupyter/runtime/kernel-0c1f39cd-2237-49bf-8522-9608b4845926.json\n",
      "u24307   1235134  0.0  0.0 670708 54088 ?        Ssl  20:44   0:02 /usr/bin/python3 -m bash_kernel -f /tmp/tmp_hfnqcu3.json\n",
      "u24307   1235149  0.0  0.0  17036  4820 pts/42   Ss+  20:44   0:00 /usr/bin/bash --rcfile /usr/lib/python3/dist-packages/pexpect/bashrc.sh\n",
      "u24346   1235585  0.4  0.0 3272372 97772 ?       Sl   20:57   0:17 /usr/bin/python3 -m sos_notebook.kernel -f /home/u24346/.local/share/jupyter/runtime/kernel-ba831f66-e749-41eb-b061-e0d10b22d815.json\n",
      "u24346   1235588  0.0  0.0 751812 60048 ?        Ssl  20:57   0:02 /usr/bin/python3 -m ipykernel_launcher -f /tmp/tmpbjib7asg.json\n",
      "u24346   1235607  0.0  0.0 670708 53796 ?        Ssl  20:57   0:02 /usr/bin/python3 -m bash_kernel -f /tmp/tmpi77rzia_.json\n",
      "u24346   1235622  0.0  0.0  17036  4856 pts/43   Ss+  20:57   0:00 /usr/bin/bash --rcfile /usr/lib/python3/dist-packages/pexpect/bashrc.sh\n",
      "u24233   1235762  0.4  0.0 3272356 98092 ?       Sl   21:02   0:15 /usr/bin/python3 -m sos_notebook.kernel -f /home/u24233/.local/share/jupyter/runtime/kernel-43db737b-f4e5-44ab-bb48-c3c2973954fb.json\n",
      "u24233   1235765  0.0  0.0 753836 59868 ?        Ssl  21:02   0:02 /usr/bin/python3 -m ipykernel_launcher -f /tmp/tmp18wptr9n.json\n",
      "u24233   1235784  0.0  0.0 670708 54060 ?        Ssl  21:02   0:02 /usr/bin/python3 -m bash_kernel -f /tmp/tmp_kna5n60.json\n",
      "u24233   1235802  0.0  0.0  17036  4788 pts/44   Ss+  21:02   0:00 /usr/bin/bash --rcfile /usr/lib/python3/dist-packages/pexpect/bashrc.sh\n",
      "u24307   1235912  0.0  0.0 772288 80676 ?        Ssl  21:04   0:02 /usr/bin/python3 -m ipykernel_launcher -f /tmp/tmp_ddx2wva.json\n",
      "u24346   1236172  0.0  0.0  18388  6232 pts/45   Ss   21:07   0:00 /bin/bash -l\n",
      "root     1236426  0.0  0.0      0     0 ?        I    21:10   0:00 [kworker/u153:1-writeback]\n",
      "u24346   1236499  0.7  0.0  21096  6492 pts/45   S+   21:11   0:22 top\n",
      "u24306   1236765  0.1  0.1 612192 146472 ?       Ssl  21:15   0:05 /usr/bin/python3 /usr/local/bin/jupyterhub-singleuser\n",
      "u24306   1236832  0.3  0.1 3444548 123920 ?      Ssl  21:16   0:08 /usr/bin/python3 -m sos_notebook.kernel -f /home/u24306/.local/share/jupyter/runtime/kernel-1ac35c57-2d4f-4c7c-91e3-cab707d8c290.json\n",
      "root     1237040  0.0  0.0      0     0 ?        I    21:18   0:00 [kworker/23:1-mm_percpu_wq]\n",
      "u24306   1237271  0.3  0.1 3444516 123612 ?      Ssl  21:20   0:07 /usr/bin/python3 -m sos_notebook.kernel -f /home/u24306/.local/share/jupyter/runtime/kernel-3ec705f9-a278-4f7c-b870-f8af52028540.json\n",
      "root     1237525  0.0  0.0      0     0 ?        I    21:21   0:00 [kworker/u154:0-events_unbound]\n",
      "root     1237623  0.0  0.0      0     0 ?        I    21:24   0:00 [kworker/23:0-events]\n",
      "u24307   1238358  0.4  0.0 3272448 98104 ?       Sl   21:38   0:05 /usr/bin/python3 -m sos_notebook.kernel -f /home/u24307/.local/share/jupyter/runtime/kernel-ac55223e-6cc9-48b5-b073-c2d3da4aff70.json\n",
      "u24307   1238361  0.0  0.0 670708 53924 ?        Ssl  21:38   0:00 /usr/bin/python3 -m bash_kernel -f /tmp/tmp75hfenmc.json\n",
      "u24307   1238376  0.0  0.0  17036  4864 pts/46   Ss+  21:38   0:00 /usr/bin/bash --rcfile /usr/lib/python3/dist-packages/pexpect/bashrc.sh\n",
      "u24307   1238435  0.0  0.0 843304 60996 ?        Ssl  21:40   0:01 /usr/bin/python3 -m ipykernel_launcher -f /tmp/tmpfirz0_md.json\n",
      "root     1238956  0.0  0.0      0     0 ?        I    21:44   0:00 [kworker/u154:2-rpciod]\n",
      "root     1238959  0.0  0.0      0     0 ?        I    21:44   0:00 [kworker/38:1-events]\n",
      "root     1239035  0.0  0.0      0     0 ?        I    21:46   0:00 [kworker/36:0-events]\n",
      "root     1239050  0.0  0.0      0     0 ?        I    21:47   0:00 [kworker/u153:2-rpciod]\n",
      "u24280   1239094  0.7  0.1 677604 149704 ?       Rsl  21:48   0:05 /usr/bin/python3 /usr/local/bin/jupyterhub-singleuser\n",
      "u24280   1239138  1.3  0.1 3477200 132460 ?      Rsl  21:48   0:10 /usr/bin/python3 -m sos_notebook.kernel -f /home/u24280/.local/share/jupyter/runtime/kernel-4e0818e3-aa70-497c-b9e3-2fd649735925.json\n",
      "u24280   1239277  1.1  0.1 3444572 123740 ?      Ssl  21:49   0:07 /usr/bin/python3 -m sos_notebook.kernel -f /home/u24280/.local/share/jupyter/runtime/kernel-425485e2-9cea-4a22-9bfa-9df3c9fb5fca.json\n",
      "u24280   1239393  1.3  0.1 3444580 123752 ?      Ssl  21:50   0:08 /usr/bin/python3 -m sos_notebook.kernel -f /home/u24280/.local/share/jupyter/runtime/kernel-6a5f6a49-4be3-493b-b290-a5d674ef8860.json\n",
      "root     1239568  0.0  0.0      0     0 ?        I    21:52   0:00 [kworker/36:1-events]\n",
      "root     1239660  0.0  0.0      0     0 ?        I    21:53   0:00 [kworker/39:2-events]\n",
      "u24316   1239720  1.8  0.1 1047668 159084 ?      Ssl  21:54   0:06 /usr/bin/python3 /usr/local/bin/jupyterhub-singleuser\n",
      "u24316   1239789  1.8  0.1 3444584 123376 ?      Ssl  21:54   0:06 /usr/bin/python3 -m sos_notebook.kernel -f /home/u24316/.local/share/jupyter/runtime/kernel-ac75adf7-e235-4ffb-8fda-a4ac743361bd.json\n",
      "u24316   1239792  3.1  0.1 3714716 125812 ?      Ssl  21:54   0:11 /usr/bin/python3 -m sos_notebook.kernel -f /home/u24316/.local/share/jupyter/runtime/kernel-9db41d61-37a9-49a7-bc7e-75079af480fc.json\n",
      "u24316   1239993  0.4  0.0 3272324 97784 ?       Sl   21:54   0:01 /usr/bin/python3 -m sos_notebook.kernel -f /home/u24316/.local/share/jupyter/runtime/kernel-9db41d61-37a9-49a7-bc7e-75079af480fc.json\n",
      "u24316   1239996  0.2  0.0 751672 60056 ?        Ssl  21:54   0:00 /usr/bin/python3 -m ipykernel_launcher -f /tmp/tmp7wakqcrl.json\n",
      "u24280   1240020  0.4  0.0 3272396 97852 ?       Sl   21:54   0:01 /usr/bin/python3 -m sos_notebook.kernel -f /home/u24280/.local/share/jupyter/runtime/kernel-4e0818e3-aa70-497c-b9e3-2fd649735925.json\n",
      "u24280   1240023  0.3  0.0 672756 54972 ?        Rsl  21:54   0:01 /usr/bin/python3 -m bash_kernel -f /tmp/tmpoc8ynu1l.json\n",
      "u24280   1240038  0.0  0.0  17036  4836 pts/47   Ss   21:54   0:00 /usr/bin/bash --rcfile /usr/lib/python3/dist-packages/pexpect/bashrc.sh\n",
      "u24316   1240041  0.3  0.0 670708 54016 ?        Ssl  21:54   0:01 /usr/bin/python3 -m bash_kernel -f /tmp/tmpvzmfkqsx.json\n",
      "u24316   1240056  0.0  0.0  17036  4868 pts/48   Ss+  21:54   0:00 /usr/bin/bash --rcfile /usr/lib/python3/dist-packages/pexpect/bashrc.sh\n",
      "root     1240090  0.0  0.0      0     0 ?        I    21:55   0:00 [kworker/u154:1-events_unbound]\n",
      "root     1240330  0.0  0.0      0     0 ?        I    21:57   0:00 [kworker/36:2-events]\n",
      "root     1240367  0.0  0.0      0     0 ?        I    21:57   0:00 [kworker/u153:0-nfsiod]\n",
      "tau      1240805  0.0  0.0   5772   992 pts/4    S+   21:59   0:00 sleep 60\n",
      "u24316   1240860  785  0.1 3368676 122608 ?      Rsl  22:00   0:07 /usr/bin/python3 -m sos_notebook.kernel -f /tmp/tmpz29w_bw3.json\n",
      "u24280   1240943  0.0  0.0  19604  3912 pts/47   R+   22:00   0:00 ps auxww\n",
      "root     2411817  0.0  0.0      0     0 ?        I    Oct07   0:03 [kworker/31:2-cgroup_destroy]\n",
      "root     2464122  0.0  0.0      0     0 ?        I    Oct07   0:21 [kworker/9:0-mm_percpu_wq]\n",
      "root     2622195  0.0  0.0      0     0 ?        I    Oct09   0:14 [kworker/31:0-mm_percpu_wq]\n",
      "tau      3825329  0.0  0.0   7372  3848 pts/4    S+   Oct09   0:57 /bin/bash ./kill_orphans.sh\n",
      "tau      3825922  0.0  0.0   7372  3472 pts/2    S+   Oct09   0:00 /bin/bash -x ./run_hub\n",
      "root     3825923  0.0  0.0  52480 11332 pts/2    S+   Oct09   0:00 sudo FQDN=taulec.zapto.org jupyterhub -f ../jupyterhub_config.py\n",
      "root     3825926  0.0  0.0  52480  3640 pts/0    Ss   Oct09   0:00 sudo FQDN=taulec.zapto.org jupyterhub -f ../jupyterhub_config.py\n",
      "root     3825927  0.1  0.0 272112 111300 pts/0   Sl+  Oct09  27:45 /usr/bin/python3 /usr/local/bin/jupyterhub -f ../jupyterhub_config.py\n",
      "root     3825930  0.3  0.1 761760 219936 ?       Ssl  Oct09  56:57 node /usr/local/bin/configurable-http-proxy --ip  --port 8000 --api-ip 127.0.0.1 --api-port 8001 --error-target http://127.0.0.1:8081/hub/error --log-level info --ssl-key /etc/pki/tls/certs/taulec.zapto.org/taulec.zapto.org.key --ssl-cert /etc/pki/tls/certs/taulec.zapto.org/taulec.zapto.org.crt\n",
      "root     3825937  0.0  0.0 166116 31964 ?        Ssl  Oct09   0:04 /usr/bin/python3 -m jupyterhub_idle_culler --timeout=14400 --cull-users\n",
      "root     3933685  0.0  0.0      0     0 ?        I    Oct10   0:00 [kworker/9:2-rcu_par_gp]\n",
      "root     3960313  0.0  0.0      0     0 ?        I<   Oct10   0:02 [kworker/u157:2-xprtiod]\n",
      "root     3964324  0.0  0.0      0     0 ?        I    Oct10   0:02 [kworker/8:1-events]\n"
     ]
    }
   ],
   "source": [
    "ps auxww"
   ]
  },
  {
   "cell_type": "markdown",
   "metadata": {
    "deletable": false,
    "editable": false,
    "kernel": "SoS",
    "nbgrader": {
     "cell_type": "markdown",
     "checksum": "0e17efdaedc03bd9bfcba14ef7b8d6da",
     "grade": false,
     "grade_id": "c-007",
     "locked": true,
     "schema_version": 3,
     "solution": false,
     "task": false
    }
   },
   "source": [
    "\n",
    "# 2. fork\n",
    "* forkはUnixでプロセスを生成する手段\n",
    "* プロセスを生成 = (例えば実行するファイルを指定して)プログラムを起動するということかと思いきやそうではなく, forkは何の引数もとらず, 呼び出したプロセスのコピーを作るというもの\n",
    "* 以下は全く役に立たないが, ともかくforkが何をするシステムコールかを教えてくれるプログラム\n",
    "\n",
    "* OSのシステムコールは特定のプログラミング言語には依存していない\n",
    "* そこで意味がある場合, なるべく同じことをPythonとCの両方で示すことにする\n",
    "\n",
    "## 2-1. C"
   ]
  },
  {
   "cell_type": "code",
   "execution_count": 3,
   "metadata": {
    "kernel": "Python 3 (ipykernel)",
    "nbgrader": {
     "grade": false,
     "grade_id": "c-008",
     "locked": false,
     "schema_version": 3,
     "solution": false,
     "task": false
    }
   },
   "outputs": [
    {
     "name": "stdout",
     "output_type": "stream",
     "text": [
      "Overwriting fork.c\n"
     ]
    }
   ],
   "source": [
    "%%writefile fork.c\n",
    "#include <stdio.h>\n",
    "#include <unistd.h>\n",
    "\n",
    "int main() {\n",
    "  printf(\"%d : before fork\\n\", getpid());\n",
    "  fflush(stdout);\n",
    "  fork();           /* 現プロセスをコピー */\n",
    "  printf(\"%d : after fork\\n\", getpid());\n",
    "  return 0;\n",
    "}"
   ]
  },
  {
   "cell_type": "code",
   "execution_count": 4,
   "metadata": {
    "kernel": "Bash",
    "nbgrader": {
     "grade": false,
     "grade_id": "c-009",
     "locked": false,
     "schema_version": 3,
     "solution": false,
     "task": false
    }
   },
   "outputs": [],
   "source": [
    "gcc -Wall fork.c -o fork"
   ]
  },
  {
   "cell_type": "code",
   "execution_count": 5,
   "metadata": {
    "kernel": "Bash",
    "nbgrader": {
     "grade": false,
     "grade_id": "c-010",
     "locked": false,
     "schema_version": 3,
     "solution": false,
     "task": false
    }
   },
   "outputs": [
    {
     "name": "stdout",
     "output_type": "stream",
     "text": [
      "1241030 : before fork\n",
      "1241030 : after fork\n",
      "1241031 : after fork\n"
     ]
    }
   ],
   "source": [
    "./fork"
   ]
  },
  {
   "cell_type": "markdown",
   "metadata": {
    "deletable": false,
    "editable": false,
    "kernel": "SoS",
    "nbgrader": {
     "cell_type": "markdown",
     "checksum": "f9954761bf5608e6c9cf6e72ede96f4e",
     "grade": false,
     "grade_id": "c-011",
     "locked": true,
     "schema_version": 3,
     "solution": false,
     "task": false
    }
   },
   "source": [
    "## 2-2. Python"
   ]
  },
  {
   "cell_type": "code",
   "execution_count": 6,
   "metadata": {
    "kernel": "Python 3 (ipykernel)",
    "nbgrader": {
     "grade": false,
     "grade_id": "c-012",
     "locked": false,
     "schema_version": 3,
     "solution": false,
     "task": false
    }
   },
   "outputs": [
    {
     "name": "stdout",
     "output_type": "stream",
     "text": [
      "Overwriting fork.py\n"
     ]
    }
   ],
   "source": [
    "%%writefile fork.py\n",
    "import os\n",
    "\n",
    "print(f\"{os.getpid()} : before fork\", flush=True)\n",
    "os.fork()\n",
    "print(f\"{os.getpid()} : after fork\")"
   ]
  },
  {
   "cell_type": "code",
   "execution_count": 7,
   "metadata": {
    "kernel": "Bash",
    "nbgrader": {
     "grade": false,
     "grade_id": "c-013",
     "locked": false,
     "schema_version": 3,
     "solution": false,
     "task": false
    }
   },
   "outputs": [
    {
     "name": "stdout",
     "output_type": "stream",
     "text": [
      "1241032 : before fork\n",
      "1241032 : after fork\n",
      "1241033 : after fork\n"
     ]
    }
   ],
   "source": [
    "# 何も表示されない場合, もう一度実行せよ (Jupyter環境の不具合)\n",
    "python3 fork.py"
   ]
  },
  {
   "cell_type": "markdown",
   "metadata": {
    "deletable": false,
    "editable": false,
    "kernel": "SoS",
    "nbgrader": {
     "cell_type": "markdown",
     "checksum": "67f38ea11e937bade5aa12ea1d65852c",
     "grade": false,
     "grade_id": "c-014",
     "locked": true,
     "schema_version": 3,
     "solution": false,
     "task": false
    }
   },
   "source": [
    "# 3. 親と子で違う動作をする例\n",
    "* forkを使うもう少し完結した例\n",
    "* 親と子で違う動作をする\n",
    "\n",
    "## 3-1. C"
   ]
  },
  {
   "cell_type": "code",
   "execution_count": 8,
   "metadata": {
    "kernel": "Python 3 (ipykernel)",
    "nbgrader": {
     "grade": false,
     "grade_id": "c-015",
     "locked": false,
     "schema_version": 3,
     "solution": false,
     "task": false
    }
   },
   "outputs": [
    {
     "name": "stdout",
     "output_type": "stream",
     "text": [
      "Overwriting fork_pc.c\n"
     ]
    }
   ],
   "source": [
    "%%writefile fork_pc.c\n",
    "#include <err.h>\n",
    "#include <stdio.h>\n",
    "#include <stdlib.h>\n",
    "#include <unistd.h>\n",
    "\n",
    "int main() {\n",
    "  pid_t pid = fork();           /* 現プロセスをコピー */\n",
    "  if (pid == -1) {\n",
    "    err(1, \"fork\");\n",
    "  } else if (pid == 0) {        /* 新しいプロセス(子プロセス) */\n",
    "    for (int i = 0; i < 5; i++) {\n",
    "      printf(\"child  %d: %d\\n\", getpid(), i);\n",
    "      fflush(stdout);\n",
    "      usleep(100 * 1000);\n",
    "    }\n",
    "  } else {                      /* 元いたプロセス(親プロセス)\n",
    "                                   forkの返り値は子プロセスのプロセスID */\n",
    "    for (int i = 0; i < 5; i++) {\n",
    "      printf(\"parent %d: %d\\n\", getpid(), i);\n",
    "      fflush(stdout);\n",
    "      usleep(100 * 1000);\n",
    "    }\n",
    "  }\n",
    "  return 0;\n",
    "}"
   ]
  },
  {
   "cell_type": "code",
   "execution_count": 9,
   "metadata": {
    "kernel": "Bash",
    "nbgrader": {
     "grade": false,
     "grade_id": "c-016",
     "locked": false,
     "schema_version": 3,
     "solution": false,
     "task": false
    }
   },
   "outputs": [],
   "source": [
    "gcc -Wall fork_pc.c -o fork_pc"
   ]
  },
  {
   "cell_type": "code",
   "execution_count": 10,
   "metadata": {
    "kernel": "Bash",
    "nbgrader": {
     "grade": false,
     "grade_id": "c-017",
     "locked": false,
     "schema_version": 3,
     "solution": false,
     "task": false
    }
   },
   "outputs": [
    {
     "name": "stdout",
     "output_type": "stream",
     "text": [
      "parent 1241043: 0\n",
      "child  1241044: 0\n",
      "parent 1241043: 1\n",
      "child  1241044: 1\n",
      "parent 1241043: 2\n",
      "child  1241044: 2\n",
      "parent 1241043: 3\n",
      "child  1241044: 3\n",
      "parent 1241043: 4\n",
      "child  1241044: 4\n"
     ]
    }
   ],
   "source": [
    "./fork_pc"
   ]
  },
  {
   "cell_type": "markdown",
   "metadata": {
    "deletable": false,
    "editable": false,
    "kernel": "SoS",
    "nbgrader": {
     "cell_type": "markdown",
     "checksum": "e5762b97f7f47b35b6e5071251bf8f44",
     "grade": false,
     "grade_id": "c-018",
     "locked": true,
     "schema_version": 3,
     "solution": false,
     "task": false
    }
   },
   "source": [
    "## 3-2. Python"
   ]
  },
  {
   "cell_type": "code",
   "execution_count": 11,
   "metadata": {
    "kernel": "Python 3 (ipykernel)",
    "nbgrader": {
     "grade": false,
     "grade_id": "c-019",
     "locked": false,
     "schema_version": 3,
     "solution": false,
     "task": false
    }
   },
   "outputs": [
    {
     "name": "stdout",
     "output_type": "stream",
     "text": [
      "Writing fork_pc.py\n"
     ]
    }
   ],
   "source": [
    "%%writefile fork_pc.py\n",
    "import os\n",
    "import time\n",
    "\n",
    "pid = os.fork()\n",
    "if pid == 0:\n",
    "    # 新しいプロセス(子プロセス)\n",
    "    for i in range(5):\n",
    "        print(f\"child  {os.getpid()}: {i}\", flush=True)\n",
    "        time.sleep(0.1)\n",
    "else:\n",
    "    # 元いたプロセス(親プロセス) forkの返り値は子プロセスのプロセスID\n",
    "    for i in range(5):\n",
    "        print(f\"parent {os.getpid()}: {i}\", flush=True)\n",
    "        time.sleep(0.1)"
   ]
  },
  {
   "cell_type": "code",
   "execution_count": 12,
   "metadata": {
    "kernel": "Bash",
    "nbgrader": {
     "grade": false,
     "grade_id": "c-020",
     "locked": false,
     "schema_version": 3,
     "solution": false,
     "task": false
    }
   },
   "outputs": [
    {
     "name": "stdout",
     "output_type": "stream",
     "text": [
      "parent 1241045: 0\n",
      "child  1241046: 0\n",
      "parent 1241045: 1\n",
      "child  1241046: 1\n",
      "parent 1241045: 2\n",
      "child  1241046: 2\n",
      "parent 1241045: 3\n",
      "child  1241046: 3\n",
      "parent 1241045: 4\n",
      "child  1241046: 4\n"
     ]
    }
   ],
   "source": [
    "python3 fork_pc.py"
   ]
  },
  {
   "cell_type": "markdown",
   "metadata": {
    "deletable": false,
    "editable": false,
    "kernel": "SoS",
    "nbgrader": {
     "cell_type": "markdown",
     "checksum": "fbbcac6997fa7009e589939a9e8c6276",
     "grade": false,
     "grade_id": "c-021",
     "locked": true,
     "schema_version": 3,
     "solution": false,
     "task": false
    }
   },
   "source": [
    "# 4. wait\n",
    "* forkを使うさらにまともな例\n",
    "* 親が子のwait処理をする\n",
    "\n",
    "## 4-1. C"
   ]
  },
  {
   "cell_type": "code",
   "execution_count": 13,
   "metadata": {
    "kernel": "Python 3 (ipykernel)",
    "nbgrader": {
     "grade": false,
     "grade_id": "c-022",
     "locked": false,
     "schema_version": 3,
     "solution": false,
     "task": false
    }
   },
   "outputs": [
    {
     "name": "stdout",
     "output_type": "stream",
     "text": [
      "Writing fork_wait.c\n"
     ]
    }
   ],
   "source": [
    "%%writefile fork_wait.c\n",
    "#include <err.h>\n",
    "#include <stdio.h>\n",
    "#include <stdlib.h>\n",
    "#include <unistd.h>\n",
    "#include <sys/types.h>\n",
    "#include <sys/wait.h>\n",
    "\n",
    "int main() {\n",
    "  pid_t pid = fork();\n",
    "  if (pid == -1) {\n",
    "    err(1, \"fork\");\n",
    "  } else if (pid == 0) {          /* child */\n",
    "    for (int i = 0; i < 5; i++) {\n",
    "      printf(\"%d: %d\\n\", getpid(), i);\n",
    "      fflush(stdout);\n",
    "      usleep(100 * 1000);\n",
    "    }\n",
    "    return 123;\n",
    "  } else {\n",
    "    int ws;\n",
    "    printf(\"parent: wait for child (pid = %d) to finish\\n\", pid);\n",
    "    fflush(stdout);\n",
    "    pid_t cid = waitpid(pid, &ws, 0);\n",
    "    if (cid == -1) err(1, \"waitpid\");\n",
    "    if (WIFEXITED(ws)) {\n",
    "      printf(\"exited, status=%d\\n\", WEXITSTATUS(ws));\n",
    "      fflush(stdout);\n",
    "    } else if (WIFSIGNALED(ws)) {\n",
    "      printf(\"killed by signal %d\\n\", WTERMSIG(ws));\n",
    "      fflush(stdout);\n",
    "    }\n",
    "  }\n",
    "  return 0;\n",
    "}"
   ]
  },
  {
   "cell_type": "code",
   "execution_count": 14,
   "metadata": {
    "kernel": "Bash",
    "nbgrader": {
     "grade": false,
     "grade_id": "c-023",
     "locked": false,
     "schema_version": 3,
     "solution": false,
     "task": false
    }
   },
   "outputs": [],
   "source": [
    "gcc -Wall fork_wait.c -o fork_wait"
   ]
  },
  {
   "cell_type": "code",
   "execution_count": 15,
   "metadata": {
    "kernel": "Bash",
    "nbgrader": {
     "grade": false,
     "grade_id": "c-024",
     "locked": false,
     "schema_version": 3,
     "solution": false,
     "task": false
    }
   },
   "outputs": [
    {
     "name": "stdout",
     "output_type": "stream",
     "text": [
      "1241057: 0\n",
      "parent: wait for child (pid = 1241057) to finish\n",
      "1241057: 1\n",
      "1241057: 2\n",
      "1241057: 3\n",
      "1241057: 4\n",
      "exited, status=123\n"
     ]
    }
   ],
   "source": [
    "./fork_wait"
   ]
  },
  {
   "cell_type": "markdown",
   "metadata": {
    "deletable": false,
    "editable": false,
    "kernel": "SoS",
    "nbgrader": {
     "cell_type": "markdown",
     "checksum": "e95c358f547632d3e617bd486e77c331",
     "grade": false,
     "grade_id": "c-025",
     "locked": true,
     "schema_version": 3,
     "solution": false,
     "task": false
    }
   },
   "source": [
    "## 4-2. Python"
   ]
  },
  {
   "cell_type": "code",
   "execution_count": 16,
   "metadata": {
    "kernel": "Python 3 (ipykernel)",
    "nbgrader": {
     "grade": false,
     "grade_id": "c-026",
     "locked": false,
     "schema_version": 3,
     "solution": false,
     "task": false
    }
   },
   "outputs": [
    {
     "name": "stdout",
     "output_type": "stream",
     "text": [
      "Writing fork_wait.py\n"
     ]
    }
   ],
   "source": [
    "%%writefile fork_wait.py\n",
    "import os\n",
    "import time\n",
    "\n",
    "pid = os.fork()\n",
    "if pid == 0:\n",
    "    # 新しいプロセス(子プロセス)\n",
    "    for i in range(5):\n",
    "        print(f\"child  {os.getpid()}: {i}\", flush=True)\n",
    "        time.sleep(0.1)\n",
    "else:\n",
    "    # 元いたプロセス(親プロセス) forkの返り値は子プロセスのプロセスID\n",
    "    print(f\"parent: wait for child (pid = {pid}) to finish\", flush=True)\n",
    "    cid, ws = os.waitpid(pid, 0)\n",
    "    if os.WIFEXITED(ws):\n",
    "        print(f\"exited, status={os.WEXITSTATUS(ws)}\", flush=True)\n",
    "    elif os.WIFSIGNALED(ws):\n",
    "        print(f\"killed by signal {os.WTERMSIG(ws)}\", flush=True)\n"
   ]
  },
  {
   "cell_type": "code",
   "execution_count": 17,
   "metadata": {
    "kernel": "Bash",
    "nbgrader": {
     "grade": false,
     "grade_id": "c-027",
     "locked": false,
     "schema_version": 3,
     "solution": false,
     "task": false
    }
   },
   "outputs": [
    {
     "name": "stdout",
     "output_type": "stream",
     "text": [
      "parent: wait for child (pid = 1241060) to finish\n",
      "child  1241060: 0\n",
      "child  1241060: 1\n",
      "child  1241060: 2\n",
      "child  1241060: 3\n",
      "child  1241060: 4\n",
      "exited, status=0\n"
     ]
    }
   ],
   "source": [
    "python3 fork_wait.py"
   ]
  },
  {
   "cell_type": "markdown",
   "metadata": {
    "deletable": false,
    "editable": false,
    "kernel": "SoS",
    "nbgrader": {
     "cell_type": "markdown",
     "checksum": "2effcc5555c43a1373af3dfa43448d0c",
     "grade": false,
     "grade_id": "c-028",
     "locked": true,
     "schema_version": 3,
     "solution": false,
     "task": false
    }
   },
   "source": [
    "# 5. exec"
   ]
  },
  {
   "cell_type": "markdown",
   "metadata": {
    "deletable": false,
    "editable": false,
    "kernel": "SoS",
    "nbgrader": {
     "cell_type": "markdown",
     "checksum": "9c71aff2490ee518583fb8f5089b0a16",
     "grade": false,
     "grade_id": "c-029",
     "locked": true,
     "schema_version": 3,
     "solution": false,
     "task": false
    }
   },
   "source": [
    "* execは指定したプログラムを実行するシステムコール\n",
    "* 呼び出したプロセスをそのまま, 指定したプログラムを先頭から実行するものに「変える」というイメージ\n",
    "* execがプロセスを生成するのではないので注意\n",
    "* execはあくまで呼び出したプロセスを, これまでのことをすべて忘れて所定のことをするプロセスに「変身させる」\n",
    "* なお, execという名のシステムコールが実在するのではなく, execv, execveなど色々な変種の総称\n",
    "* 以下は ls -l を実行するプロセスを作るプログラム\n",
    "\n",
    "## 5-1. C"
   ]
  },
  {
   "cell_type": "code",
   "execution_count": 18,
   "metadata": {
    "kernel": "Python 3 (ipykernel)",
    "nbgrader": {
     "grade": false,
     "grade_id": "c-030",
     "locked": false,
     "schema_version": 3,
     "solution": false,
     "task": false
    }
   },
   "outputs": [
    {
     "name": "stdout",
     "output_type": "stream",
     "text": [
      "Writing fork_execv.c\n"
     ]
    }
   ],
   "source": [
    "%%writefile fork_execv.c\n",
    "#include <err.h>\n",
    "#include <stdio.h>\n",
    "#include <stdlib.h>\n",
    "#include <unistd.h>\n",
    "#include <sys/types.h>\n",
    "#include <sys/wait.h>\n",
    "\n",
    "extern char ** environ;\n",
    "\n",
    "int main() {\n",
    "  pid_t pid = fork();           /* 現プロセスをコピー */\n",
    "  if (pid == -1) {\n",
    "    err(1, \"fork\");\n",
    "  } else if (pid == 0) {        /* 新しいプロセス(子プロセス) */\n",
    "    char * const argv[] = { \"/bin/ls\", \"-l\", 0 };\n",
    "    execv(argv[0], argv);\n",
    "    /* 成功すればexecveはリターンしない.\n",
    "       i.e., リターンしたらエラー */\n",
    "    err(1, \"execve\");\n",
    "  } else {\n",
    "    int ws;\n",
    "    pid_t cid = waitpid(pid, &ws, 0);\n",
    "    if (cid == -1) err(1, \"waitpid\");\n",
    "    if (WIFEXITED(ws)) {\n",
    "      printf(\"exited, status=%d\\n\", WEXITSTATUS(ws));\n",
    "      fflush(stdout);\n",
    "    } else if (WIFSIGNALED(ws)) {\n",
    "      printf(\"killed by signal %d\\n\", WTERMSIG(ws));\n",
    "      fflush(stdout);\n",
    "    }\n",
    "  }\n",
    "  return 0;\n",
    "}"
   ]
  },
  {
   "cell_type": "code",
   "execution_count": 19,
   "metadata": {
    "kernel": "Bash",
    "nbgrader": {
     "grade": false,
     "grade_id": "c-031",
     "locked": false,
     "schema_version": 3,
     "solution": false,
     "task": false
    }
   },
   "outputs": [],
   "source": [
    "gcc -Wall fork_execv.c -o fork_execv"
   ]
  },
  {
   "cell_type": "code",
   "execution_count": 20,
   "metadata": {
    "kernel": "Bash",
    "nbgrader": {
     "grade": false,
     "grade_id": "c-032",
     "locked": false,
     "schema_version": 3,
     "solution": false,
     "task": false
    }
   },
   "outputs": [
    {
     "name": "stdout",
     "output_type": "stream",
     "text": [
      "total 140\n",
      "-rwxr-xr-x 1 u24280 u24280 16128 Oct 19 22:01 fork\n",
      "-rw-r--r-- 1 u24280 u24280   222 Oct 19 22:00 fork.c\n",
      "-rwxr-xr-x 1 u24280 u24280 16272 Oct 19 22:01 fork_execv\n",
      "-rw-r--r-- 1 u24280 u24280   874 Oct 19 22:01 fork_execv.c\n",
      "-rwxr-xr-x 1 u24280 u24280 16216 Oct 19 22:01 fork_pc\n",
      "-rw-r--r-- 1 u24280 u24280   722 Oct 19 22:01 fork_pc.c\n",
      "-rw-r--r-- 1 u24280 u24280   406 Oct 19 22:01 fork_pc.py\n",
      "-rw-r--r-- 1 u24280 u24280   108 Oct 19 22:01 fork.py\n",
      "-rwxr-xr-x 1 u24280 u24280 16312 Oct 19 22:01 fork_wait\n",
      "-rw-r--r-- 1 u24280 u24280   804 Oct 19 22:01 fork_wait.c\n",
      "-rw-r--r-- 1 u24280 u24280   594 Oct 19 22:01 fork_wait.py\n",
      "-rw-r--r-- 1 u24280 u24280 48643 Oct 19 21:55 os02_process.sos.ipynb\n",
      "exited, status=0\n"
     ]
    }
   ],
   "source": [
    "./fork_execv"
   ]
  },
  {
   "cell_type": "markdown",
   "metadata": {
    "deletable": false,
    "editable": false,
    "kernel": "SoS",
    "nbgrader": {
     "cell_type": "markdown",
     "checksum": "fba9fe5f654528472a31994aa958ed2e",
     "grade": false,
     "grade_id": "c-033",
     "locked": true,
     "schema_version": 3,
     "solution": false,
     "task": false
    }
   },
   "source": [
    "## 5-2. Python"
   ]
  },
  {
   "cell_type": "code",
   "execution_count": 21,
   "metadata": {
    "kernel": "Python 3 (ipykernel)",
    "nbgrader": {
     "grade": false,
     "grade_id": "c-034",
     "locked": false,
     "schema_version": 3,
     "solution": false,
     "task": false
    }
   },
   "outputs": [
    {
     "name": "stdout",
     "output_type": "stream",
     "text": [
      "Writing fork_execv.py\n"
     ]
    }
   ],
   "source": [
    "%%writefile fork_execv.py\n",
    "import os\n",
    "\n",
    "pid = os.fork()\n",
    "if pid == 0:                    # 新しいプロセス(子プロセス)\n",
    "    argv = [ \"/bin/ls\", \"-l\" ]\n",
    "    os.execv(argv[0], argv)\n",
    "else:\n",
    "    cid, ws = os.waitpid(pid, 0)\n",
    "    if os.WIFEXITED(ws):\n",
    "        print(f\"exited, status={os.WEXITSTATUS(ws)}\", flush=True)\n",
    "    elif os.WIFSIGNALED(ws):\n",
    "        print(f\"killed by signal {os.WTERMSIG(ws)}\", flush=True)"
   ]
  },
  {
   "cell_type": "code",
   "execution_count": 22,
   "metadata": {
    "kernel": "Bash",
    "nbgrader": {
     "grade": false,
     "grade_id": "c-035",
     "locked": false,
     "schema_version": 3,
     "solution": false,
     "task": false
    }
   },
   "outputs": [
    {
     "name": "stdout",
     "output_type": "stream",
     "text": [
      "total 144\n",
      "-rwxr-xr-x 1 u24280 u24280 16128 Oct 19 22:01 fork\n",
      "-rw-r--r-- 1 u24280 u24280   222 Oct 19 22:00 fork.c\n",
      "-rwxr-xr-x 1 u24280 u24280 16272 Oct 19 22:01 fork_execv\n",
      "-rw-r--r-- 1 u24280 u24280   874 Oct 19 22:01 fork_execv.c\n",
      "-rw-r--r-- 1 u24280 u24280   383 Oct 19 22:01 fork_execv.py\n",
      "-rwxr-xr-x 1 u24280 u24280 16216 Oct 19 22:01 fork_pc\n",
      "-rw-r--r-- 1 u24280 u24280   722 Oct 19 22:01 fork_pc.c\n",
      "-rw-r--r-- 1 u24280 u24280   406 Oct 19 22:01 fork_pc.py\n",
      "-rw-r--r-- 1 u24280 u24280   108 Oct 19 22:01 fork.py\n",
      "-rwxr-xr-x 1 u24280 u24280 16312 Oct 19 22:01 fork_wait\n",
      "-rw-r--r-- 1 u24280 u24280   804 Oct 19 22:01 fork_wait.c\n",
      "-rw-r--r-- 1 u24280 u24280   594 Oct 19 22:01 fork_wait.py\n",
      "-rw-r--r-- 1 u24280 u24280 48643 Oct 19 21:55 os02_process.sos.ipynb\n",
      "exited, status=0\n"
     ]
    }
   ],
   "source": [
    "python3 fork_execv.py"
   ]
  },
  {
   "cell_type": "markdown",
   "metadata": {
    "deletable": false,
    "editable": false,
    "kernel": "SoS",
    "nbgrader": {
     "cell_type": "markdown",
     "checksum": "0a32e25491f0f82358510c3d2870bcb8",
     "grade": false,
     "grade_id": "c-036",
     "locked": true,
     "schema_version": 3,
     "solution": false,
     "task": false
    }
   },
   "source": [
    "# 6. execvp\n",
    "* execv関数では実行したいコマンド(ls)のファイル名(/bin/ls)を指定しなくてはならない\n",
    "* 普段シェルでコマンドを実行する際は ls と打つだけで実行できているのは, シェルがPATHという環境変数を見てコマンドを探してくれているから\n",
    "* 以下でPATHという環境変数の中身が表示できる"
   ]
  },
  {
   "cell_type": "code",
   "execution_count": 23,
   "metadata": {
    "kernel": "Bash",
    "nbgrader": {
     "grade": false,
     "grade_id": "c-037",
     "locked": false,
     "schema_version": 3,
     "solution": false,
     "task": false
    }
   },
   "outputs": [
    {
     "name": "stdout",
     "output_type": "stream",
     "text": [
      "/usr/local/sbin:/usr/local/bin:/usr/sbin:/usr/bin:/sbin:/bin:/snap/bin\n"
     ]
    }
   ],
   "source": [
    "echo $PATH"
   ]
  },
  {
   "cell_type": "markdown",
   "metadata": {
    "deletable": false,
    "editable": false,
    "kernel": "SoS",
    "nbgrader": {
     "cell_type": "markdown",
     "checksum": "28c0ea6bb9bdddc9bd447e98c56c5572",
     "grade": false,
     "grade_id": "c-038",
     "locked": true,
     "schema_version": 3,
     "solution": false,
     "task": false
    }
   },
   "source": [
    "\n",
    "* シェルは, PATHに指定されているディレクトリを順に見ていって, lsという名前のファイルが見つかったらそれを実行する\n",
    "* 同じことはexecの変種 execvp という関数を呼べばやってくれる\n",
    "\n",
    "## 6-1. C"
   ]
  },
  {
   "cell_type": "code",
   "execution_count": 24,
   "metadata": {
    "kernel": "Python 3 (ipykernel)",
    "nbgrader": {
     "grade": false,
     "grade_id": "c-039",
     "locked": false,
     "schema_version": 3,
     "solution": false,
     "task": false
    }
   },
   "outputs": [
    {
     "name": "stdout",
     "output_type": "stream",
     "text": [
      "Writing fork_execvp.c\n"
     ]
    }
   ],
   "source": [
    "%%writefile fork_execvp.c\n",
    "#include <err.h>\n",
    "#include <stdio.h>\n",
    "#include <stdlib.h>\n",
    "#include <unistd.h>\n",
    "#include <sys/types.h>\n",
    "#include <sys/wait.h>\n",
    "\n",
    "extern char ** environ;\n",
    "\n",
    "int main() {\n",
    "  pid_t pid = fork();           /* 現プロセスをコピー */\n",
    "  if (pid == -1) {\n",
    "    err(1, \"fork\");\n",
    "  } else if (pid == 0) {        /* 新しいプロセス(子プロセス) */\n",
    "    char * const argv[] = { \"ls\", \"-l\", 0 };\n",
    "    execvp(argv[0], argv);\n",
    "    /* 成功すればexecveはリターンしない.\n",
    "       i.e., リターンしたらエラー */\n",
    "    err(1, \"execve\");\n",
    "  } else {\n",
    "    int ws;\n",
    "    pid_t cid = waitpid(pid, &ws, 0);\n",
    "    if (cid == -1) err(1, \"waitpid\");\n",
    "    if (WIFEXITED(ws)) {\n",
    "      printf(\"exited, status=%d\\n\", WEXITSTATUS(ws));\n",
    "      fflush(stdout);\n",
    "    } else if (WIFSIGNALED(ws)) {\n",
    "      printf(\"killed by signal %d\\n\", WTERMSIG(ws));\n",
    "      fflush(stdout);\n",
    "    }\n",
    "  }\n",
    "  return 0;\n",
    "}"
   ]
  },
  {
   "cell_type": "code",
   "execution_count": 25,
   "metadata": {
    "kernel": "Bash",
    "nbgrader": {
     "grade": false,
     "grade_id": "c-040",
     "locked": false,
     "schema_version": 3,
     "solution": false,
     "task": false
    }
   },
   "outputs": [],
   "source": [
    "gcc -Wall fork_execvp.c -o fork_execvp"
   ]
  },
  {
   "cell_type": "code",
   "execution_count": 26,
   "metadata": {
    "kernel": "Bash",
    "nbgrader": {
     "grade": false,
     "grade_id": "c-041",
     "locked": false,
     "schema_version": 3,
     "solution": false,
     "task": false
    }
   },
   "outputs": [
    {
     "name": "stdout",
     "output_type": "stream",
     "text": [
      "total 164\n",
      "-rwxr-xr-x 1 u24280 u24280 16128 Oct 19 22:01 fork\n",
      "-rw-r--r-- 1 u24280 u24280   222 Oct 19 22:00 fork.c\n",
      "-rwxr-xr-x 1 u24280 u24280 16272 Oct 19 22:01 fork_execv\n",
      "-rw-r--r-- 1 u24280 u24280   874 Oct 19 22:01 fork_execv.c\n",
      "-rwxr-xr-x 1 u24280 u24280 16272 Oct 19 22:01 fork_execvp\n",
      "-rw-r--r-- 1 u24280 u24280   870 Oct 19 22:01 fork_execvp.c\n",
      "-rw-r--r-- 1 u24280 u24280   383 Oct 19 22:01 fork_execv.py\n",
      "-rwxr-xr-x 1 u24280 u24280 16216 Oct 19 22:01 fork_pc\n",
      "-rw-r--r-- 1 u24280 u24280   722 Oct 19 22:01 fork_pc.c\n",
      "-rw-r--r-- 1 u24280 u24280   406 Oct 19 22:01 fork_pc.py\n",
      "-rw-r--r-- 1 u24280 u24280   108 Oct 19 22:01 fork.py\n",
      "-rwxr-xr-x 1 u24280 u24280 16312 Oct 19 22:01 fork_wait\n",
      "-rw-r--r-- 1 u24280 u24280   804 Oct 19 22:01 fork_wait.c\n",
      "-rw-r--r-- 1 u24280 u24280   594 Oct 19 22:01 fork_wait.py\n",
      "-rw-r--r-- 1 u24280 u24280 48643 Oct 19 21:55 os02_process.sos.ipynb\n",
      "exited, status=0\n"
     ]
    }
   ],
   "source": [
    "./fork_execvp"
   ]
  },
  {
   "cell_type": "markdown",
   "metadata": {
    "deletable": false,
    "editable": false,
    "kernel": "SoS",
    "nbgrader": {
     "cell_type": "markdown",
     "checksum": "b778feb4a5eada040414c4212ff97985",
     "grade": false,
     "grade_id": "c-042",
     "locked": true,
     "schema_version": 3,
     "solution": false,
     "task": false
    }
   },
   "source": [
    "## 6-2. Python"
   ]
  },
  {
   "cell_type": "code",
   "execution_count": 27,
   "metadata": {
    "kernel": "Python 3 (ipykernel)",
    "nbgrader": {
     "grade": false,
     "grade_id": "c-043",
     "locked": false,
     "schema_version": 3,
     "solution": false,
     "task": false
    }
   },
   "outputs": [
    {
     "name": "stdout",
     "output_type": "stream",
     "text": [
      "Writing fork_execvp.py\n"
     ]
    }
   ],
   "source": [
    "%%writefile fork_execvp.py\n",
    "import os\n",
    "\n",
    "pid = os.fork()\n",
    "if pid == 0:                    # 新しいプロセス(子プロセス)\n",
    "    argv = [ \"ls\", \"-l\" ]\n",
    "    os.execvp(argv[0], argv)\n",
    "else:\n",
    "    cid, ws = os.waitpid(pid, 0)\n",
    "    if os.WIFEXITED(ws):\n",
    "        print(f\"exited, status={os.WEXITSTATUS(ws)}\", flush=True)\n",
    "    elif os.WIFSIGNALED(ws):\n",
    "        print(f\"killed by signal {os.WTERMSIG(ws)}\", flush=True)"
   ]
  },
  {
   "cell_type": "code",
   "execution_count": 28,
   "metadata": {
    "kernel": "Bash",
    "nbgrader": {
     "grade": false,
     "grade_id": "c-044",
     "locked": false,
     "schema_version": 3,
     "solution": false,
     "task": false
    }
   },
   "outputs": [
    {
     "name": "stdout",
     "output_type": "stream",
     "text": [
      "total 168\n",
      "-rwxr-xr-x 1 u24280 u24280 16128 Oct 19 22:01 fork\n",
      "-rw-r--r-- 1 u24280 u24280   222 Oct 19 22:00 fork.c\n",
      "-rwxr-xr-x 1 u24280 u24280 16272 Oct 19 22:01 fork_execv\n",
      "-rw-r--r-- 1 u24280 u24280   874 Oct 19 22:01 fork_execv.c\n",
      "-rwxr-xr-x 1 u24280 u24280 16272 Oct 19 22:01 fork_execvp\n",
      "-rw-r--r-- 1 u24280 u24280   870 Oct 19 22:01 fork_execvp.c\n",
      "-rw-r--r-- 1 u24280 u24280   379 Oct 19 22:01 fork_execvp.py\n",
      "-rw-r--r-- 1 u24280 u24280   383 Oct 19 22:01 fork_execv.py\n",
      "-rwxr-xr-x 1 u24280 u24280 16216 Oct 19 22:01 fork_pc\n",
      "-rw-r--r-- 1 u24280 u24280   722 Oct 19 22:01 fork_pc.c\n",
      "-rw-r--r-- 1 u24280 u24280   406 Oct 19 22:01 fork_pc.py\n",
      "-rw-r--r-- 1 u24280 u24280   108 Oct 19 22:01 fork.py\n",
      "-rwxr-xr-x 1 u24280 u24280 16312 Oct 19 22:01 fork_wait\n",
      "-rw-r--r-- 1 u24280 u24280   804 Oct 19 22:01 fork_wait.c\n",
      "-rw-r--r-- 1 u24280 u24280   594 Oct 19 22:01 fork_wait.py\n",
      "-rw-r--r-- 1 u24280 u24280 48643 Oct 19 21:55 os02_process.sos.ipynb\n",
      "exited, status=0\n"
     ]
    }
   ],
   "source": [
    "python3 fork_execvp.py"
   ]
  },
  {
   "cell_type": "markdown",
   "metadata": {
    "deletable": false,
    "editable": false,
    "kernel": "SoS",
    "nbgrader": {
     "cell_type": "markdown",
     "checksum": "0a6a52ff2ec491f8972b0eb19b2380b8",
     "grade": false,
     "grade_id": "c-045",
     "locked": true,
     "schema_version": 3,
     "solution": false,
     "task": false
    }
   },
   "source": [
    "* なお, PATHの中身を見て, コマンド名に対応するファイル名を表示してくれるのが which というコマンド\n",
    "* コマンドを打ち込んで実行されているファイルがどこにあるのかを知りたいときに使う\n",
    "* Linux, Macを使っている人は普段使っているプログラム, firefox, zoomなどがどこにあるのかを探ってみよ"
   ]
  },
  {
   "cell_type": "code",
   "execution_count": 30,
   "metadata": {
    "kernel": "Bash",
    "nbgrader": {
     "grade": false,
     "grade_id": "c-046",
     "locked": false,
     "schema_version": 3,
     "solution": false,
     "task": false
    }
   },
   "outputs": [
    {
     "ename": "",
     "evalue": "1",
     "output_type": "error",
     "traceback": []
    }
   ],
   "source": [
    "which firefox\n",
    "which zoom"
   ]
  },
  {
   "cell_type": "markdown",
   "metadata": {
    "deletable": false,
    "editable": false,
    "kernel": "SoS",
    "nbgrader": {
     "cell_type": "markdown",
     "checksum": "5fd1f05fe67ff6de9bca60f80a5c60f9",
     "grade": false,
     "grade_id": "c-047",
     "locked": true,
     "schema_version": 3,
     "solution": false,
     "task": false
    }
   },
   "source": [
    "# 7. forkにまつわる悲劇\n",
    "* 以下のようなプログラムを書いたらプロセスはいくつ生成されるのだろう?\n",
    "* そして以下を実行するとどんな表示が出てくるか?\n",
    "* 頭で予想してから実行してみよ\n",
    "* n=100としたら何が起こるか(<- 決してやってはいけない)?\n",
    "\n",
    "## 7-1. C"
   ]
  },
  {
   "cell_type": "code",
   "execution_count": 40,
   "metadata": {
    "kernel": "Python 3 (ipykernel)",
    "nbgrader": {
     "grade": false,
     "grade_id": "c-048",
     "locked": false,
     "schema_version": 3,
     "solution": false,
     "task": false
    }
   },
   "outputs": [
    {
     "name": "stdout",
     "output_type": "stream",
     "text": [
      "Overwriting fork_n.c\n"
     ]
    }
   ],
   "source": [
    "%%writefile fork_n.c\n",
    "#include <stdio.h>\n",
    "#include <unistd.h>\n",
    "\n",
    "int main() {\n",
    "  int n = 1;\n",
    "  for (int i = 0; i < n; i++) {\n",
    "    pid_t cid = fork();\n",
    "    printf(\"%d -> %d: %d\\n\", getpid(), cid, i);\n",
    "    fflush(stdout);\n",
    "  }\n",
    "  return 0;\n",
    "}"
   ]
  },
  {
   "cell_type": "code",
   "execution_count": 41,
   "metadata": {
    "kernel": "Bash",
    "nbgrader": {
     "grade": false,
     "grade_id": "c-049",
     "locked": false,
     "schema_version": 3,
     "solution": false,
     "task": false
    }
   },
   "outputs": [],
   "source": [
    "gcc -Wall fork_n.c -o fork_n"
   ]
  },
  {
   "cell_type": "markdown",
   "metadata": {
    "deletable": false,
    "editable": false,
    "kernel": "SoS",
    "nbgrader": {
     "cell_type": "markdown",
     "checksum": "bc29cb69981746f9def19e54c8e5d84f",
     "grade": false,
     "grade_id": "c-050",
     "locked": true,
     "schema_version": 3,
     "solution": false,
     "task": false
    }
   },
   "source": [
    "* 以下を実行して (左側のファイル一覧から) out.txt を開いて見てみよ\n",
    "* プログラムと結果を見て, このプログラムを実行した結果何が起きたのかを考えよ (わかりにくければ n を小さくして)"
   ]
  },
  {
   "cell_type": "code",
   "execution_count": 42,
   "metadata": {
    "kernel": "Bash",
    "nbgrader": {
     "grade": false,
     "grade_id": "c-051",
     "locked": false,
     "schema_version": 3,
     "solution": false,
     "task": false
    }
   },
   "outputs": [],
   "source": [
    "./fork_n > out.txt"
   ]
  },
  {
   "cell_type": "markdown",
   "metadata": {
    "deletable": false,
    "editable": false,
    "kernel": "SoS",
    "nbgrader": {
     "cell_type": "markdown",
     "checksum": "b4da92a8e6d622fd3e7ec9fee92d981d",
     "grade": false,
     "grade_id": "c-052",
     "locked": true,
     "schema_version": 3,
     "solution": false,
     "task": false
    }
   },
   "source": [
    "## 7-2. Python"
   ]
  },
  {
   "cell_type": "code",
   "execution_count": 46,
   "metadata": {
    "kernel": "Python 3 (ipykernel)",
    "nbgrader": {
     "grade": false,
     "grade_id": "c-053",
     "locked": false,
     "schema_version": 3,
     "solution": false,
     "task": false
    }
   },
   "outputs": [
    {
     "name": "stdout",
     "output_type": "stream",
     "text": [
      "Writing fork_n.py\n"
     ]
    }
   ],
   "source": [
    "%%writefile fork_n.py\n",
    "import os\n",
    "\n",
    "n = 5\n",
    "for i in range(5):\n",
    "    cid = os.fork()\n",
    "    print(f\"{os.getpid()} -> {cid}\", flush=True)"
   ]
  },
  {
   "cell_type": "markdown",
   "metadata": {
    "deletable": false,
    "editable": false,
    "kernel": "SoS",
    "nbgrader": {
     "cell_type": "markdown",
     "checksum": "578b390032b91401cf713b08758680f4",
     "grade": false,
     "grade_id": "c-054",
     "locked": true,
     "schema_version": 3,
     "solution": false,
     "task": false
    }
   },
   "source": [
    "* 以下を実行して (左側のファイル一覧から) out.txt を開いて見てみよ\n",
    "* プログラムと結果を見て, このプログラムを実行した結果何が起きたのかを考えよ (わかりにくければ n を小さくして)"
   ]
  },
  {
   "cell_type": "code",
   "execution_count": 47,
   "metadata": {
    "kernel": "Bash",
    "nbgrader": {
     "grade": false,
     "grade_id": "c-055",
     "locked": false,
     "schema_version": 3,
     "solution": false,
     "task": false
    }
   },
   "outputs": [],
   "source": [
    "python3 fork_n.py > out.txt"
   ]
  },
  {
   "cell_type": "markdown",
   "metadata": {
    "deletable": false,
    "editable": false,
    "kernel": "SoS",
    "nbgrader": {
     "cell_type": "markdown",
     "checksum": "bff07e692e39caa36b35efbb89ad040b",
     "grade": false,
     "grade_id": "c-056",
     "locked": true,
     "schema_version": 3,
     "solution": false,
     "task": false
    }
   },
   "source": [
    "* 注: > out.txt なしで直接表示することもできるが, 結果をすべて出力てくれないことがしばしばある. これは多分, Jupyterのbashカーネルのバグ\n",
    "* 多分以下のように, このセルの終了まで間を作ると全部出力してくれる(Jupyterのバグを回避しているだけで全く本質的なことではない. 端末で実行すればこんなことをする必要はない)"
   ]
  },
  {
   "cell_type": "code",
   "execution_count": 48,
   "metadata": {
    "kernel": "Bash",
    "nbgrader": {
     "grade": false,
     "grade_id": "c-057",
     "locked": false,
     "schema_version": 3,
     "solution": false,
     "task": false
    }
   },
   "outputs": [
    {
     "name": "stdout",
     "output_type": "stream",
     "text": [
      "1250589 -> 1250590: 0\n",
      "1250589 -> 1250591: 1\n",
      "1250589 -> 1250592: 2\n",
      "1250589 -> 1250593: 3\n",
      "1250590 -> 0: 0\n",
      "1250589 -> 1250594: 4\n",
      "1250592 -> 0: 2\n",
      "1250591 -> 0: 1\n",
      "1250592 -> 1250596: 3\n",
      "1250590 -> 1250595: 1\n",
      "1250593 -> 0: 3\n",
      "1250592 -> 1250597: 4\n",
      "1250594 -> 0: 4\n",
      "1250591 -> 1250598: 2\n",
      "1250597 -> 0: 4\n",
      "1250596 -> 0: 3\n",
      "1250590 -> 1250599: 2\n",
      "1250595 -> 0: 1\n",
      "1250593 -> 1250600: 4\n",
      "1250598 -> 0: 2\n",
      "1250596 -> 1250601: 4\n",
      "1250599 -> 0: 2\n",
      "1250591 -> 1250602: 3\n",
      "1250590 -> 1250603: 3\n",
      "1250595 -> 1250604: 2\n",
      "1250600 -> 0: 4\n",
      "1250601 -> 0: 4\n",
      "1250598 -> 1250605: 3\n",
      "1250591 -> 1250606: 4\n",
      "1250602 -> 0: 3\n",
      "1250590 -> 1250608: 4\n",
      "1250599 -> 1250607: 3\n",
      "1250605 -> 0: 3\n",
      "1250595 -> 1250609: 3\n",
      "1250604 -> 0: 2\n",
      "1250608 -> 0: 4\n",
      "1250603 -> 0: 3\n",
      "1250598 -> 1250610: 4\n",
      "1250606 -> 0: 4\n",
      "1250607 -> 0: 3\n",
      "1250599 -> 1250611: 4\n",
      "1250602 -> 1250612: 4\n",
      "1250609 -> 0: 3\n",
      "1250595 -> 1250613: 4\n",
      "1250605 -> 1250614: 4\n",
      "1250612 -> 0: 4\n",
      "1250610 -> 0: 4\n",
      "1250603 -> 1250615: 4\n",
      "1250604 -> 1250616: 3\n",
      "1250611 -> 0: 4\n",
      "1250614 -> 0: 4\n",
      "1250607 -> 1250617: 4\n",
      "1250615 -> 0: 4\n",
      "1250616 -> 0: 3\n",
      "1250609 -> 1250618: 4\n",
      "1250613 -> 0: 4\n",
      "1250604 -> 1250619: 4\n",
      "1250618 -> 0: 4\n",
      "1250617 -> 0: 4\n",
      "1250616 -> 1250620: 4\n",
      "1250619 -> 0: 4\n",
      "1250620 -> 0: 4\n"
     ]
    }
   ],
   "source": [
    "./fork_n\n",
    "sleep 1 "
   ]
  },
  {
   "cell_type": "markdown",
   "metadata": {
    "deletable": false,
    "editable": false,
    "kernel": "SoS",
    "nbgrader": {
     "cell_type": "markdown",
     "checksum": "bd31fa061e503447dd2b79faec7b320c",
     "grade": false,
     "grade_id": "c-058",
     "locked": true,
     "schema_version": 3,
     "solution": false,
     "task": false
    }
   },
   "source": [
    "# <font color=\"green\"> Problem 1 :  fork, exec, waitの練習</font>\n",
    "以下を行うプログラムを書け\n",
    "\n",
    "1. 時刻をナノ秒単位で取得($t_0$とする)\n",
    "2. 以下を多数回($n$回)繰り返す\n",
    " * 子プロセスをforkする\n",
    "  * 子プロセスはただちに ./do_nothing という, 何もしないプログラムをexecする\n",
    "  * 親プロセスはただちに子プロセスの終了をwaitする\n",
    "3. 時刻をナノ秒単位で取得($t_1$とする)\n",
    "4. 1回あたりの時間($(t_1 - t_0)/n$) をナノ秒単位で出力\n",
    "\n",
    "* do_nothingは以下のような, 何もしないプログラム"
   ]
  },
  {
   "cell_type": "code",
   "execution_count": 104,
   "metadata": {
    "kernel": "Python 3 (ipykernel)",
    "nbgrader": {
     "grade": false,
     "grade_id": "c-059",
     "locked": false,
     "schema_version": 3,
     "solution": false,
     "task": false
    }
   },
   "outputs": [
    {
     "name": "stdout",
     "output_type": "stream",
     "text": [
      "Overwriting do_nothing.c\n"
     ]
    }
   ],
   "source": [
    "%%writefile do_nothing.c\n",
    "int main() {\n",
    "    return 0;\n",
    "}"
   ]
  },
  {
   "cell_type": "code",
   "execution_count": 105,
   "metadata": {
    "kernel": "Bash",
    "nbgrader": {
     "grade": false,
     "grade_id": "c-060",
     "locked": false,
     "schema_version": 3,
     "solution": false,
     "task": false
    }
   },
   "outputs": [],
   "source": [
    "gcc -Wall do_nothing.c -o do_nothing"
   ]
  },
  {
   "cell_type": "markdown",
   "metadata": {
    "deletable": false,
    "editable": false,
    "kernel": "SoS",
    "nbgrader": {
     "cell_type": "markdown",
     "checksum": "6e1a8a6782712f1d3da2cac117374fe4",
     "grade": false,
     "grade_id": "c-061",
     "locked": true,
     "schema_version": 3,
     "solution": false,
     "task": false
    }
   },
   "source": [
    "* $n$はコマンドラインから取得できるようにする\n",
    "* 以下のコードを修正して上記を達成せよ(PythonとC両方)\n",
    "\n",
    "## 7-3. C"
   ]
  },
  {
   "cell_type": "code",
   "execution_count": 120,
   "metadata": {
    "deletable": false,
    "kernel": "Python 3 (ipykernel)",
    "nbgrader": {
     "cell_type": "code",
     "checksum": "0b351857137a0ac5d2e4c9a131eed57c",
     "grade": true,
     "grade_id": "p-001",
     "locked": false,
     "points": 1,
     "schema_version": 3,
     "solution": true,
     "task": false
    }
   },
   "outputs": [
    {
     "name": "stdout",
     "output_type": "stream",
     "text": [
      "Overwriting time_fork_exec_wait.c\n"
     ]
    }
   ],
   "source": [
    "\n",
    "%%writefile time_fork_exec_wait.c\n",
    "#include <err.h>\n",
    "#include <stdio.h>\n",
    "#include <stdlib.h>\n",
    "#include <unistd.h>\n",
    "#include <time.h>\n",
    "#include <sys/types.h>\n",
    "#include <sys/wait.h>\n",
    "\n",
    "long cur_time() {\n",
    "  struct timespec ts[1];\n",
    "  clock_gettime(CLOCK_REALTIME, ts);\n",
    "  return ts->tv_sec * 1000000000L + ts->tv_nsec;\n",
    "}\n",
    "\n",
    "int main(int argc, char ** argv) {\n",
    "    int n = (argc > 1 ? atoi(argv[1]) : 5);\n",
    "    long t0 = cur_time();\n",
    "\n",
    "    for (int i=0;i<n;i++){\n",
    "        pid_t pid = fork();\n",
    "        if (pid == -1) {\n",
    "            err(1, \"fork\");\n",
    "        } else if (pid == 0) {\n",
    "            char* const argv[] = {\"./do_nothing\"};\n",
    "            execv(argv[0], argv);\n",
    "            exit(0);\n",
    "        } else {\n",
    "            int ws;\n",
    "            pid_t cid = waitpid(pid, &ws, 0);\n",
    "            if (cid == -1) err(1, \"waitpid\");\n",
    "        }\n",
    "    }\n",
    "\n",
    "    long t1 = cur_time();\n",
    "    long dt = t1 - t0;\n",
    "    printf(\"%ld nsec to fork-exec-wait %d processes (%ld nsec/proc)\\n\", dt, n, dt / n);\n",
    "    return 0;\n",
    "}"
   ]
  },
  {
   "cell_type": "code",
   "execution_count": 121,
   "metadata": {
    "deletable": false,
    "kernel": "Bash",
    "nbgrader": {
     "cell_type": "code",
     "checksum": "fe7e3ecb23e4444073a9a9f2951c3d25",
     "grade": true,
     "grade_id": "p-002",
     "locked": false,
     "points": 1,
     "schema_version": 3,
     "solution": true,
     "task": false
    }
   },
   "outputs": [],
   "source": [
    "gcc -Wall time_fork_exec_wait.c -o time_fork_exec_wait"
   ]
  },
  {
   "cell_type": "markdown",
   "metadata": {
    "deletable": false,
    "editable": false,
    "kernel": "SoS",
    "nbgrader": {
     "cell_type": "markdown",
     "checksum": "876caeb64265248a6ccb43c21e7b9b5e",
     "grade": false,
     "grade_id": "c-062",
     "locked": true,
     "schema_version": 3,
     "solution": false,
     "task": false
    }
   },
   "source": [
    "* 同様に以下のコマンドラインを色々変更して, 1回あたりの時間を計測せよ"
   ]
  },
  {
   "cell_type": "code",
   "execution_count": 122,
   "metadata": {
    "deletable": false,
    "kernel": "Bash",
    "nbgrader": {
     "cell_type": "code",
     "checksum": "5047123777f5f50e378cd58b247d06eb",
     "grade": true,
     "grade_id": "p-003",
     "locked": false,
     "points": 1,
     "schema_version": 3,
     "solution": true,
     "task": false
    }
   },
   "outputs": [
    {
     "name": "stdout",
     "output_type": "stream",
     "text": [
      "6722782 nsec to fork-exec-wait 10 processes (672278 nsec/proc)\n"
     ]
    }
   ],
   "source": [
    "./time_fork_exec_wait 10"
   ]
  },
  {
   "cell_type": "markdown",
   "metadata": {
    "deletable": false,
    "editable": false,
    "kernel": "SoS",
    "nbgrader": {
     "cell_type": "markdown",
     "checksum": "71603644c2726d3412062700de33e359",
     "grade": false,
     "grade_id": "c-063",
     "locked": true,
     "schema_version": 3,
     "solution": false,
     "task": false
    }
   },
   "source": [
    "## 7-4. Python"
   ]
  },
  {
   "cell_type": "code",
   "execution_count": 126,
   "metadata": {
    "deletable": false,
    "kernel": "Python 3 (ipykernel)",
    "nbgrader": {
     "cell_type": "code",
     "checksum": "68e2dbab259cbd5efe0082bd8426af1e",
     "grade": true,
     "grade_id": "p-004",
     "locked": false,
     "points": 1,
     "schema_version": 3,
     "solution": true,
     "task": false
    }
   },
   "outputs": [
    {
     "name": "stdout",
     "output_type": "stream",
     "text": [
      "Overwriting time_fork_exec_wait.py\n"
     ]
    }
   ],
   "source": [
    "\n",
    "%%writefile time_fork_exec_wait.py\n",
    "import os\n",
    "import sys\n",
    "import time\n",
    "\n",
    "def cur_time():\n",
    "    return int(time.time() * 1.0e9)\n",
    "\n",
    "def main():\n",
    "    n = int(sys.argv[1]) if 1 < len(sys.argv) else 5\n",
    "    t0 = cur_time()\n",
    "\n",
    "    for i in range(n):\n",
    "        pid = os.fork()\n",
    "        if pid == 0:\n",
    "            argv = [\"./do_nothing\"]\n",
    "            os.execv(argv[0], argv)\n",
    "            sys.exit()\n",
    "        else:\n",
    "            os.waitpid(pid, 0)\n",
    "  \n",
    "    t1 = cur_time()\n",
    "    dt = t1 - t0\n",
    "    print(f\"{dt} nsec to fork-exec-wait {n} processes ({dt / n} nsec/proc)\")\n",
    "\n",
    "main()"
   ]
  },
  {
   "cell_type": "markdown",
   "metadata": {
    "deletable": false,
    "editable": false,
    "kernel": "SoS",
    "nbgrader": {
     "cell_type": "markdown",
     "checksum": "be3e00c53d6ee8b7b78558326df50229",
     "grade": false,
     "grade_id": "c-064",
     "locked": true,
     "schema_version": 3,
     "solution": false,
     "task": false
    }
   },
   "source": [
    "* 以下のコマンドラインを色々変更して, 1回あたりの時間を計測せよ\n",
    "* これは概ね, fork + exec + exit + wait の時間 (プログラムを起動して終了するまでにかかる最小の時間)を計測していることに相当する\n",
    "* 正しく動いているかを確認するために, do_nothingで何かをprintするとか, time_fork_exec_wait中でwaitpidの結果を表示するようにせよ\n",
    "* 時間を計測するときはそれらの表示を消すこと(消さないと, 測っているのは出力時間が大半を占めることになる)"
   ]
  },
  {
   "cell_type": "code",
   "execution_count": 128,
   "metadata": {
    "deletable": false,
    "kernel": "Bash",
    "nbgrader": {
     "cell_type": "code",
     "checksum": "ddf16c89c0924e66cb5e5f5477167f64",
     "grade": true,
     "grade_id": "p-005",
     "locked": false,
     "points": 1,
     "schema_version": 3,
     "solution": true,
     "task": false
    }
   },
   "outputs": [
    {
     "name": "stdout",
     "output_type": "stream",
     "text": [
      "24167936 nsec to fork-exec-wait 10 processes (2416793.6 nsec/proc)\n"
     ]
    }
   ],
   "source": [
    "python3 time_fork_exec_wait.py 10"
   ]
  },
  {
   "cell_type": "markdown",
   "metadata": {
    "deletable": false,
    "editable": false,
    "kernel": "SoS",
    "nbgrader": {
     "cell_type": "markdown",
     "checksum": "ac3edb593079e8bff0631bce182d71c8",
     "grade": false,
     "grade_id": "c-065",
     "locked": true,
     "schema_version": 3,
     "solution": false,
     "task": false
    }
   },
   "source": [
    "# <font color=\"green\"> Problem 2 :  fork + waitの測定</font>\n",
    "* 子プロセスが do_nothing を exec する代わりに, 直ちにexit した場合の時間(fork + wait の時間)も計測せよ\n",
    "\n",
    "## 7-5. C"
   ]
  },
  {
   "cell_type": "code",
   "execution_count": 110,
   "metadata": {
    "deletable": false,
    "kernel": "Python 3 (ipykernel)",
    "nbgrader": {
     "cell_type": "code",
     "checksum": "b505036dc59986e6b42fce07d7274404",
     "grade": true,
     "grade_id": "p-006",
     "locked": false,
     "points": 1,
     "schema_version": 3,
     "solution": true,
     "task": false
    }
   },
   "outputs": [
    {
     "name": "stdout",
     "output_type": "stream",
     "text": [
      "Overwriting time_fork_exit_wait.c\n"
     ]
    }
   ],
   "source": [
    "\n",
    "%%writefile time_fork_exit_wait.c\n",
    "#include <err.h>\n",
    "#include <stdio.h>\n",
    "#include <stdlib.h>\n",
    "#include <unistd.h>\n",
    "#include <time.h>\n",
    "#include <sys/types.h>\n",
    "#include <sys/wait.h>\n",
    "\n",
    "long cur_time() {\n",
    "  struct timespec ts[1];\n",
    "  clock_gettime(CLOCK_REALTIME, ts);\n",
    "  return ts->tv_sec * 1000000000L + ts->tv_nsec;\n",
    "}\n",
    "\n",
    "int main(int argc, char ** argv) {\n",
    "    int n = (argc > 1 ? atoi(argv[1]) : 5);\n",
    "    long t0 = cur_time();\n",
    "  \n",
    "    for (int i=0;i<n;i++){\n",
    "        pid_t pid = fork();\n",
    "        if (pid == -1) {\n",
    "            err(1, \"fork\");\n",
    "        } else if (pid == 0) {\n",
    "            exit(0);\n",
    "        } else {\n",
    "            int ws;\n",
    "            pid_t cid = waitpid(pid, &ws, 0);\n",
    "            if (cid == -1) err(1, \"waitpid\");\n",
    "        }\n",
    "    }\n",
    "\n",
    "  \n",
    "    long t1 = cur_time();\n",
    "    long dt = t1 - t0;\n",
    "    printf(\"%ld nsec to fork-wait %d processes (%ld nsec/proc)\\n\",dt, n, dt / n);\n",
    "    return 0;\n",
    "}"
   ]
  },
  {
   "cell_type": "code",
   "execution_count": 111,
   "metadata": {
    "deletable": false,
    "kernel": "Bash",
    "nbgrader": {
     "cell_type": "code",
     "checksum": "4fab6cb160cee390f4bdbc1a19ae8e6b",
     "grade": true,
     "grade_id": "p-007",
     "locked": false,
     "points": 1,
     "schema_version": 3,
     "solution": true,
     "task": false
    }
   },
   "outputs": [],
   "source": [
    "\n",
    "gcc -Wall time_fork_exit_wait.c -o time_fork_exit_wait"
   ]
  },
  {
   "cell_type": "code",
   "execution_count": 112,
   "metadata": {
    "deletable": false,
    "kernel": "Bash",
    "nbgrader": {
     "cell_type": "code",
     "checksum": "ea1f41156493285a484760c304a53b8a",
     "grade": true,
     "grade_id": "p-008",
     "locked": false,
     "points": 1,
     "schema_version": 3,
     "solution": true,
     "task": false
    }
   },
   "outputs": [
    {
     "name": "stdout",
     "output_type": "stream",
     "text": [
      "5590582 nsec to fork-wait 10 processes (559058 nsec/proc)\n"
     ]
    }
   ],
   "source": [
    "\n",
    "./time_fork_exit_wait 10"
   ]
  },
  {
   "cell_type": "markdown",
   "metadata": {
    "deletable": false,
    "editable": false,
    "kernel": "SoS",
    "nbgrader": {
     "cell_type": "markdown",
     "checksum": "7aecf6fed856e01d917c31b295e4ca3e",
     "grade": false,
     "grade_id": "c-066",
     "locked": true,
     "schema_version": 3,
     "solution": false,
     "task": false
    }
   },
   "source": [
    "## 7-6. Python"
   ]
  },
  {
   "cell_type": "code",
   "execution_count": 129,
   "metadata": {
    "deletable": false,
    "kernel": "Python 3 (ipykernel)",
    "nbgrader": {
     "cell_type": "code",
     "checksum": "e35c931fa0eb06915378857d783594d4",
     "grade": true,
     "grade_id": "p-009",
     "locked": false,
     "points": 1,
     "schema_version": 3,
     "solution": true,
     "task": false
    }
   },
   "outputs": [
    {
     "name": "stdout",
     "output_type": "stream",
     "text": [
      "Overwriting time_fork_exit_wait.py\n"
     ]
    }
   ],
   "source": [
    "\n",
    "%%writefile time_fork_exit_wait.py\n",
    "import os\n",
    "import sys\n",
    "import time\n",
    "\n",
    "def cur_time():\n",
    "    return int(time.time() * 1.0e9)\n",
    "\n",
    "def main():\n",
    "    n = int(sys.argv[1]) if 1 < len(sys.argv) else 5\n",
    "    t0 = cur_time()\n",
    "\n",
    "  \n",
    "    for i in range(n):\n",
    "        pid = os.fork()\n",
    "        if pid == 0:\n",
    "            sys.exit()\n",
    "        else:\n",
    "            os.waitpid(pid, 0)\n",
    "\n",
    "  \n",
    "    t1 = cur_time()\n",
    "    dt = t1 - t0\n",
    "    print(f\"{dt} nsec to fork-wait {n} processes ({dt / n} nsec/proc)\")\n",
    "\n",
    "main()"
   ]
  },
  {
   "cell_type": "code",
   "execution_count": 132,
   "metadata": {
    "deletable": false,
    "kernel": "Bash",
    "nbgrader": {
     "cell_type": "code",
     "checksum": "15df8288215ae7dacf4a1660761e78de",
     "grade": true,
     "grade_id": "p-010",
     "locked": false,
     "points": 1,
     "schema_version": 3,
     "solution": true,
     "task": false
    }
   },
   "outputs": [
    {
     "name": "stdout",
     "output_type": "stream",
     "text": [
      "100254720 nsec to fork-wait 10 processes (10025472.0 nsec/proc)\n"
     ]
    }
   ],
   "source": [
    "python3 time_fork_exit_wait.py 10"
   ]
  },
  {
   "cell_type": "code",
   "execution_count": null,
   "metadata": {
    "kernel": "Bash"
   },
   "outputs": [],
   "source": []
  }
 ],
 "metadata": {
  "kernelspec": {
   "display_name": "SoS",
   "language": "sos",
   "name": "sos"
  },
  "language_info": {
   "codemirror_mode": "sos",
   "file_extension": ".sos",
   "mimetype": "text/x-sos",
   "name": "sos",
   "nbconvert_exporter": "sos_notebook.converter.SoS_Exporter",
   "pygments_lexer": "sos"
  },
  "sos": {
   "kernels": [
    [
     "Bash",
     "bash",
     "bash",
     "",
     "shell"
    ],
    [
     "C",
     "c_kernel",
     "c",
     "",
     ""
    ],
    [
     "Go",
     "gophernotes",
     "go",
     "",
     ""
    ],
    [
     "Julia 1.10.2",
     "julia-1.10",
     "julia",
     "",
     ""
    ],
    [
     "OCaml default",
     "ocaml-jupyter",
     "OCaml",
     "",
     "text/x-ocaml"
    ],
    [
     "Python 3 (ipykernel)",
     "python3",
     "python3",
     "",
     {
      "name": "ipython",
      "version": 3
     }
    ],
    [
     "Rust",
     "rust",
     "rust",
     "",
     ""
    ]
   ],
   "panel": {
    "displayed": true,
    "height": 0
   },
   "version": "0.23.3"
  }
 },
 "nbformat": 4,
 "nbformat_minor": 4
}
